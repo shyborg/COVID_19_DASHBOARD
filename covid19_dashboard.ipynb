{
  "nbformat": 4,
  "nbformat_minor": 0,
  "metadata": {
    "kernelspec": {
      "display_name": "Python 3",
      "language": "python",
      "name": "python3"
    },
    "language_info": {
      "codemirror_mode": {
        "name": "ipython",
        "version": 3
      },
      "file_extension": ".py",
      "mimetype": "text/x-python",
      "name": "python",
      "nbconvert_exporter": "python",
      "pygments_lexer": "ipython3",
      "version": "3.7.4"
    },
    "colab": {
      "name": "covid19_dashboard.ipynb",
      "provenance": [],
      "collapsed_sections": []
    },
    "widgets": {
      "application/vnd.jupyter.widget-state+json": {
        "12467ffc0bb941af88a4fec2aa5e6ccd": {
          "model_module": "@jupyter-widgets/controls",
          "model_name": "VBoxModel",
          "model_module_version": "1.5.0",
          "state": {
            "_view_name": "VBoxView",
            "_dom_classes": [
              "widget-interact"
            ],
            "_model_name": "VBoxModel",
            "_view_module": "@jupyter-widgets/controls",
            "_model_module_version": "1.5.0",
            "_view_count": null,
            "_view_module_version": "1.5.0",
            "box_style": "",
            "layout": "IPY_MODEL_a78e4d531450408aab05339d4bb662ca",
            "_model_module": "@jupyter-widgets/controls",
            "children": [
              "IPY_MODEL_de78da015cc247bfad2435cf06a551d4",
              "IPY_MODEL_e1650c3138cd49929bd857bc9321ddbc"
            ]
          }
        },
        "a78e4d531450408aab05339d4bb662ca": {
          "model_module": "@jupyter-widgets/base",
          "model_name": "LayoutModel",
          "model_module_version": "1.2.0",
          "state": {
            "_view_name": "LayoutView",
            "grid_template_rows": null,
            "right": null,
            "justify_content": null,
            "_view_module": "@jupyter-widgets/base",
            "overflow": null,
            "_model_module_version": "1.2.0",
            "_view_count": null,
            "flex_flow": null,
            "width": null,
            "min_width": null,
            "border": null,
            "align_items": null,
            "bottom": null,
            "_model_module": "@jupyter-widgets/base",
            "top": null,
            "grid_column": null,
            "overflow_y": null,
            "overflow_x": null,
            "grid_auto_flow": null,
            "grid_area": null,
            "grid_template_columns": null,
            "flex": null,
            "_model_name": "LayoutModel",
            "justify_items": null,
            "grid_row": null,
            "max_height": null,
            "align_content": null,
            "visibility": null,
            "align_self": null,
            "height": null,
            "min_height": null,
            "padding": null,
            "grid_auto_rows": null,
            "grid_gap": null,
            "max_width": null,
            "order": null,
            "_view_module_version": "1.2.0",
            "grid_template_areas": null,
            "object_position": null,
            "object_fit": null,
            "grid_auto_columns": null,
            "margin": null,
            "display": null,
            "left": null
          }
        },
        "de78da015cc247bfad2435cf06a551d4": {
          "model_module": "@jupyter-widgets/controls",
          "model_name": "TextModel",
          "model_module_version": "1.5.0",
          "state": {
            "_view_name": "TextView",
            "style": "IPY_MODEL_890f924efde64d13959d5884ca55c04d",
            "_dom_classes": [],
            "description": "n",
            "_model_name": "TextModel",
            "placeholder": "​",
            "_view_module": "@jupyter-widgets/controls",
            "_model_module_version": "1.5.0",
            "value": "10",
            "_view_count": null,
            "disabled": false,
            "_view_module_version": "1.5.0",
            "continuous_update": true,
            "description_tooltip": null,
            "_model_module": "@jupyter-widgets/controls",
            "layout": "IPY_MODEL_5e59a1d467be4fea948f4f26ad680bcd"
          }
        },
        "e1650c3138cd49929bd857bc9321ddbc": {
          "model_module": "@jupyter-widgets/output",
          "model_name": "OutputModel",
          "model_module_version": "1.0.0",
          "state": {
            "_view_name": "OutputView",
            "msg_id": "",
            "_dom_classes": [],
            "_model_name": "OutputModel",
            "outputs": [
              {
                "output_type": "display_data",
                "data": {
                  "text/html": "<style  type=\"text/css\" >\n#T_9deaa75e_5123_11ec_984e_0242ac1c0002row0_col4,#T_9deaa75e_5123_11ec_984e_0242ac1c0002row1_col4,#T_9deaa75e_5123_11ec_984e_0242ac1c0002row2_col4,#T_9deaa75e_5123_11ec_984e_0242ac1c0002row3_col4,#T_9deaa75e_5123_11ec_984e_0242ac1c0002row4_col4,#T_9deaa75e_5123_11ec_984e_0242ac1c0002row5_col4,#T_9deaa75e_5123_11ec_984e_0242ac1c0002row6_col4,#T_9deaa75e_5123_11ec_984e_0242ac1c0002row7_col4,#T_9deaa75e_5123_11ec_984e_0242ac1c0002row8_col4,#T_9deaa75e_5123_11ec_984e_0242ac1c0002row9_col4{\n            background-color:  purple;\n        }#T_9deaa75e_5123_11ec_984e_0242ac1c0002row0_col5,#T_9deaa75e_5123_11ec_984e_0242ac1c0002row1_col5,#T_9deaa75e_5123_11ec_984e_0242ac1c0002row2_col5,#T_9deaa75e_5123_11ec_984e_0242ac1c0002row3_col5,#T_9deaa75e_5123_11ec_984e_0242ac1c0002row4_col5,#T_9deaa75e_5123_11ec_984e_0242ac1c0002row5_col5,#T_9deaa75e_5123_11ec_984e_0242ac1c0002row6_col5,#T_9deaa75e_5123_11ec_984e_0242ac1c0002row7_col5,#T_9deaa75e_5123_11ec_984e_0242ac1c0002row8_col5,#T_9deaa75e_5123_11ec_984e_0242ac1c0002row9_col5{\n            background-color:  red;\n        }#T_9deaa75e_5123_11ec_984e_0242ac1c0002row0_col6,#T_9deaa75e_5123_11ec_984e_0242ac1c0002row1_col6,#T_9deaa75e_5123_11ec_984e_0242ac1c0002row2_col6,#T_9deaa75e_5123_11ec_984e_0242ac1c0002row3_col6,#T_9deaa75e_5123_11ec_984e_0242ac1c0002row4_col6,#T_9deaa75e_5123_11ec_984e_0242ac1c0002row5_col6,#T_9deaa75e_5123_11ec_984e_0242ac1c0002row6_col6,#T_9deaa75e_5123_11ec_984e_0242ac1c0002row7_col6,#T_9deaa75e_5123_11ec_984e_0242ac1c0002row8_col6,#T_9deaa75e_5123_11ec_984e_0242ac1c0002row9_col6{\n            background-color:  grey;\n        }</style><table id=\"T_9deaa75e_5123_11ec_984e_0242ac1c0002\" class=\"dataframe\"><thead>    <tr>        <th class=\"blank level0\" ></th>        <th class=\"col_heading level0 col0\" >country</th>        <th class=\"col_heading level0 col1\" >last_update</th>        <th class=\"col_heading level0 col2\" >lat</th>        <th class=\"col_heading level0 col3\" >long_</th>        <th class=\"col_heading level0 col4\" >confirmed</th>        <th class=\"col_heading level0 col5\" >deaths</th>        <th class=\"col_heading level0 col6\" >recovered</th>        <th class=\"col_heading level0 col7\" >active</th>        <th class=\"col_heading level0 col8\" >incident_rate</th>        <th class=\"col_heading level0 col9\" >people_tested</th>        <th class=\"col_heading level0 col10\" >people_hospitalized</th>        <th class=\"col_heading level0 col11\" >mortality_rate</th>        <th class=\"col_heading level0 col12\" >uid</th>        <th class=\"col_heading level0 col13\" >iso3</th>        <th class=\"col_heading level0 col14\" >cases_28_days</th>        <th class=\"col_heading level0 col15\" >deaths_28_days</th>    </tr></thead><tbody>\n                <tr>\n                        <th id=\"T_9deaa75e_5123_11ec_984e_0242ac1c0002level0_row0\" class=\"row_heading level0 row0\" >182</th>\n                        <td id=\"T_9deaa75e_5123_11ec_984e_0242ac1c0002row0_col0\" class=\"data row0 col0\" >US</td>\n                        <td id=\"T_9deaa75e_5123_11ec_984e_0242ac1c0002row0_col1\" class=\"data row0 col1\" >2021-11-29 14:22:28</td>\n                        <td id=\"T_9deaa75e_5123_11ec_984e_0242ac1c0002row0_col2\" class=\"data row0 col2\" >40.000000</td>\n                        <td id=\"T_9deaa75e_5123_11ec_984e_0242ac1c0002row0_col3\" class=\"data row0 col3\" >-100.000000</td>\n                        <td id=\"T_9deaa75e_5123_11ec_984e_0242ac1c0002row0_col4\" class=\"data row0 col4\" >48235005</td>\n                        <td id=\"T_9deaa75e_5123_11ec_984e_0242ac1c0002row0_col5\" class=\"data row0 col5\" >776651</td>\n                        <td id=\"T_9deaa75e_5123_11ec_984e_0242ac1c0002row0_col6\" class=\"data row0 col6\" >nan</td>\n                        <td id=\"T_9deaa75e_5123_11ec_984e_0242ac1c0002row0_col7\" class=\"data row0 col7\" >nan</td>\n                        <td id=\"T_9deaa75e_5123_11ec_984e_0242ac1c0002row0_col8\" class=\"data row0 col8\" >14640.346369</td>\n                        <td id=\"T_9deaa75e_5123_11ec_984e_0242ac1c0002row0_col9\" class=\"data row0 col9\" >nan</td>\n                        <td id=\"T_9deaa75e_5123_11ec_984e_0242ac1c0002row0_col10\" class=\"data row0 col10\" >nan</td>\n                        <td id=\"T_9deaa75e_5123_11ec_984e_0242ac1c0002row0_col11\" class=\"data row0 col11\" >1.610140</td>\n                        <td id=\"T_9deaa75e_5123_11ec_984e_0242ac1c0002row0_col12\" class=\"data row0 col12\" >840</td>\n                        <td id=\"T_9deaa75e_5123_11ec_984e_0242ac1c0002row0_col13\" class=\"data row0 col13\" >USA</td>\n                        <td id=\"T_9deaa75e_5123_11ec_984e_0242ac1c0002row0_col14\" class=\"data row0 col14\" >2221868</td>\n                        <td id=\"T_9deaa75e_5123_11ec_984e_0242ac1c0002row0_col15\" class=\"data row0 col15\" >29450</td>\n            </tr>\n            <tr>\n                        <th id=\"T_9deaa75e_5123_11ec_984e_0242ac1c0002level0_row1\" class=\"row_heading level0 row1\" >79</th>\n                        <td id=\"T_9deaa75e_5123_11ec_984e_0242ac1c0002row1_col0\" class=\"data row1 col0\" >India</td>\n                        <td id=\"T_9deaa75e_5123_11ec_984e_0242ac1c0002row1_col1\" class=\"data row1 col1\" >2021-11-29 14:22:28</td>\n                        <td id=\"T_9deaa75e_5123_11ec_984e_0242ac1c0002row1_col2\" class=\"data row1 col2\" >20.593684</td>\n                        <td id=\"T_9deaa75e_5123_11ec_984e_0242ac1c0002row1_col3\" class=\"data row1 col3\" >78.962880</td>\n                        <td id=\"T_9deaa75e_5123_11ec_984e_0242ac1c0002row1_col4\" class=\"data row1 col4\" >34580832</td>\n                        <td id=\"T_9deaa75e_5123_11ec_984e_0242ac1c0002row1_col5\" class=\"data row1 col5\" >468790</td>\n                        <td id=\"T_9deaa75e_5123_11ec_984e_0242ac1c0002row1_col6\" class=\"data row1 col6\" >nan</td>\n                        <td id=\"T_9deaa75e_5123_11ec_984e_0242ac1c0002row1_col7\" class=\"data row1 col7\" >nan</td>\n                        <td id=\"T_9deaa75e_5123_11ec_984e_0242ac1c0002row1_col8\" class=\"data row1 col8\" >2505.849429</td>\n                        <td id=\"T_9deaa75e_5123_11ec_984e_0242ac1c0002row1_col9\" class=\"data row1 col9\" >nan</td>\n                        <td id=\"T_9deaa75e_5123_11ec_984e_0242ac1c0002row1_col10\" class=\"data row1 col10\" >nan</td>\n                        <td id=\"T_9deaa75e_5123_11ec_984e_0242ac1c0002row1_col11\" class=\"data row1 col11\" >1.355635</td>\n                        <td id=\"T_9deaa75e_5123_11ec_984e_0242ac1c0002row1_col12\" class=\"data row1 col12\" >356</td>\n                        <td id=\"T_9deaa75e_5123_11ec_984e_0242ac1c0002row1_col13\" class=\"data row1 col13\" >IND</td>\n                        <td id=\"T_9deaa75e_5123_11ec_984e_0242ac1c0002row1_col14\" class=\"data row1 col14\" >295018</td>\n                        <td id=\"T_9deaa75e_5123_11ec_984e_0242ac1c0002row1_col15\" class=\"data row1 col15\" >10353</td>\n            </tr>\n            <tr>\n                        <th id=\"T_9deaa75e_5123_11ec_984e_0242ac1c0002level0_row2\" class=\"row_heading level0 row2\" >23</th>\n                        <td id=\"T_9deaa75e_5123_11ec_984e_0242ac1c0002row2_col0\" class=\"data row2 col0\" >Brazil</td>\n                        <td id=\"T_9deaa75e_5123_11ec_984e_0242ac1c0002row2_col1\" class=\"data row2 col1\" >2021-11-29 14:22:28</td>\n                        <td id=\"T_9deaa75e_5123_11ec_984e_0242ac1c0002row2_col2\" class=\"data row2 col2\" >-14.235000</td>\n                        <td id=\"T_9deaa75e_5123_11ec_984e_0242ac1c0002row2_col3\" class=\"data row2 col3\" >-51.925300</td>\n                        <td id=\"T_9deaa75e_5123_11ec_984e_0242ac1c0002row2_col4\" class=\"data row2 col4\" >22080906</td>\n                        <td id=\"T_9deaa75e_5123_11ec_984e_0242ac1c0002row2_col5\" class=\"data row2 col5\" >614278</td>\n                        <td id=\"T_9deaa75e_5123_11ec_984e_0242ac1c0002row2_col6\" class=\"data row2 col6\" >nan</td>\n                        <td id=\"T_9deaa75e_5123_11ec_984e_0242ac1c0002row2_col7\" class=\"data row2 col7\" >nan</td>\n                        <td id=\"T_9deaa75e_5123_11ec_984e_0242ac1c0002row2_col8\" class=\"data row2 col8\" >10388.110366</td>\n                        <td id=\"T_9deaa75e_5123_11ec_984e_0242ac1c0002row2_col9\" class=\"data row2 col9\" >nan</td>\n                        <td id=\"T_9deaa75e_5123_11ec_984e_0242ac1c0002row2_col10\" class=\"data row2 col10\" >nan</td>\n                        <td id=\"T_9deaa75e_5123_11ec_984e_0242ac1c0002row2_col11\" class=\"data row2 col11\" >2.781942</td>\n                        <td id=\"T_9deaa75e_5123_11ec_984e_0242ac1c0002row2_col12\" class=\"data row2 col12\" >76</td>\n                        <td id=\"T_9deaa75e_5123_11ec_984e_0242ac1c0002row2_col13\" class=\"data row2 col13\" >BRA</td>\n                        <td id=\"T_9deaa75e_5123_11ec_984e_0242ac1c0002row2_col14\" class=\"data row2 col14\" >270051</td>\n                        <td id=\"T_9deaa75e_5123_11ec_984e_0242ac1c0002row2_col15\" class=\"data row2 col15\" >6454</td>\n            </tr>\n            <tr>\n                        <th id=\"T_9deaa75e_5123_11ec_984e_0242ac1c0002level0_row3\" class=\"row_heading level0 row3\" >186</th>\n                        <td id=\"T_9deaa75e_5123_11ec_984e_0242ac1c0002row3_col0\" class=\"data row3 col0\" >United Kingdom</td>\n                        <td id=\"T_9deaa75e_5123_11ec_984e_0242ac1c0002row3_col1\" class=\"data row3 col1\" >2021-11-29 14:22:28</td>\n                        <td id=\"T_9deaa75e_5123_11ec_984e_0242ac1c0002row3_col2\" class=\"data row3 col2\" >55.000000</td>\n                        <td id=\"T_9deaa75e_5123_11ec_984e_0242ac1c0002row3_col3\" class=\"data row3 col3\" >-3.000000</td>\n                        <td id=\"T_9deaa75e_5123_11ec_984e_0242ac1c0002row3_col4\" class=\"data row3 col4\" >10202394</td>\n                        <td id=\"T_9deaa75e_5123_11ec_984e_0242ac1c0002row3_col5\" class=\"data row3 col5\" >145218</td>\n                        <td id=\"T_9deaa75e_5123_11ec_984e_0242ac1c0002row3_col6\" class=\"data row3 col6\" >nan</td>\n                        <td id=\"T_9deaa75e_5123_11ec_984e_0242ac1c0002row3_col7\" class=\"data row3 col7\" >nan</td>\n                        <td id=\"T_9deaa75e_5123_11ec_984e_0242ac1c0002row3_col8\" class=\"data row3 col8\" >15028.714903</td>\n                        <td id=\"T_9deaa75e_5123_11ec_984e_0242ac1c0002row3_col9\" class=\"data row3 col9\" >nan</td>\n                        <td id=\"T_9deaa75e_5123_11ec_984e_0242ac1c0002row3_col10\" class=\"data row3 col10\" >nan</td>\n                        <td id=\"T_9deaa75e_5123_11ec_984e_0242ac1c0002row3_col11\" class=\"data row3 col11\" >1.423372</td>\n                        <td id=\"T_9deaa75e_5123_11ec_984e_0242ac1c0002row3_col12\" class=\"data row3 col12\" >826</td>\n                        <td id=\"T_9deaa75e_5123_11ec_984e_0242ac1c0002row3_col13\" class=\"data row3 col13\" >GBR</td>\n                        <td id=\"T_9deaa75e_5123_11ec_984e_0242ac1c0002row3_col14\" class=\"data row3 col14\" >1101928</td>\n                        <td id=\"T_9deaa75e_5123_11ec_984e_0242ac1c0002row3_col15\" class=\"data row3 col15\" >4163</td>\n            </tr>\n            <tr>\n                        <th id=\"T_9deaa75e_5123_11ec_984e_0242ac1c0002level0_row4\" class=\"row_heading level0 row4\" >144</th>\n                        <td id=\"T_9deaa75e_5123_11ec_984e_0242ac1c0002row4_col0\" class=\"data row4 col0\" >Russia</td>\n                        <td id=\"T_9deaa75e_5123_11ec_984e_0242ac1c0002row4_col1\" class=\"data row4 col1\" >2021-11-29 14:22:28</td>\n                        <td id=\"T_9deaa75e_5123_11ec_984e_0242ac1c0002row4_col2\" class=\"data row4 col2\" >61.524000</td>\n                        <td id=\"T_9deaa75e_5123_11ec_984e_0242ac1c0002row4_col3\" class=\"data row4 col3\" >105.318800</td>\n                        <td id=\"T_9deaa75e_5123_11ec_984e_0242ac1c0002row4_col4\" class=\"data row4 col4\" >9436650</td>\n                        <td id=\"T_9deaa75e_5123_11ec_984e_0242ac1c0002row4_col5\" class=\"data row4 col5\" >268705</td>\n                        <td id=\"T_9deaa75e_5123_11ec_984e_0242ac1c0002row4_col6\" class=\"data row4 col6\" >nan</td>\n                        <td id=\"T_9deaa75e_5123_11ec_984e_0242ac1c0002row4_col7\" class=\"data row4 col7\" >nan</td>\n                        <td id=\"T_9deaa75e_5123_11ec_984e_0242ac1c0002row4_col8\" class=\"data row4 col8\" >6466.361680</td>\n                        <td id=\"T_9deaa75e_5123_11ec_984e_0242ac1c0002row4_col9\" class=\"data row4 col9\" >nan</td>\n                        <td id=\"T_9deaa75e_5123_11ec_984e_0242ac1c0002row4_col10\" class=\"data row4 col10\" >nan</td>\n                        <td id=\"T_9deaa75e_5123_11ec_984e_0242ac1c0002row4_col11\" class=\"data row4 col11\" >2.847462</td>\n                        <td id=\"T_9deaa75e_5123_11ec_984e_0242ac1c0002row4_col12\" class=\"data row4 col12\" >643</td>\n                        <td id=\"T_9deaa75e_5123_11ec_984e_0242ac1c0002row4_col13\" class=\"data row4 col13\" >RUS</td>\n                        <td id=\"T_9deaa75e_5123_11ec_984e_0242ac1c0002row4_col14\" class=\"data row4 col14\" >1025496</td>\n                        <td id=\"T_9deaa75e_5123_11ec_984e_0242ac1c0002row4_col15\" class=\"data row4 col15\" >33333</td>\n            </tr>\n            <tr>\n                        <th id=\"T_9deaa75e_5123_11ec_984e_0242ac1c0002level0_row5\" class=\"row_heading level0 row5\" >181</th>\n                        <td id=\"T_9deaa75e_5123_11ec_984e_0242ac1c0002row5_col0\" class=\"data row5 col0\" >Turkey</td>\n                        <td id=\"T_9deaa75e_5123_11ec_984e_0242ac1c0002row5_col1\" class=\"data row5 col1\" >2021-11-29 14:22:28</td>\n                        <td id=\"T_9deaa75e_5123_11ec_984e_0242ac1c0002row5_col2\" class=\"data row5 col2\" >38.963700</td>\n                        <td id=\"T_9deaa75e_5123_11ec_984e_0242ac1c0002row5_col3\" class=\"data row5 col3\" >35.243300</td>\n                        <td id=\"T_9deaa75e_5123_11ec_984e_0242ac1c0002row5_col4\" class=\"data row5 col4\" >8748025</td>\n                        <td id=\"T_9deaa75e_5123_11ec_984e_0242ac1c0002row5_col5\" class=\"data row5 col5\" >76446</td>\n                        <td id=\"T_9deaa75e_5123_11ec_984e_0242ac1c0002row5_col6\" class=\"data row5 col6\" >nan</td>\n                        <td id=\"T_9deaa75e_5123_11ec_984e_0242ac1c0002row5_col7\" class=\"data row5 col7\" >nan</td>\n                        <td id=\"T_9deaa75e_5123_11ec_984e_0242ac1c0002row5_col8\" class=\"data row5 col8\" >10372.446971</td>\n                        <td id=\"T_9deaa75e_5123_11ec_984e_0242ac1c0002row5_col9\" class=\"data row5 col9\" >nan</td>\n                        <td id=\"T_9deaa75e_5123_11ec_984e_0242ac1c0002row5_col10\" class=\"data row5 col10\" >nan</td>\n                        <td id=\"T_9deaa75e_5123_11ec_984e_0242ac1c0002row5_col11\" class=\"data row5 col11\" >0.873866</td>\n                        <td id=\"T_9deaa75e_5123_11ec_984e_0242ac1c0002row5_col12\" class=\"data row5 col12\" >792</td>\n                        <td id=\"T_9deaa75e_5123_11ec_984e_0242ac1c0002row5_col13\" class=\"data row5 col13\" >TUR</td>\n                        <td id=\"T_9deaa75e_5123_11ec_984e_0242ac1c0002row5_col14\" class=\"data row5 col14\" >715067</td>\n                        <td id=\"T_9deaa75e_5123_11ec_984e_0242ac1c0002row5_col15\" class=\"data row5 col15\" >5835</td>\n            </tr>\n            <tr>\n                        <th id=\"T_9deaa75e_5123_11ec_984e_0242ac1c0002level0_row6\" class=\"row_heading level0 row6\" >62</th>\n                        <td id=\"T_9deaa75e_5123_11ec_984e_0242ac1c0002row6_col0\" class=\"data row6 col0\" >France</td>\n                        <td id=\"T_9deaa75e_5123_11ec_984e_0242ac1c0002row6_col1\" class=\"data row6 col1\" >2021-11-29 14:22:28</td>\n                        <td id=\"T_9deaa75e_5123_11ec_984e_0242ac1c0002row6_col2\" class=\"data row6 col2\" >46.227600</td>\n                        <td id=\"T_9deaa75e_5123_11ec_984e_0242ac1c0002row6_col3\" class=\"data row6 col3\" >2.213700</td>\n                        <td id=\"T_9deaa75e_5123_11ec_984e_0242ac1c0002row6_col4\" class=\"data row6 col4\" >7723066</td>\n                        <td id=\"T_9deaa75e_5123_11ec_984e_0242ac1c0002row6_col5\" class=\"data row6 col5\" >119875</td>\n                        <td id=\"T_9deaa75e_5123_11ec_984e_0242ac1c0002row6_col6\" class=\"data row6 col6\" >nan</td>\n                        <td id=\"T_9deaa75e_5123_11ec_984e_0242ac1c0002row6_col7\" class=\"data row6 col7\" >nan</td>\n                        <td id=\"T_9deaa75e_5123_11ec_984e_0242ac1c0002row6_col8\" class=\"data row6 col8\" >11836.144954</td>\n                        <td id=\"T_9deaa75e_5123_11ec_984e_0242ac1c0002row6_col9\" class=\"data row6 col9\" >nan</td>\n                        <td id=\"T_9deaa75e_5123_11ec_984e_0242ac1c0002row6_col10\" class=\"data row6 col10\" >nan</td>\n                        <td id=\"T_9deaa75e_5123_11ec_984e_0242ac1c0002row6_col11\" class=\"data row6 col11\" >1.552169</td>\n                        <td id=\"T_9deaa75e_5123_11ec_984e_0242ac1c0002row6_col12\" class=\"data row6 col12\" >250</td>\n                        <td id=\"T_9deaa75e_5123_11ec_984e_0242ac1c0002row6_col13\" class=\"data row6 col13\" >FRA</td>\n                        <td id=\"T_9deaa75e_5123_11ec_984e_0242ac1c0002row6_col14\" class=\"data row6 col14\" >454505</td>\n                        <td id=\"T_9deaa75e_5123_11ec_984e_0242ac1c0002row6_col15\" class=\"data row6 col15\" >1250</td>\n            </tr>\n            <tr>\n                        <th id=\"T_9deaa75e_5123_11ec_984e_0242ac1c0002level0_row7\" class=\"row_heading level0 row7\" >81</th>\n                        <td id=\"T_9deaa75e_5123_11ec_984e_0242ac1c0002row7_col0\" class=\"data row7 col0\" >Iran</td>\n                        <td id=\"T_9deaa75e_5123_11ec_984e_0242ac1c0002row7_col1\" class=\"data row7 col1\" >2021-11-29 14:22:28</td>\n                        <td id=\"T_9deaa75e_5123_11ec_984e_0242ac1c0002row7_col2\" class=\"data row7 col2\" >32.427908</td>\n                        <td id=\"T_9deaa75e_5123_11ec_984e_0242ac1c0002row7_col3\" class=\"data row7 col3\" >53.688046</td>\n                        <td id=\"T_9deaa75e_5123_11ec_984e_0242ac1c0002row7_col4\" class=\"data row7 col4\" >6113192</td>\n                        <td id=\"T_9deaa75e_5123_11ec_984e_0242ac1c0002row7_col5\" class=\"data row7 col5\" >129711</td>\n                        <td id=\"T_9deaa75e_5123_11ec_984e_0242ac1c0002row7_col6\" class=\"data row7 col6\" >nan</td>\n                        <td id=\"T_9deaa75e_5123_11ec_984e_0242ac1c0002row7_col7\" class=\"data row7 col7\" >nan</td>\n                        <td id=\"T_9deaa75e_5123_11ec_984e_0242ac1c0002row7_col8\" class=\"data row7 col8\" >7278.220114</td>\n                        <td id=\"T_9deaa75e_5123_11ec_984e_0242ac1c0002row7_col9\" class=\"data row7 col9\" >nan</td>\n                        <td id=\"T_9deaa75e_5123_11ec_984e_0242ac1c0002row7_col10\" class=\"data row7 col10\" >nan</td>\n                        <td id=\"T_9deaa75e_5123_11ec_984e_0242ac1c0002row7_col11\" class=\"data row7 col11\" >2.121821</td>\n                        <td id=\"T_9deaa75e_5123_11ec_984e_0242ac1c0002row7_col12\" class=\"data row7 col12\" >364</td>\n                        <td id=\"T_9deaa75e_5123_11ec_984e_0242ac1c0002row7_col13\" class=\"data row7 col13\" >IRN</td>\n                        <td id=\"T_9deaa75e_5123_11ec_984e_0242ac1c0002row7_col14\" class=\"data row7 col14\" >184244</td>\n                        <td id=\"T_9deaa75e_5123_11ec_984e_0242ac1c0002row7_col15\" class=\"data row7 col15\" >3326</td>\n            </tr>\n            <tr>\n                        <th id=\"T_9deaa75e_5123_11ec_984e_0242ac1c0002level0_row8\" class=\"row_heading level0 row8\" >66</th>\n                        <td id=\"T_9deaa75e_5123_11ec_984e_0242ac1c0002row8_col0\" class=\"data row8 col0\" >Germany</td>\n                        <td id=\"T_9deaa75e_5123_11ec_984e_0242ac1c0002row8_col1\" class=\"data row8 col1\" >2021-11-29 14:22:28</td>\n                        <td id=\"T_9deaa75e_5123_11ec_984e_0242ac1c0002row8_col2\" class=\"data row8 col2\" >51.165691</td>\n                        <td id=\"T_9deaa75e_5123_11ec_984e_0242ac1c0002row8_col3\" class=\"data row8 col3\" >10.451526</td>\n                        <td id=\"T_9deaa75e_5123_11ec_984e_0242ac1c0002row8_col4\" class=\"data row8 col4\" >5795140</td>\n                        <td id=\"T_9deaa75e_5123_11ec_984e_0242ac1c0002row8_col5\" class=\"data row8 col5\" >100960</td>\n                        <td id=\"T_9deaa75e_5123_11ec_984e_0242ac1c0002row8_col6\" class=\"data row8 col6\" >nan</td>\n                        <td id=\"T_9deaa75e_5123_11ec_984e_0242ac1c0002row8_col7\" class=\"data row8 col7\" >nan</td>\n                        <td id=\"T_9deaa75e_5123_11ec_984e_0242ac1c0002row8_col8\" class=\"data row8 col8\" >6969.079237</td>\n                        <td id=\"T_9deaa75e_5123_11ec_984e_0242ac1c0002row8_col9\" class=\"data row8 col9\" >nan</td>\n                        <td id=\"T_9deaa75e_5123_11ec_984e_0242ac1c0002row8_col10\" class=\"data row8 col10\" >nan</td>\n                        <td id=\"T_9deaa75e_5123_11ec_984e_0242ac1c0002row8_col11\" class=\"data row8 col11\" >1.742149</td>\n                        <td id=\"T_9deaa75e_5123_11ec_984e_0242ac1c0002row8_col12\" class=\"data row8 col12\" >276</td>\n                        <td id=\"T_9deaa75e_5123_11ec_984e_0242ac1c0002row8_col13\" class=\"data row8 col13\" >DEU</td>\n                        <td id=\"T_9deaa75e_5123_11ec_984e_0242ac1c0002row8_col14\" class=\"data row8 col14\" >1196181</td>\n                        <td id=\"T_9deaa75e_5123_11ec_984e_0242ac1c0002row8_col15\" class=\"data row8 col15\" >5225</td>\n            </tr>\n            <tr>\n                        <th id=\"T_9deaa75e_5123_11ec_984e_0242ac1c0002level0_row9\" class=\"row_heading level0 row9\" >6</th>\n                        <td id=\"T_9deaa75e_5123_11ec_984e_0242ac1c0002row9_col0\" class=\"data row9 col0\" >Argentina</td>\n                        <td id=\"T_9deaa75e_5123_11ec_984e_0242ac1c0002row9_col1\" class=\"data row9 col1\" >2021-11-29 14:22:28</td>\n                        <td id=\"T_9deaa75e_5123_11ec_984e_0242ac1c0002row9_col2\" class=\"data row9 col2\" >-38.416100</td>\n                        <td id=\"T_9deaa75e_5123_11ec_984e_0242ac1c0002row9_col3\" class=\"data row9 col3\" >-63.616700</td>\n                        <td id=\"T_9deaa75e_5123_11ec_984e_0242ac1c0002row9_col4\" class=\"data row9 col4\" >5326448</td>\n                        <td id=\"T_9deaa75e_5123_11ec_984e_0242ac1c0002row9_col5\" class=\"data row9 col5\" >116529</td>\n                        <td id=\"T_9deaa75e_5123_11ec_984e_0242ac1c0002row9_col6\" class=\"data row9 col6\" >nan</td>\n                        <td id=\"T_9deaa75e_5123_11ec_984e_0242ac1c0002row9_col7\" class=\"data row9 col7\" >nan</td>\n                        <td id=\"T_9deaa75e_5123_11ec_984e_0242ac1c0002row9_col8\" class=\"data row9 col8\" >11785.278080</td>\n                        <td id=\"T_9deaa75e_5123_11ec_984e_0242ac1c0002row9_col9\" class=\"data row9 col9\" >nan</td>\n                        <td id=\"T_9deaa75e_5123_11ec_984e_0242ac1c0002row9_col10\" class=\"data row9 col10\" >nan</td>\n                        <td id=\"T_9deaa75e_5123_11ec_984e_0242ac1c0002row9_col11\" class=\"data row9 col11\" >2.187743</td>\n                        <td id=\"T_9deaa75e_5123_11ec_984e_0242ac1c0002row9_col12\" class=\"data row9 col12\" >32</td>\n                        <td id=\"T_9deaa75e_5123_11ec_984e_0242ac1c0002row9_col13\" class=\"data row9 col13\" >ARG</td>\n                        <td id=\"T_9deaa75e_5123_11ec_984e_0242ac1c0002row9_col14\" class=\"data row9 col14\" >37641</td>\n                        <td id=\"T_9deaa75e_5123_11ec_984e_0242ac1c0002row9_col15\" class=\"data row9 col15\" >579</td>\n            </tr>\n    </tbody></table>",
                  "text/plain": "<pandas.io.formats.style.Styler at 0x7f7db4203850>"
                },
                "metadata": {}
              }
            ],
            "_view_module": "@jupyter-widgets/output",
            "_model_module_version": "1.0.0",
            "_view_count": null,
            "_view_module_version": "1.0.0",
            "layout": "IPY_MODEL_256d165a93034da8ac8e306d46b05033",
            "_model_module": "@jupyter-widgets/output"
          }
        },
        "890f924efde64d13959d5884ca55c04d": {
          "model_module": "@jupyter-widgets/controls",
          "model_name": "DescriptionStyleModel",
          "model_module_version": "1.5.0",
          "state": {
            "_view_name": "StyleView",
            "_model_name": "DescriptionStyleModel",
            "description_width": "",
            "_view_module": "@jupyter-widgets/base",
            "_model_module_version": "1.5.0",
            "_view_count": null,
            "_view_module_version": "1.2.0",
            "_model_module": "@jupyter-widgets/controls"
          }
        },
        "5e59a1d467be4fea948f4f26ad680bcd": {
          "model_module": "@jupyter-widgets/base",
          "model_name": "LayoutModel",
          "model_module_version": "1.2.0",
          "state": {
            "_view_name": "LayoutView",
            "grid_template_rows": null,
            "right": null,
            "justify_content": null,
            "_view_module": "@jupyter-widgets/base",
            "overflow": null,
            "_model_module_version": "1.2.0",
            "_view_count": null,
            "flex_flow": null,
            "width": null,
            "min_width": null,
            "border": null,
            "align_items": null,
            "bottom": null,
            "_model_module": "@jupyter-widgets/base",
            "top": null,
            "grid_column": null,
            "overflow_y": null,
            "overflow_x": null,
            "grid_auto_flow": null,
            "grid_area": null,
            "grid_template_columns": null,
            "flex": null,
            "_model_name": "LayoutModel",
            "justify_items": null,
            "grid_row": null,
            "max_height": null,
            "align_content": null,
            "visibility": null,
            "align_self": null,
            "height": null,
            "min_height": null,
            "padding": null,
            "grid_auto_rows": null,
            "grid_gap": null,
            "max_width": null,
            "order": null,
            "_view_module_version": "1.2.0",
            "grid_template_areas": null,
            "object_position": null,
            "object_fit": null,
            "grid_auto_columns": null,
            "margin": null,
            "display": null,
            "left": null
          }
        },
        "256d165a93034da8ac8e306d46b05033": {
          "model_module": "@jupyter-widgets/base",
          "model_name": "LayoutModel",
          "model_module_version": "1.2.0",
          "state": {
            "_view_name": "LayoutView",
            "grid_template_rows": null,
            "right": null,
            "justify_content": null,
            "_view_module": "@jupyter-widgets/base",
            "overflow": null,
            "_model_module_version": "1.2.0",
            "_view_count": null,
            "flex_flow": null,
            "width": null,
            "min_width": null,
            "border": null,
            "align_items": null,
            "bottom": null,
            "_model_module": "@jupyter-widgets/base",
            "top": null,
            "grid_column": null,
            "overflow_y": null,
            "overflow_x": null,
            "grid_auto_flow": null,
            "grid_area": null,
            "grid_template_columns": null,
            "flex": null,
            "_model_name": "LayoutModel",
            "justify_items": null,
            "grid_row": null,
            "max_height": null,
            "align_content": null,
            "visibility": null,
            "align_self": null,
            "height": null,
            "min_height": null,
            "padding": null,
            "grid_auto_rows": null,
            "grid_gap": null,
            "max_width": null,
            "order": null,
            "_view_module_version": "1.2.0",
            "grid_template_areas": null,
            "object_position": null,
            "object_fit": null,
            "grid_auto_columns": null,
            "margin": null,
            "display": null,
            "left": null
          }
        },
        "c91e9eafb5eb42e08189eee09d1e8a2a": {
          "model_module": "@jupyter-widgets/controls",
          "model_name": "VBoxModel",
          "model_module_version": "1.5.0",
          "state": {
            "_view_name": "VBoxView",
            "_dom_classes": [],
            "_model_name": "VBoxModel",
            "_view_module": "@jupyter-widgets/controls",
            "_model_module_version": "1.5.0",
            "_view_count": null,
            "_view_module_version": "1.5.0",
            "box_style": "",
            "layout": "IPY_MODEL_0884f332c9cf4ac1ba661fd01c23fcc1",
            "_model_module": "@jupyter-widgets/controls",
            "children": [
              "IPY_MODEL_fa58c8daaad341cd96ef0ea12eb4ba5a"
            ]
          }
        },
        "0884f332c9cf4ac1ba661fd01c23fcc1": {
          "model_module": "@jupyter-widgets/base",
          "model_name": "LayoutModel",
          "model_module_version": "1.2.0",
          "state": {
            "_view_name": "LayoutView",
            "grid_template_rows": null,
            "right": null,
            "justify_content": null,
            "_view_module": "@jupyter-widgets/base",
            "overflow": null,
            "_model_module_version": "1.2.0",
            "_view_count": null,
            "flex_flow": null,
            "width": null,
            "min_width": null,
            "border": "solid 2px green",
            "align_items": null,
            "bottom": null,
            "_model_module": "@jupyter-widgets/base",
            "top": null,
            "grid_column": null,
            "overflow_y": null,
            "overflow_x": null,
            "grid_auto_flow": null,
            "grid_area": null,
            "grid_template_columns": null,
            "flex": null,
            "_model_name": "LayoutModel",
            "justify_items": null,
            "grid_row": null,
            "max_height": null,
            "align_content": null,
            "visibility": null,
            "align_self": null,
            "height": null,
            "min_height": null,
            "padding": null,
            "grid_auto_rows": null,
            "grid_gap": null,
            "max_width": null,
            "order": null,
            "_view_module_version": "1.2.0",
            "grid_template_areas": null,
            "object_position": null,
            "object_fit": null,
            "grid_auto_columns": null,
            "margin": null,
            "display": "none",
            "left": null
          }
        },
        "fa58c8daaad341cd96ef0ea12eb4ba5a": {
          "model_module": "plotlywidget",
          "model_name": "FigureModel",
          "model_module_version": "^1.4.0",
          "state": {
            "_view_name": "FigureView",
            "_py2js_animate": {},
            "_py2js_removeLayoutProps": {},
            "_last_trace_edit_id": 0,
            "_view_module": "plotlywidget",
            "_model_module_version": "^1.4.0",
            "_view_count": 0,
            "_js2py_relayout": {},
            "_py2js_moveTraces": {},
            "_py2js_addTraces": {},
            "_model_module": "plotlywidget",
            "_py2js_relayout": null,
            "_js2py_pointsCallback": {},
            "_js2py_update": {},
            "_js2py_restyle": {},
            "_py2js_removeTraceProps": {},
            "_py2js_deleteTraces": {},
            "_dom_classes": [],
            "_model_name": "FigureModel",
            "_layout": {},
            "_js2py_layoutDelta": {},
            "_py2js_update": {},
            "_data": [],
            "_config": {
              "plotlyServerURL": "https://plot.ly"
            },
            "_py2js_restyle": {},
            "_view_module_version": "^1.4.0",
            "_last_layout_edit_id": 0,
            "_js2py_traceDeltas": {}
          }
        },
        "70dda1ce9521406ea121b50014048553": {
          "model_module": "@jupyter-widgets/controls",
          "model_name": "VBoxModel",
          "model_module_version": "1.5.0",
          "state": {
            "_view_name": "VBoxView",
            "_dom_classes": [
              "widget-interact"
            ],
            "_model_name": "VBoxModel",
            "_view_module": "@jupyter-widgets/controls",
            "_model_module_version": "1.5.0",
            "_view_count": null,
            "_view_module_version": "1.5.0",
            "box_style": "",
            "layout": "IPY_MODEL_fe4eda4f335c4c618b77f726de84f52c",
            "_model_module": "@jupyter-widgets/controls",
            "children": [
              "IPY_MODEL_5a25748b0d714f71b8b9d803ae622d4e",
              "IPY_MODEL_4a4972d8469a4d119b9ddec8c673663c"
            ]
          }
        },
        "fe4eda4f335c4c618b77f726de84f52c": {
          "model_module": "@jupyter-widgets/base",
          "model_name": "LayoutModel",
          "model_module_version": "1.2.0",
          "state": {
            "_view_name": "LayoutView",
            "grid_template_rows": null,
            "right": null,
            "justify_content": null,
            "_view_module": "@jupyter-widgets/base",
            "overflow": null,
            "_model_module_version": "1.2.0",
            "_view_count": null,
            "flex_flow": null,
            "width": null,
            "min_width": null,
            "border": null,
            "align_items": null,
            "bottom": null,
            "_model_module": "@jupyter-widgets/base",
            "top": null,
            "grid_column": null,
            "overflow_y": null,
            "overflow_x": null,
            "grid_auto_flow": null,
            "grid_area": null,
            "grid_template_columns": null,
            "flex": null,
            "_model_name": "LayoutModel",
            "justify_items": null,
            "grid_row": null,
            "max_height": null,
            "align_content": null,
            "visibility": null,
            "align_self": null,
            "height": null,
            "min_height": null,
            "padding": null,
            "grid_auto_rows": null,
            "grid_gap": null,
            "max_width": null,
            "order": null,
            "_view_module_version": "1.2.0",
            "grid_template_areas": null,
            "object_position": null,
            "object_fit": null,
            "grid_auto_columns": null,
            "margin": null,
            "display": null,
            "left": null
          }
        },
        "5a25748b0d714f71b8b9d803ae622d4e": {
          "model_module": "@jupyter-widgets/controls",
          "model_name": "IntSliderModel",
          "model_module_version": "1.5.0",
          "state": {
            "_view_name": "IntSliderView",
            "style": "IPY_MODEL_adb91e4d0a0147e89679a80a6cf4914e",
            "_dom_classes": [],
            "description": "n",
            "step": 1,
            "_model_name": "IntSliderModel",
            "orientation": "horizontal",
            "max": 30,
            "_view_module": "@jupyter-widgets/controls",
            "_model_module_version": "1.5.0",
            "value": 10,
            "_view_count": null,
            "disabled": false,
            "_view_module_version": "1.5.0",
            "min": -10,
            "continuous_update": true,
            "readout_format": "d",
            "description_tooltip": null,
            "readout": true,
            "_model_module": "@jupyter-widgets/controls",
            "layout": "IPY_MODEL_fd3e846a6a2248b09cf741086257e6eb"
          }
        },
        "4a4972d8469a4d119b9ddec8c673663c": {
          "model_module": "@jupyter-widgets/output",
          "model_name": "OutputModel",
          "model_module_version": "1.0.0",
          "state": {
            "_view_name": "OutputView",
            "msg_id": "",
            "_dom_classes": [],
            "_model_name": "OutputModel",
            "outputs": [
              {
                "output_type": "display_data",
                "data": {
                  "text/html": "<html>\n<head><meta charset=\"utf-8\" /></head>\n<body>\n    <div>\n            <script src=\"https://cdnjs.cloudflare.com/ajax/libs/mathjax/2.7.5/MathJax.js?config=TeX-AMS-MML_SVG\"></script><script type=\"text/javascript\">if (window.MathJax) {MathJax.Hub.Config({SVG: {font: \"STIX-Web\"}});}</script>\n                <script type=\"text/javascript\">window.PlotlyConfig = {MathJaxConfig: 'local'};</script>\n        <script src=\"https://cdn.plot.ly/plotly-latest.min.js\"></script>    \n            <div id=\"b40960b5-f4cb-4d85-a834-e67bdb4919c0\" class=\"plotly-graph-div\" style=\"height:525px; width:1400px;\"></div>\n            <script type=\"text/javascript\">\n                \n                    window.PLOTLYENV=window.PLOTLYENV || {};\n                    \n                if (document.getElementById(\"b40960b5-f4cb-4d85-a834-e67bdb4919c0\")) {\n                    Plotly.newPlot(\n                        'b40960b5-f4cb-4d85-a834-e67bdb4919c0',\n                        [{\"hoverlabel\": {\"namelength\": 0}, \"hovertemplate\": \"<b>%{hovertext}</b><br><br>country=%{x}<br>confirmed=%{marker.size}\", \"hovertext\": [\"US\"], \"legendgroup\": \"country=US\", \"marker\": {\"color\": \"#636efa\", \"size\": [48235005], \"sizemode\": \"area\", \"sizeref\": 13398.6125, \"symbol\": \"circle\"}, \"mode\": \"markers\", \"name\": \"country=US\", \"showlegend\": true, \"type\": \"scatter\", \"x\": [\"US\"], \"xaxis\": \"x\", \"y\": [48235005], \"yaxis\": \"y\"}, {\"hoverlabel\": {\"namelength\": 0}, \"hovertemplate\": \"<b>%{hovertext}</b><br><br>country=%{x}<br>confirmed=%{marker.size}\", \"hovertext\": [\"India\"], \"legendgroup\": \"country=India\", \"marker\": {\"color\": \"#EF553B\", \"size\": [34580832], \"sizemode\": \"area\", \"sizeref\": 13398.6125, \"symbol\": \"circle\"}, \"mode\": \"markers\", \"name\": \"country=India\", \"showlegend\": true, \"type\": \"scatter\", \"x\": [\"India\"], \"xaxis\": \"x\", \"y\": [34580832], \"yaxis\": \"y\"}, {\"hoverlabel\": {\"namelength\": 0}, \"hovertemplate\": \"<b>%{hovertext}</b><br><br>country=%{x}<br>confirmed=%{marker.size}\", \"hovertext\": [\"Brazil\"], \"legendgroup\": \"country=Brazil\", \"marker\": {\"color\": \"#00cc96\", \"size\": [22080906], \"sizemode\": \"area\", \"sizeref\": 13398.6125, \"symbol\": \"circle\"}, \"mode\": \"markers\", \"name\": \"country=Brazil\", \"showlegend\": true, \"type\": \"scatter\", \"x\": [\"Brazil\"], \"xaxis\": \"x\", \"y\": [22080906], \"yaxis\": \"y\"}, {\"hoverlabel\": {\"namelength\": 0}, \"hovertemplate\": \"<b>%{hovertext}</b><br><br>country=%{x}<br>confirmed=%{marker.size}\", \"hovertext\": [\"United Kingdom\"], \"legendgroup\": \"country=United Kingdom\", \"marker\": {\"color\": \"#ab63fa\", \"size\": [10202394], \"sizemode\": \"area\", \"sizeref\": 13398.6125, \"symbol\": \"circle\"}, \"mode\": \"markers\", \"name\": \"country=United Kingdom\", \"showlegend\": true, \"type\": \"scatter\", \"x\": [\"United Kingdom\"], \"xaxis\": \"x\", \"y\": [10202394], \"yaxis\": \"y\"}, {\"hoverlabel\": {\"namelength\": 0}, \"hovertemplate\": \"<b>%{hovertext}</b><br><br>country=%{x}<br>confirmed=%{marker.size}\", \"hovertext\": [\"Russia\"], \"legendgroup\": \"country=Russia\", \"marker\": {\"color\": \"#FFA15A\", \"size\": [9436650], \"sizemode\": \"area\", \"sizeref\": 13398.6125, \"symbol\": \"circle\"}, \"mode\": \"markers\", \"name\": \"country=Russia\", \"showlegend\": true, \"type\": \"scatter\", \"x\": [\"Russia\"], \"xaxis\": \"x\", \"y\": [9436650], \"yaxis\": \"y\"}, {\"hoverlabel\": {\"namelength\": 0}, \"hovertemplate\": \"<b>%{hovertext}</b><br><br>country=%{x}<br>confirmed=%{marker.size}\", \"hovertext\": [\"Turkey\"], \"legendgroup\": \"country=Turkey\", \"marker\": {\"color\": \"#19d3f3\", \"size\": [8748025], \"sizemode\": \"area\", \"sizeref\": 13398.6125, \"symbol\": \"circle\"}, \"mode\": \"markers\", \"name\": \"country=Turkey\", \"showlegend\": true, \"type\": \"scatter\", \"x\": [\"Turkey\"], \"xaxis\": \"x\", \"y\": [8748025], \"yaxis\": \"y\"}, {\"hoverlabel\": {\"namelength\": 0}, \"hovertemplate\": \"<b>%{hovertext}</b><br><br>country=%{x}<br>confirmed=%{marker.size}\", \"hovertext\": [\"France\"], \"legendgroup\": \"country=France\", \"marker\": {\"color\": \"#FF6692\", \"size\": [7723066], \"sizemode\": \"area\", \"sizeref\": 13398.6125, \"symbol\": \"circle\"}, \"mode\": \"markers\", \"name\": \"country=France\", \"showlegend\": true, \"type\": \"scatter\", \"x\": [\"France\"], \"xaxis\": \"x\", \"y\": [7723066], \"yaxis\": \"y\"}, {\"hoverlabel\": {\"namelength\": 0}, \"hovertemplate\": \"<b>%{hovertext}</b><br><br>country=%{x}<br>confirmed=%{marker.size}\", \"hovertext\": [\"Iran\"], \"legendgroup\": \"country=Iran\", \"marker\": {\"color\": \"#B6E880\", \"size\": [6113192], \"sizemode\": \"area\", \"sizeref\": 13398.6125, \"symbol\": \"circle\"}, \"mode\": \"markers\", \"name\": \"country=Iran\", \"showlegend\": true, \"type\": \"scatter\", \"x\": [\"Iran\"], \"xaxis\": \"x\", \"y\": [6113192], \"yaxis\": \"y\"}, {\"hoverlabel\": {\"namelength\": 0}, \"hovertemplate\": \"<b>%{hovertext}</b><br><br>country=%{x}<br>confirmed=%{marker.size}\", \"hovertext\": [\"Germany\"], \"legendgroup\": \"country=Germany\", \"marker\": {\"color\": \"#FF97FF\", \"size\": [5795140], \"sizemode\": \"area\", \"sizeref\": 13398.6125, \"symbol\": \"circle\"}, \"mode\": \"markers\", \"name\": \"country=Germany\", \"showlegend\": true, \"type\": \"scatter\", \"x\": [\"Germany\"], \"xaxis\": \"x\", \"y\": [5795140], \"yaxis\": \"y\"}, {\"hoverlabel\": {\"namelength\": 0}, \"hovertemplate\": \"<b>%{hovertext}</b><br><br>country=%{x}<br>confirmed=%{marker.size}\", \"hovertext\": [\"Argentina\"], \"legendgroup\": \"country=Argentina\", \"marker\": {\"color\": \"#FECB52\", \"size\": [5326448], \"sizemode\": \"area\", \"sizeref\": 13398.6125, \"symbol\": \"circle\"}, \"mode\": \"markers\", \"name\": \"country=Argentina\", \"showlegend\": true, \"type\": \"scatter\", \"x\": [\"Argentina\"], \"xaxis\": \"x\", \"y\": [5326448], \"yaxis\": \"y\"}],\n                        {\"legend\": {\"itemsizing\": \"constant\", \"tracegroupgap\": 0}, \"margin\": {\"t\": 60}, \"template\": {\"data\": {\"bar\": [{\"error_x\": {\"color\": \"#2a3f5f\"}, \"error_y\": {\"color\": \"#2a3f5f\"}, \"marker\": {\"line\": {\"color\": \"#E5ECF6\", \"width\": 0.5}}, \"type\": \"bar\"}], \"barpolar\": [{\"marker\": {\"line\": {\"color\": \"#E5ECF6\", \"width\": 0.5}}, \"type\": \"barpolar\"}], \"carpet\": [{\"aaxis\": {\"endlinecolor\": \"#2a3f5f\", \"gridcolor\": \"white\", \"linecolor\": \"white\", \"minorgridcolor\": \"white\", \"startlinecolor\": \"#2a3f5f\"}, \"baxis\": {\"endlinecolor\": \"#2a3f5f\", \"gridcolor\": \"white\", \"linecolor\": \"white\", \"minorgridcolor\": \"white\", \"startlinecolor\": \"#2a3f5f\"}, \"type\": \"carpet\"}], \"choropleth\": [{\"colorbar\": {\"outlinewidth\": 0, \"ticks\": \"\"}, \"type\": \"choropleth\"}], \"contour\": [{\"colorbar\": {\"outlinewidth\": 0, \"ticks\": \"\"}, \"colorscale\": [[0.0, \"#0d0887\"], [0.1111111111111111, \"#46039f\"], [0.2222222222222222, \"#7201a8\"], [0.3333333333333333, \"#9c179e\"], [0.4444444444444444, \"#bd3786\"], [0.5555555555555556, \"#d8576b\"], [0.6666666666666666, \"#ed7953\"], [0.7777777777777778, \"#fb9f3a\"], [0.8888888888888888, \"#fdca26\"], [1.0, \"#f0f921\"]], \"type\": \"contour\"}], \"contourcarpet\": [{\"colorbar\": {\"outlinewidth\": 0, \"ticks\": \"\"}, \"type\": \"contourcarpet\"}], \"heatmap\": [{\"colorbar\": {\"outlinewidth\": 0, \"ticks\": \"\"}, \"colorscale\": [[0.0, \"#0d0887\"], [0.1111111111111111, \"#46039f\"], [0.2222222222222222, \"#7201a8\"], [0.3333333333333333, \"#9c179e\"], [0.4444444444444444, \"#bd3786\"], [0.5555555555555556, \"#d8576b\"], [0.6666666666666666, \"#ed7953\"], [0.7777777777777778, \"#fb9f3a\"], [0.8888888888888888, \"#fdca26\"], [1.0, \"#f0f921\"]], \"type\": \"heatmap\"}], \"heatmapgl\": [{\"colorbar\": {\"outlinewidth\": 0, \"ticks\": \"\"}, \"colorscale\": [[0.0, \"#0d0887\"], [0.1111111111111111, \"#46039f\"], [0.2222222222222222, \"#7201a8\"], [0.3333333333333333, \"#9c179e\"], [0.4444444444444444, \"#bd3786\"], [0.5555555555555556, \"#d8576b\"], [0.6666666666666666, \"#ed7953\"], [0.7777777777777778, \"#fb9f3a\"], [0.8888888888888888, \"#fdca26\"], [1.0, \"#f0f921\"]], \"type\": \"heatmapgl\"}], \"histogram\": [{\"marker\": {\"colorbar\": {\"outlinewidth\": 0, \"ticks\": \"\"}}, \"type\": \"histogram\"}], \"histogram2d\": [{\"colorbar\": {\"outlinewidth\": 0, \"ticks\": \"\"}, \"colorscale\": [[0.0, \"#0d0887\"], [0.1111111111111111, \"#46039f\"], [0.2222222222222222, \"#7201a8\"], [0.3333333333333333, \"#9c179e\"], [0.4444444444444444, \"#bd3786\"], [0.5555555555555556, \"#d8576b\"], [0.6666666666666666, \"#ed7953\"], [0.7777777777777778, \"#fb9f3a\"], [0.8888888888888888, \"#fdca26\"], [1.0, \"#f0f921\"]], \"type\": \"histogram2d\"}], \"histogram2dcontour\": [{\"colorbar\": {\"outlinewidth\": 0, \"ticks\": \"\"}, \"colorscale\": [[0.0, \"#0d0887\"], [0.1111111111111111, \"#46039f\"], [0.2222222222222222, \"#7201a8\"], [0.3333333333333333, \"#9c179e\"], [0.4444444444444444, \"#bd3786\"], [0.5555555555555556, \"#d8576b\"], [0.6666666666666666, \"#ed7953\"], [0.7777777777777778, \"#fb9f3a\"], [0.8888888888888888, \"#fdca26\"], [1.0, \"#f0f921\"]], \"type\": \"histogram2dcontour\"}], \"mesh3d\": [{\"colorbar\": {\"outlinewidth\": 0, \"ticks\": \"\"}, \"type\": \"mesh3d\"}], \"parcoords\": [{\"line\": {\"colorbar\": {\"outlinewidth\": 0, \"ticks\": \"\"}}, \"type\": \"parcoords\"}], \"pie\": [{\"automargin\": true, \"type\": \"pie\"}], \"scatter\": [{\"marker\": {\"colorbar\": {\"outlinewidth\": 0, \"ticks\": \"\"}}, \"type\": \"scatter\"}], \"scatter3d\": [{\"line\": {\"colorbar\": {\"outlinewidth\": 0, \"ticks\": \"\"}}, \"marker\": {\"colorbar\": {\"outlinewidth\": 0, \"ticks\": \"\"}}, \"type\": \"scatter3d\"}], \"scattercarpet\": [{\"marker\": {\"colorbar\": {\"outlinewidth\": 0, \"ticks\": \"\"}}, \"type\": \"scattercarpet\"}], \"scattergeo\": [{\"marker\": {\"colorbar\": {\"outlinewidth\": 0, \"ticks\": \"\"}}, \"type\": \"scattergeo\"}], \"scattergl\": [{\"marker\": {\"colorbar\": {\"outlinewidth\": 0, \"ticks\": \"\"}}, \"type\": \"scattergl\"}], \"scattermapbox\": [{\"marker\": {\"colorbar\": {\"outlinewidth\": 0, \"ticks\": \"\"}}, \"type\": \"scattermapbox\"}], \"scatterpolar\": [{\"marker\": {\"colorbar\": {\"outlinewidth\": 0, \"ticks\": \"\"}}, \"type\": \"scatterpolar\"}], \"scatterpolargl\": [{\"marker\": {\"colorbar\": {\"outlinewidth\": 0, \"ticks\": \"\"}}, \"type\": \"scatterpolargl\"}], \"scatterternary\": [{\"marker\": {\"colorbar\": {\"outlinewidth\": 0, \"ticks\": \"\"}}, \"type\": \"scatterternary\"}], \"surface\": [{\"colorbar\": {\"outlinewidth\": 0, \"ticks\": \"\"}, \"colorscale\": [[0.0, \"#0d0887\"], [0.1111111111111111, \"#46039f\"], [0.2222222222222222, \"#7201a8\"], [0.3333333333333333, \"#9c179e\"], [0.4444444444444444, \"#bd3786\"], [0.5555555555555556, \"#d8576b\"], [0.6666666666666666, \"#ed7953\"], [0.7777777777777778, \"#fb9f3a\"], [0.8888888888888888, \"#fdca26\"], [1.0, \"#f0f921\"]], \"type\": \"surface\"}], \"table\": [{\"cells\": {\"fill\": {\"color\": \"#EBF0F8\"}, \"line\": {\"color\": \"white\"}}, \"header\": {\"fill\": {\"color\": \"#C8D4E3\"}, \"line\": {\"color\": \"white\"}}, \"type\": \"table\"}]}, \"layout\": {\"annotationdefaults\": {\"arrowcolor\": \"#2a3f5f\", \"arrowhead\": 0, \"arrowwidth\": 1}, \"coloraxis\": {\"colorbar\": {\"outlinewidth\": 0, \"ticks\": \"\"}}, \"colorscale\": {\"diverging\": [[0, \"#8e0152\"], [0.1, \"#c51b7d\"], [0.2, \"#de77ae\"], [0.3, \"#f1b6da\"], [0.4, \"#fde0ef\"], [0.5, \"#f7f7f7\"], [0.6, \"#e6f5d0\"], [0.7, \"#b8e186\"], [0.8, \"#7fbc41\"], [0.9, \"#4d9221\"], [1, \"#276419\"]], \"sequential\": [[0.0, \"#0d0887\"], [0.1111111111111111, \"#46039f\"], [0.2222222222222222, \"#7201a8\"], [0.3333333333333333, \"#9c179e\"], [0.4444444444444444, \"#bd3786\"], [0.5555555555555556, \"#d8576b\"], [0.6666666666666666, \"#ed7953\"], [0.7777777777777778, \"#fb9f3a\"], [0.8888888888888888, \"#fdca26\"], [1.0, \"#f0f921\"]], \"sequentialminus\": [[0.0, \"#0d0887\"], [0.1111111111111111, \"#46039f\"], [0.2222222222222222, \"#7201a8\"], [0.3333333333333333, \"#9c179e\"], [0.4444444444444444, \"#bd3786\"], [0.5555555555555556, \"#d8576b\"], [0.6666666666666666, \"#ed7953\"], [0.7777777777777778, \"#fb9f3a\"], [0.8888888888888888, \"#fdca26\"], [1.0, \"#f0f921\"]]}, \"colorway\": [\"#636efa\", \"#EF553B\", \"#00cc96\", \"#ab63fa\", \"#FFA15A\", \"#19d3f3\", \"#FF6692\", \"#B6E880\", \"#FF97FF\", \"#FECB52\"], \"font\": {\"color\": \"#2a3f5f\"}, \"geo\": {\"bgcolor\": \"white\", \"lakecolor\": \"white\", \"landcolor\": \"#E5ECF6\", \"showlakes\": true, \"showland\": true, \"subunitcolor\": \"white\"}, \"hoverlabel\": {\"align\": \"left\"}, \"hovermode\": \"closest\", \"mapbox\": {\"style\": \"light\"}, \"paper_bgcolor\": \"white\", \"plot_bgcolor\": \"#E5ECF6\", \"polar\": {\"angularaxis\": {\"gridcolor\": \"white\", \"linecolor\": \"white\", \"ticks\": \"\"}, \"bgcolor\": \"#E5ECF6\", \"radialaxis\": {\"gridcolor\": \"white\", \"linecolor\": \"white\", \"ticks\": \"\"}}, \"scene\": {\"xaxis\": {\"backgroundcolor\": \"#E5ECF6\", \"gridcolor\": \"white\", \"gridwidth\": 2, \"linecolor\": \"white\", \"showbackground\": true, \"ticks\": \"\", \"zerolinecolor\": \"white\"}, \"yaxis\": {\"backgroundcolor\": \"#E5ECF6\", \"gridcolor\": \"white\", \"gridwidth\": 2, \"linecolor\": \"white\", \"showbackground\": true, \"ticks\": \"\", \"zerolinecolor\": \"white\"}, \"zaxis\": {\"backgroundcolor\": \"#E5ECF6\", \"gridcolor\": \"white\", \"gridwidth\": 2, \"linecolor\": \"white\", \"showbackground\": true, \"ticks\": \"\", \"zerolinecolor\": \"white\"}}, \"shapedefaults\": {\"line\": {\"color\": \"#2a3f5f\"}}, \"ternary\": {\"aaxis\": {\"gridcolor\": \"white\", \"linecolor\": \"white\", \"ticks\": \"\"}, \"baxis\": {\"gridcolor\": \"white\", \"linecolor\": \"white\", \"ticks\": \"\"}, \"bgcolor\": \"#E5ECF6\", \"caxis\": {\"gridcolor\": \"white\", \"linecolor\": \"white\", \"ticks\": \"\"}}, \"title\": {\"x\": 0.05}, \"xaxis\": {\"automargin\": true, \"gridcolor\": \"white\", \"linecolor\": \"white\", \"ticks\": \"\", \"title\": {\"standoff\": 15}, \"zerolinecolor\": \"white\", \"zerolinewidth\": 2}, \"yaxis\": {\"automargin\": true, \"gridcolor\": \"white\", \"linecolor\": \"white\", \"ticks\": \"\", \"title\": {\"standoff\": 15}, \"zerolinecolor\": \"white\", \"zerolinewidth\": 2}}}, \"title\": {\"text\": \"10 Worst hit countries\"}, \"width\": 1400, \"xaxis\": {\"anchor\": \"y\", \"categoryarray\": [\"US\", \"India\", \"Brazil\", \"United Kingdom\", \"Russia\", \"Turkey\", \"France\", \"Iran\", \"Germany\", \"Argentina\"], \"categoryorder\": \"array\", \"domain\": [0.0, 1.0], \"title\": {\"text\": \"Countries\"}}, \"yaxis\": {\"anchor\": \"x\", \"domain\": [0.0, 1.0], \"title\": {\"text\": \"Confirmed Cases\"}}},\n                        {\"responsive\": true}\n                    ).then(function(){\n                            \nvar gd = document.getElementById('b40960b5-f4cb-4d85-a834-e67bdb4919c0');\nvar x = new MutationObserver(function (mutations, observer) {{\n        var display = window.getComputedStyle(gd).display;\n        if (!display || display === 'none') {{\n            console.log([gd, 'removed!']);\n            Plotly.purge(gd);\n            observer.disconnect();\n        }}\n}});\n\n// Listen for the removal of the full notebook cells\nvar notebookContainer = gd.closest('#notebook-container');\nif (notebookContainer) {{\n    x.observe(notebookContainer, {childList: true});\n}}\n\n// Listen for the clearing of the current output cell\nvar outputEl = gd.closest('.output');\nif (outputEl) {{\n    x.observe(outputEl, {childList: true});\n}}\n\n                        })\n                };\n                \n            </script>\n        </div>\n</body>\n</html>"
                },
                "metadata": {}
              }
            ],
            "_view_module": "@jupyter-widgets/output",
            "_model_module_version": "1.0.0",
            "_view_count": null,
            "_view_module_version": "1.0.0",
            "layout": "IPY_MODEL_54db638cac824ecd8dcda9885a50c17d",
            "_model_module": "@jupyter-widgets/output"
          }
        },
        "adb91e4d0a0147e89679a80a6cf4914e": {
          "model_module": "@jupyter-widgets/controls",
          "model_name": "SliderStyleModel",
          "model_module_version": "1.5.0",
          "state": {
            "_view_name": "StyleView",
            "handle_color": null,
            "_model_name": "SliderStyleModel",
            "description_width": "",
            "_view_module": "@jupyter-widgets/base",
            "_model_module_version": "1.5.0",
            "_view_count": null,
            "_view_module_version": "1.2.0",
            "_model_module": "@jupyter-widgets/controls"
          }
        },
        "fd3e846a6a2248b09cf741086257e6eb": {
          "model_module": "@jupyter-widgets/base",
          "model_name": "LayoutModel",
          "model_module_version": "1.2.0",
          "state": {
            "_view_name": "LayoutView",
            "grid_template_rows": null,
            "right": null,
            "justify_content": null,
            "_view_module": "@jupyter-widgets/base",
            "overflow": null,
            "_model_module_version": "1.2.0",
            "_view_count": null,
            "flex_flow": null,
            "width": null,
            "min_width": null,
            "border": null,
            "align_items": null,
            "bottom": null,
            "_model_module": "@jupyter-widgets/base",
            "top": null,
            "grid_column": null,
            "overflow_y": null,
            "overflow_x": null,
            "grid_auto_flow": null,
            "grid_area": null,
            "grid_template_columns": null,
            "flex": null,
            "_model_name": "LayoutModel",
            "justify_items": null,
            "grid_row": null,
            "max_height": null,
            "align_content": null,
            "visibility": null,
            "align_self": null,
            "height": null,
            "min_height": null,
            "padding": null,
            "grid_auto_rows": null,
            "grid_gap": null,
            "max_width": null,
            "order": null,
            "_view_module_version": "1.2.0",
            "grid_template_areas": null,
            "object_position": null,
            "object_fit": null,
            "grid_auto_columns": null,
            "margin": null,
            "display": null,
            "left": null
          }
        },
        "54db638cac824ecd8dcda9885a50c17d": {
          "model_module": "@jupyter-widgets/base",
          "model_name": "LayoutModel",
          "model_module_version": "1.2.0",
          "state": {
            "_view_name": "LayoutView",
            "grid_template_rows": null,
            "right": null,
            "justify_content": null,
            "_view_module": "@jupyter-widgets/base",
            "overflow": null,
            "_model_module_version": "1.2.0",
            "_view_count": null,
            "flex_flow": null,
            "width": null,
            "min_width": null,
            "border": null,
            "align_items": null,
            "bottom": null,
            "_model_module": "@jupyter-widgets/base",
            "top": null,
            "grid_column": null,
            "overflow_y": null,
            "overflow_x": null,
            "grid_auto_flow": null,
            "grid_area": null,
            "grid_template_columns": null,
            "flex": null,
            "_model_name": "LayoutModel",
            "justify_items": null,
            "grid_row": null,
            "max_height": null,
            "align_content": null,
            "visibility": null,
            "align_self": null,
            "height": null,
            "min_height": null,
            "padding": null,
            "grid_auto_rows": null,
            "grid_gap": null,
            "max_width": null,
            "order": null,
            "_view_module_version": "1.2.0",
            "grid_template_areas": null,
            "object_position": null,
            "object_fit": null,
            "grid_auto_columns": null,
            "margin": null,
            "display": null,
            "left": null
          }
        },
        "abc50e6beefd4418a08e3b44d945a77d": {
          "model_module": "@jupyter-widgets/controls",
          "model_name": "VBoxModel",
          "model_module_version": "1.5.0",
          "state": {
            "_view_name": "VBoxView",
            "_dom_classes": [],
            "_model_name": "VBoxModel",
            "_view_module": "@jupyter-widgets/controls",
            "_model_module_version": "1.5.0",
            "_view_count": null,
            "_view_module_version": "1.5.0",
            "box_style": "",
            "layout": "IPY_MODEL_64d24d76556c4d848d59f05c924598d9",
            "_model_module": "@jupyter-widgets/controls",
            "children": [
              "IPY_MODEL_fa58c8daaad341cd96ef0ea12eb4ba5a"
            ]
          }
        },
        "64d24d76556c4d848d59f05c924598d9": {
          "model_module": "@jupyter-widgets/base",
          "model_name": "LayoutModel",
          "model_module_version": "1.2.0",
          "state": {
            "_view_name": "LayoutView",
            "grid_template_rows": null,
            "right": null,
            "justify_content": null,
            "_view_module": "@jupyter-widgets/base",
            "overflow": null,
            "_model_module_version": "1.2.0",
            "_view_count": null,
            "flex_flow": null,
            "width": null,
            "min_width": null,
            "border": "solid 2px green",
            "align_items": null,
            "bottom": null,
            "_model_module": "@jupyter-widgets/base",
            "top": null,
            "grid_column": null,
            "overflow_y": null,
            "overflow_x": null,
            "grid_auto_flow": null,
            "grid_area": null,
            "grid_template_columns": null,
            "flex": null,
            "_model_name": "LayoutModel",
            "justify_items": null,
            "grid_row": null,
            "max_height": null,
            "align_content": null,
            "visibility": null,
            "align_self": null,
            "height": null,
            "min_height": null,
            "padding": null,
            "grid_auto_rows": null,
            "grid_gap": null,
            "max_width": null,
            "order": null,
            "_view_module_version": "1.2.0",
            "grid_template_areas": null,
            "object_position": null,
            "object_fit": null,
            "grid_auto_columns": null,
            "margin": null,
            "display": "none",
            "left": null
          }
        },
        "ed6a2a5450cf4d468c0d6f7734f0590e": {
          "model_module": "@jupyter-widgets/controls",
          "model_name": "VBoxModel",
          "model_module_version": "1.5.0",
          "state": {
            "_view_name": "VBoxView",
            "_dom_classes": [
              "widget-interact"
            ],
            "_model_name": "VBoxModel",
            "_view_module": "@jupyter-widgets/controls",
            "_model_module_version": "1.5.0",
            "_view_count": null,
            "_view_module_version": "1.5.0",
            "box_style": "",
            "layout": "IPY_MODEL_3452a2ba9d084f78aadbe7d0379f101d",
            "_model_module": "@jupyter-widgets/controls",
            "children": [
              "IPY_MODEL_c2dbe1c09f9d48ea8eb90ab72aa03f14",
              "IPY_MODEL_84dba061edcf4f7895e64c9aa05ed850"
            ]
          }
        },
        "3452a2ba9d084f78aadbe7d0379f101d": {
          "model_module": "@jupyter-widgets/base",
          "model_name": "LayoutModel",
          "model_module_version": "1.2.0",
          "state": {
            "_view_name": "LayoutView",
            "grid_template_rows": null,
            "right": null,
            "justify_content": null,
            "_view_module": "@jupyter-widgets/base",
            "overflow": null,
            "_model_module_version": "1.2.0",
            "_view_count": null,
            "flex_flow": null,
            "width": null,
            "min_width": null,
            "border": null,
            "align_items": null,
            "bottom": null,
            "_model_module": "@jupyter-widgets/base",
            "top": null,
            "grid_column": null,
            "overflow_y": null,
            "overflow_x": null,
            "grid_auto_flow": null,
            "grid_area": null,
            "grid_template_columns": null,
            "flex": null,
            "_model_name": "LayoutModel",
            "justify_items": null,
            "grid_row": null,
            "max_height": null,
            "align_content": null,
            "visibility": null,
            "align_self": null,
            "height": null,
            "min_height": null,
            "padding": null,
            "grid_auto_rows": null,
            "grid_gap": null,
            "max_width": null,
            "order": null,
            "_view_module_version": "1.2.0",
            "grid_template_areas": null,
            "object_position": null,
            "object_fit": null,
            "grid_auto_columns": null,
            "margin": null,
            "display": null,
            "left": null
          }
        },
        "c2dbe1c09f9d48ea8eb90ab72aa03f14": {
          "model_module": "@jupyter-widgets/controls",
          "model_name": "TextModel",
          "model_module_version": "1.5.0",
          "state": {
            "_view_name": "TextView",
            "style": "IPY_MODEL_d855aa040aa848ba96eb79360afc67a9",
            "_dom_classes": [],
            "description": "country",
            "_model_name": "TextModel",
            "placeholder": "​",
            "_view_module": "@jupyter-widgets/controls",
            "_model_module_version": "1.5.0",
            "value": "World",
            "_view_count": null,
            "disabled": false,
            "_view_module_version": "1.5.0",
            "continuous_update": true,
            "description_tooltip": null,
            "_model_module": "@jupyter-widgets/controls",
            "layout": "IPY_MODEL_9e9886088b5f45c684b76963b36668e6"
          }
        },
        "84dba061edcf4f7895e64c9aa05ed850": {
          "model_module": "@jupyter-widgets/output",
          "model_name": "OutputModel",
          "model_module_version": "1.0.0",
          "state": {
            "_view_name": "OutputView",
            "msg_id": "",
            "_dom_classes": [],
            "_model_name": "OutputModel",
            "outputs": [
              {
                "output_type": "display_data",
                "data": {
                  "text/html": "<html>\n<head><meta charset=\"utf-8\" /></head>\n<body>\n    <div>\n            <script src=\"https://cdnjs.cloudflare.com/ajax/libs/mathjax/2.7.5/MathJax.js?config=TeX-AMS-MML_SVG\"></script><script type=\"text/javascript\">if (window.MathJax) {MathJax.Hub.Config({SVG: {font: \"STIX-Web\"}});}</script>\n                <script type=\"text/javascript\">window.PlotlyConfig = {MathJaxConfig: 'local'};</script>\n        <script src=\"https://cdn.plot.ly/plotly-latest.min.js\"></script>    \n            <div id=\"62eb87cb-1401-45d6-8606-0caa40975502\" class=\"plotly-graph-div\" style=\"height:525px; width:800px;\"></div>\n            <script type=\"text/javascript\">\n                \n                    window.PLOTLYENV=window.PLOTLYENV || {};\n                    \n                if (document.getElementById(\"62eb87cb-1401-45d6-8606-0caa40975502\")) {\n                    Plotly.newPlot(\n                        '62eb87cb-1401-45d6-8606-0caa40975502',\n                        [{\"connectgaps\": true, \"line\": {\"color\": \"blue\", \"width\": 4}, \"mode\": \"lines+markers\", \"name\": \"confirmed\", \"text\": \"Total confirmed: 261504022\", \"type\": \"scatter\", \"x\": [\"2/7/20\", \"2/8/20\", \"2/9/20\", \"2/10/20\", \"2/11/20\", \"2/12/20\", \"2/13/20\", \"2/14/20\", \"2/15/20\", \"2/16/20\", \"2/17/20\", \"2/18/20\", \"2/19/20\", \"2/20/20\", \"2/21/20\", \"2/22/20\", \"2/23/20\", \"2/24/20\", \"2/25/20\", \"2/26/20\", \"2/27/20\", \"2/28/20\", \"2/29/20\", \"3/1/20\", \"3/2/20\", \"3/3/20\", \"3/4/20\", \"3/5/20\", \"3/6/20\", \"3/7/20\", \"3/8/20\", \"3/9/20\", \"3/10/20\", \"3/11/20\", \"3/12/20\", \"3/13/20\", \"3/14/20\", \"3/15/20\", \"3/16/20\", \"3/17/20\", \"3/18/20\", \"3/19/20\", \"3/20/20\", \"3/21/20\", \"3/22/20\", \"3/23/20\", \"3/24/20\", \"3/25/20\", \"3/26/20\", \"3/27/20\", \"3/28/20\", \"3/29/20\", \"3/30/20\", \"3/31/20\", \"4/1/20\", \"4/2/20\", \"4/3/20\", \"4/4/20\", \"4/5/20\", \"4/6/20\", \"4/7/20\", \"4/8/20\", \"4/9/20\", \"4/10/20\", \"4/11/20\", \"4/12/20\", \"4/13/20\", \"4/14/20\", \"4/15/20\", \"4/16/20\", \"4/17/20\", \"4/18/20\", \"4/19/20\", \"4/20/20\", \"4/21/20\", \"4/22/20\", \"4/23/20\", \"4/24/20\", \"4/25/20\", \"4/26/20\", \"4/27/20\", \"4/28/20\", \"4/29/20\", \"4/30/20\", \"5/1/20\", \"5/2/20\", \"5/3/20\", \"5/4/20\", \"5/5/20\", \"5/6/20\", \"5/7/20\", \"5/8/20\", \"5/9/20\", \"5/10/20\", \"5/11/20\", \"5/12/20\", \"5/13/20\", \"5/14/20\", \"5/15/20\", \"5/16/20\", \"5/17/20\", \"5/18/20\", \"5/19/20\", \"5/20/20\", \"5/21/20\", \"5/22/20\", \"5/23/20\", \"5/24/20\", \"5/25/20\", \"5/26/20\", \"5/27/20\", \"5/28/20\", \"5/29/20\", \"5/30/20\", \"5/31/20\", \"6/1/20\", \"6/2/20\", \"6/3/20\", \"6/4/20\", \"6/5/20\", \"6/6/20\", \"6/7/20\", \"6/8/20\", \"6/9/20\", \"6/10/20\", \"6/11/20\", \"6/12/20\", \"6/13/20\", \"6/14/20\", \"6/15/20\", \"6/16/20\", \"6/17/20\", \"6/18/20\", \"6/19/20\", \"6/20/20\", \"6/21/20\", \"6/22/20\", \"6/23/20\", \"6/24/20\", \"6/25/20\", \"6/26/20\", \"6/27/20\", \"6/28/20\", \"6/29/20\", \"6/30/20\", \"7/1/20\", \"7/2/20\", \"7/3/20\", \"7/4/20\", \"7/5/20\", \"7/6/20\", \"7/7/20\", \"7/8/20\", \"7/9/20\", \"7/10/20\", \"7/11/20\", \"7/12/20\", \"7/13/20\", \"7/14/20\", \"7/15/20\", \"7/16/20\", \"7/17/20\", \"7/18/20\", \"7/19/20\", \"7/20/20\", \"7/21/20\", \"7/22/20\", \"7/23/20\", \"7/24/20\", \"7/25/20\", \"7/26/20\", \"7/27/20\", \"7/28/20\", \"7/29/20\", \"7/30/20\", \"7/31/20\", \"8/1/20\", \"8/2/20\", \"8/3/20\", \"8/4/20\", \"8/5/20\", \"8/6/20\", \"8/7/20\", \"8/8/20\", \"8/9/20\", \"8/10/20\", \"8/11/20\", \"8/12/20\", \"8/13/20\", \"8/14/20\", \"8/15/20\", \"8/16/20\", \"8/17/20\", \"8/18/20\", \"8/19/20\", \"8/20/20\", \"8/21/20\", \"8/22/20\", \"8/23/20\", \"8/24/20\", \"8/25/20\", \"8/26/20\", \"8/27/20\", \"8/28/20\", \"8/29/20\", \"8/30/20\", \"8/31/20\", \"9/1/20\", \"9/2/20\", \"9/3/20\", \"9/4/20\", \"9/5/20\", \"9/6/20\", \"9/7/20\", \"9/8/20\", \"9/9/20\", \"9/10/20\", \"9/11/20\", \"9/12/20\", \"9/13/20\", \"9/14/20\", \"9/15/20\", \"9/16/20\", \"9/17/20\", \"9/18/20\", \"9/19/20\", \"9/20/20\", \"9/21/20\", \"9/22/20\", \"9/23/20\", \"9/24/20\", \"9/25/20\", \"9/26/20\", \"9/27/20\", \"9/28/20\", \"9/29/20\", \"9/30/20\", \"10/1/20\", \"10/2/20\", \"10/3/20\", \"10/4/20\", \"10/5/20\", \"10/6/20\", \"10/7/20\", \"10/8/20\", \"10/9/20\", \"10/10/20\", \"10/11/20\", \"10/12/20\", \"10/13/20\", \"10/14/20\", \"10/15/20\", \"10/16/20\", \"10/17/20\", \"10/18/20\", \"10/19/20\", \"10/20/20\", \"10/21/20\", \"10/22/20\", \"10/23/20\", \"10/24/20\", \"10/25/20\", \"10/26/20\", \"10/27/20\", \"10/28/20\", \"10/29/20\", \"10/30/20\", \"10/31/20\", \"11/1/20\", \"11/2/20\", \"11/3/20\", \"11/4/20\", \"11/5/20\", \"11/6/20\", \"11/7/20\", \"11/8/20\", \"11/9/20\", \"11/10/20\", \"11/11/20\", \"11/12/20\", \"11/13/20\", \"11/14/20\", \"11/15/20\", \"11/16/20\", \"11/17/20\", \"11/18/20\", \"11/19/20\", \"11/20/20\", \"11/21/20\", \"11/22/20\", \"11/23/20\", \"11/24/20\", \"11/25/20\", \"11/26/20\", \"11/27/20\", \"11/28/20\", \"11/29/20\", \"11/30/20\", \"12/1/20\", \"12/2/20\", \"12/3/20\", \"12/4/20\", \"12/5/20\", \"12/6/20\", \"12/7/20\", \"12/8/20\", \"12/9/20\", \"12/10/20\", \"12/11/20\", \"12/12/20\", \"12/13/20\", \"12/14/20\", \"12/15/20\", \"12/16/20\", \"12/17/20\", \"12/18/20\", \"12/19/20\", \"12/20/20\", \"12/21/20\", \"12/22/20\", \"12/23/20\", \"12/24/20\", \"12/25/20\", \"12/26/20\", \"12/27/20\", \"12/28/20\", \"12/29/20\", \"12/30/20\", \"12/31/20\", \"1/1/21\", \"1/2/21\", \"1/3/21\", \"1/4/21\", \"1/5/21\", \"1/6/21\", \"1/7/21\", \"1/8/21\", \"1/9/21\", \"1/10/21\", \"1/11/21\", \"1/12/21\", \"1/13/21\", \"1/14/21\", \"1/15/21\", \"1/16/21\", \"1/17/21\", \"1/18/21\", \"1/19/21\", \"1/20/21\", \"1/21/21\", \"1/22/21\", \"1/23/21\", \"1/24/21\", \"1/25/21\", \"1/26/21\", \"1/27/21\", \"1/28/21\", \"1/29/21\", \"1/30/21\", \"1/31/21\", \"2/1/21\", \"2/2/21\", \"2/3/21\", \"2/4/21\", \"2/5/21\", \"2/6/21\", \"2/7/21\", \"2/8/21\", \"2/9/21\", \"2/10/21\", \"2/11/21\", \"2/12/21\", \"2/13/21\", \"2/14/21\", \"2/15/21\", \"2/16/21\", \"2/17/21\", \"2/18/21\", \"2/19/21\", \"2/20/21\", \"2/21/21\", \"2/22/21\", \"2/23/21\", \"2/24/21\", \"2/25/21\", \"2/26/21\", \"2/27/21\", \"2/28/21\", \"3/1/21\", \"3/2/21\", \"3/3/21\", \"3/4/21\", \"3/5/21\", \"3/6/21\", \"3/7/21\", \"3/8/21\", \"3/9/21\", \"3/10/21\", \"3/11/21\", \"3/12/21\", \"3/13/21\", \"3/14/21\", \"3/15/21\", \"3/16/21\", \"3/17/21\", \"3/18/21\", \"3/19/21\", \"3/20/21\", \"3/21/21\", \"3/22/21\", \"3/23/21\", \"3/24/21\", \"3/25/21\", \"3/26/21\", \"3/27/21\", \"3/28/21\", \"3/29/21\", \"3/30/21\", \"3/31/21\", \"4/1/21\", \"4/2/21\", \"4/3/21\", \"4/4/21\", \"4/5/21\", \"4/6/21\", \"4/7/21\", \"4/8/21\", \"4/9/21\", \"4/10/21\", \"4/11/21\", \"4/12/21\", \"4/13/21\", \"4/14/21\", \"4/15/21\", \"4/16/21\", \"4/17/21\", \"4/18/21\", \"4/19/21\", \"4/20/21\", \"4/21/21\", \"4/22/21\", \"4/23/21\", \"4/24/21\", \"4/25/21\", \"4/26/21\", \"4/27/21\", \"4/28/21\", \"4/29/21\", \"4/30/21\", \"5/1/21\", \"5/2/21\", \"5/3/21\", \"5/4/21\", \"5/5/21\", \"5/6/21\", \"5/7/21\", \"5/8/21\", \"5/9/21\", \"5/10/21\", \"5/11/21\", \"5/12/21\", \"5/13/21\", \"5/14/21\", \"5/15/21\", \"5/16/21\", \"5/17/21\", \"5/18/21\", \"5/19/21\", \"5/20/21\", \"5/21/21\", \"5/22/21\", \"5/23/21\", \"5/24/21\", \"5/25/21\", \"5/26/21\", \"5/27/21\", \"5/28/21\", \"5/29/21\", \"5/30/21\", \"5/31/21\", \"6/1/21\", \"6/2/21\", \"6/3/21\", \"6/4/21\", \"6/5/21\", \"6/6/21\", \"6/7/21\", \"6/8/21\", \"6/9/21\", \"6/10/21\", \"6/11/21\", \"6/12/21\", \"6/13/21\", \"6/14/21\", \"6/15/21\", \"6/16/21\", \"6/17/21\", \"6/18/21\", \"6/19/21\", \"6/20/21\", \"6/21/21\", \"6/22/21\", \"6/23/21\", \"6/24/21\", \"6/25/21\", \"6/26/21\", \"6/27/21\", \"6/28/21\", \"6/29/21\", \"6/30/21\", \"7/1/21\", \"7/2/21\", \"7/3/21\", \"7/4/21\", \"7/5/21\", \"7/6/21\", \"7/7/21\", \"7/8/21\", \"7/9/21\", \"7/10/21\", \"7/11/21\", \"7/12/21\", \"7/13/21\", \"7/14/21\", \"7/15/21\", \"7/16/21\", \"7/17/21\", \"7/18/21\", \"7/19/21\", \"7/20/21\", \"7/21/21\", \"7/22/21\", \"7/23/21\", \"7/24/21\", \"7/25/21\", \"7/26/21\", \"7/27/21\", \"7/28/21\", \"7/29/21\", \"7/30/21\", \"7/31/21\", \"8/1/21\", \"8/2/21\", \"8/3/21\", \"8/4/21\", \"8/5/21\", \"8/6/21\", \"8/7/21\", \"8/8/21\", \"8/9/21\", \"8/10/21\", \"8/11/21\", \"8/12/21\", \"8/13/21\", \"8/14/21\", \"8/15/21\", \"8/16/21\", \"8/17/21\", \"8/18/21\", \"8/19/21\", \"8/20/21\", \"8/21/21\", \"8/22/21\", \"8/23/21\", \"8/24/21\", \"8/25/21\", \"8/26/21\", \"8/27/21\", \"8/28/21\", \"8/29/21\", \"8/30/21\", \"8/31/21\", \"9/1/21\", \"9/2/21\", \"9/3/21\", \"9/4/21\", \"9/5/21\", \"9/6/21\", \"9/7/21\", \"9/8/21\", \"9/9/21\", \"9/10/21\", \"9/11/21\", \"9/12/21\", \"9/13/21\", \"9/14/21\", \"9/15/21\", \"9/16/21\", \"9/17/21\", \"9/18/21\", \"9/19/21\", \"9/20/21\", \"9/21/21\", \"9/22/21\", \"9/23/21\", \"9/24/21\", \"9/25/21\", \"9/26/21\", \"9/27/21\", \"9/28/21\", \"9/29/21\", \"9/30/21\", \"10/1/21\", \"10/2/21\", \"10/3/21\", \"10/4/21\", \"10/5/21\", \"10/6/21\", \"10/7/21\", \"10/8/21\", \"10/9/21\", \"10/10/21\", \"10/11/21\", \"10/12/21\", \"10/13/21\", \"10/14/21\", \"10/15/21\", \"10/16/21\", \"10/17/21\", \"10/18/21\", \"10/19/21\", \"10/20/21\", \"10/21/21\", \"10/22/21\", \"10/23/21\", \"10/24/21\", \"10/25/21\", \"10/26/21\", \"10/27/21\", \"10/28/21\", \"10/29/21\", \"10/30/21\", \"10/31/21\", \"11/1/21\", \"11/2/21\", \"11/3/21\", \"11/4/21\", \"11/5/21\", \"11/6/21\", \"11/7/21\", \"11/8/21\", \"11/9/21\", \"11/10/21\", \"11/11/21\", \"11/12/21\", \"11/13/21\", \"11/14/21\", \"11/15/21\", \"11/16/21\", \"11/17/21\", \"11/18/21\", \"11/19/21\", \"11/20/21\", \"11/21/21\", \"11/22/21\", \"11/23/21\", \"11/24/21\", \"11/25/21\", \"11/26/21\", \"11/27/21\", \"11/28/21\"], \"y\": [557, 655, 941, 1434, 2118, 2927, 5578, 6167, 8235, 9927, 12038, 16787, 19887, 23898, 27643, 30805, 34399, 37130, 40161, 42769, 44811, 45229, 60381, 66909, 69052, 71235, 73270, 75152, 75652, 76212, 76841, 78602, 78982, 79550, 80404, 81381, 82740, 84128, 86022, 88400, 90379, 92980, 95282, 98100, 102016, 106113, 110051, 114232, 119055, 126714, 132513, 146864, 157962, 169241, 184034, 200039, 219586, 246684, 277565, 309680, 344821, 387488, 428574, 479663, 542525, 607435, 677100, 734000, 799279, 876098, 959012, 1041923, 1126238, 1185171, 1256277, 1330151, 1399552, 1482877, 1570233, 1655623, 1730100, 1849635, 1920621, 2004469, 2082629, 2178015, 2266210, 2343459, 2420285, 2495724, 2571680, 2653519, 2737033, 2820961, 2903928, 2975369, 3045573, 3121379, 3198366, 3281736, 3370333, 3449993, 3524895, 3602083, 3682186, 3772588, 3861478, 3952059, 4036214, 4111910, 4188263, 4272702, 4357656, 4453534, 4549685, 4643963, 4722390, 4811104, 4907900, 5010021, 5116700, 5223038, 5327487, 5422309, 5508897, 5601704, 5705239, 5823756, 5944872, 6081733, 6188464, 6284169, 6405877, 6520060, 6650902, 6781972, 6915860, 7028666, 7129888, 7254440, 7389760, 7527046, 7656260, 7791268, 7924004, 8042352, 8183997, 8328754, 8469435, 8649623, 8807276, 8936132, 9074333, 9241366, 9414276, 9592714, 9784446, 9963203, 10128229, 10281760, 10458099, 10675384, 10885108, 11087874, 11284863, 11468559, 11632143, 11841870, 12055672, 12280596, 12513289, 12731073, 12925585, 13115560, 13336353, 13567314, 13819171, 14061955, 14299236, 14513652, 14719012, 14953603, 15233436, 15516142, 15798043, 16054157, 16268527, 16494344, 16744332, 17032574, 17312842, 17603627, 17855016, 18086405, 18292636, 18546760, 18824779, 19107783, 19391776, 19651428, 19878464, 20101952, 20364221, 20637630, 20927045, 21230446, 21480945, 21696326, 21902921, 22159063, 22435491, 22708693, 22969875, 23235452, 23442017, 23665573, 23910192, 24192498, 24477337, 24760697, 25026011, 25247557, 25507644, 25773687, 26056816, 26338416, 26652741, 26923181, 27153540, 27371723, 27612247, 27897555, 28197384, 28519111, 28806364, 29049301, 29311822, 29597221, 29901699, 30216545, 30542587, 30835348, 31088013, 31362619, 31647471, 31923473, 32277103, 32608359, 32897281, 33149276, 33403428, 33686297, 34012348, 34331074, 34629241, 34963471, 35223769, 35523211, 35849315, 36200561, 36562202, 36923459, 37281187, 37569205, 37860798, 38179049, 38560828, 38968208, 39380022, 39754760, 40071515, 40457740, 40846700, 41291455, 41763897, 42261566, 42719335, 43080608, 43565713, 44036428, 44548546, 45099239, 45671376, 46149652, 46613843, 47175135, 47731111, 48242495, 48839821, 49484776, 50086652, 50571374, 51070475, 51630803, 52282484, 52928930, 53582011, 54181570, 54657077, 55187618, 55799366, 56426811, 57081275, 57754021, 58344980, 58833172, 59355716, 59948859, 60587879, 61177096, 61859918, 62449970, 62939589, 63443452, 64063410, 64718391, 65415005, 66102820, 66752129, 67289453, 67804877, 68457222, 69129223, 70632794, 71341373, 71983162, 72513311, 73045072, 73697586, 74429548, 75171068, 75892671, 76517677, 77049829, 77590143, 78251788, 78948063, 79630233, 80110632, 80618331, 81051464, 81539610, 82212027, 82952728, 83730214, 84296831, 84902473, 85425434, 85975750, 86719564, 87510918, 88403658, 89220644, 89983496, 90574163, 91190749, 91891817, 92642992, 93403109, 94176606, 94824569, 95353589, 95867631, 96467296, 97165030, 97822521, 98483195, 99058268, 99517010, 100008224, 100564626, 101166858, 101781360, 102373184, 102894523, 103284194, 103728118, 104188233, 104715448, 105184869, 105720625, 106102398, 106508190, 106821955, 107252775, 107692119, 108137052, 108568601, 108946817, 109246876, 109533287, 109883616, 110281507, 110689406, 111103621, 111479450, 111800177, 112089933, 112481991, 112930144, 113381186, 113828161, 114222207, 114531207, 114836002, 115149465, 115593104, 116049431, 116499312, 116914480, 117287117, 117587404, 118002885, 118472291, 118951474, 119443264, 119900306, 120264725, 120613703, 121081264, 121632866, 122176769, 122741137, 123242645, 123679559, 124095873, 124611738, 125247205, 125900596, 126543523, 127129346, 127604777, 128062401, 128632389, 129317088, 130030746, 130667289, 131198963, 131755058, 132240816, 132846294, 133532407, 134373454, 135124214, 135792536, 136484869, 137098733, 137880264, 138696739, 139513853, 140372030, 141160041, 141847053, 142540114, 143394369, 144285955, 145185683, 146089937, 146912466, 147637593, 148319278, 149164640, 150072929, 150969991, 151850501, 152649234, 153324853, 154004359, 154812586, 155655432, 156525899, 157359377, 158146607, 158789140, 159408210, 160147657, 160908291, 161634132, 162352181, 162981501, 163531058, 164069942, 164692989, 165365410, 165645214, 166271845, 166851249, 167328526, 167781016, 168313871, 168883551, 169437880, 169938480, 170420805, 170812657, 171191493, 171654528, 172140760, 172630192, 173049928, 173449200, 173772497, 174093088, 174460315, 174880256, 175329967, 175750964, 176123820, 176427496, 176734876, 177106230, 177504943, 177897490, 178304378, 178653879, 178956275, 179249957, 179621785, 180059586, 180464511, 180886457, 181252494, 181563983, 181892327, 182271987, 182668988, 183109974, 183551246, 183927947, 184256466, 184626035, 185079474, 185542929, 186023285, 186530807, 186957864, 187328391, 187765083, 188285072, 188826542, 189398671, 189996958, 190470948, 190901967, 191398496, 191928444, 192487261, 193051660, 193741670, 194213700, 194658993, 195199364, 195809598, 196453899, 197106768, 197837068, 198347236, 198828535, 199406609, 200044020, 200719424, 201408350, 202230166, 202781094, 203222679, 203876512, 204525161, 205253686, 205964473, 206770184, 207304126, 207768138, 208446748, 209129811, 209858030, 210573684, 211363802, 211903993, 212350485, 213054951, 213741877, 214472203, 215207893, 215953596, 216500980, 216947553, 217634085, 218253273, 218980614, 219657629, 220375748, 220860465, 221300532, 221741039, 222466559, 223098256, 223735890, 224369896, 224826464, 225194710, 225796002, 226347382, 226915344, 227491898, 228085441, 228622489, 228983331, 229517405, 229986580, 230524746, 231036461, 231584038, 231951194, 232299522, 232772166, 233221627, 233724423, 234209180, 234748599, 235095253, 235401647, 235846176, 236266349, 236779307, 237212149, 237686620, 238018875, 238333805, 238715804, 239149112, 239612449, 240057016, 240514095, 240851366, 241164653, 241579420, 242021572, 242492769, 242949747, 243435393, 243795689, 244111765, 244542769, 244985542, 245498028, 245957103, 246461921, 246843901, 247164753, 247587799, 248017288, 248538508, 249066287, 249581640, 249996073, 250343250, 250821737, 251304831, 251879214, 252395307, 252989981, 253418652, 253770095, 254310598, 254837039, 255461905, 256075033, 256690934, 257167603, 257563736, 258188373, 258794862, 259464002, 260063320, 260657384, 261073662, 261504022]}, {\"connectgaps\": true, \"line\": {\"color\": \"red\", \"width\": 5}, \"mode\": \"lines+markers\", \"name\": \"deaths\", \"text\": \"Total deaths: 5199821\", \"type\": \"scatter\", \"x\": [\"2/7/20\", \"2/8/20\", \"2/9/20\", \"2/10/20\", \"2/11/20\", \"2/12/20\", \"2/13/20\", \"2/14/20\", \"2/15/20\", \"2/16/20\", \"2/17/20\", \"2/18/20\", \"2/19/20\", \"2/20/20\", \"2/21/20\", \"2/22/20\", \"2/23/20\", \"2/24/20\", \"2/25/20\", \"2/26/20\", \"2/27/20\", \"2/28/20\", \"2/29/20\", \"3/1/20\", \"3/2/20\", \"3/3/20\", \"3/4/20\", \"3/5/20\", \"3/6/20\", \"3/7/20\", \"3/8/20\", \"3/9/20\", \"3/10/20\", \"3/11/20\", \"3/12/20\", \"3/13/20\", \"3/14/20\", \"3/15/20\", \"3/16/20\", \"3/17/20\", \"3/18/20\", \"3/19/20\", \"3/20/20\", \"3/21/20\", \"3/22/20\", \"3/23/20\", \"3/24/20\", \"3/25/20\", \"3/26/20\", \"3/27/20\", \"3/28/20\", \"3/29/20\", \"3/30/20\", \"3/31/20\", \"4/1/20\", \"4/2/20\", \"4/3/20\", \"4/4/20\", \"4/5/20\", \"4/6/20\", \"4/7/20\", \"4/8/20\", \"4/9/20\", \"4/10/20\", \"4/11/20\", \"4/12/20\", \"4/13/20\", \"4/14/20\", \"4/15/20\", \"4/16/20\", \"4/17/20\", \"4/18/20\", \"4/19/20\", \"4/20/20\", \"4/21/20\", \"4/22/20\", \"4/23/20\", \"4/24/20\", \"4/25/20\", \"4/26/20\", \"4/27/20\", \"4/28/20\", \"4/29/20\", \"4/30/20\", \"5/1/20\", \"5/2/20\", \"5/3/20\", \"5/4/20\", \"5/5/20\", \"5/6/20\", \"5/7/20\", \"5/8/20\", \"5/9/20\", \"5/10/20\", \"5/11/20\", \"5/12/20\", \"5/13/20\", \"5/14/20\", \"5/15/20\", \"5/16/20\", \"5/17/20\", \"5/18/20\", \"5/19/20\", \"5/20/20\", \"5/21/20\", \"5/22/20\", \"5/23/20\", \"5/24/20\", \"5/25/20\", \"5/26/20\", \"5/27/20\", \"5/28/20\", \"5/29/20\", \"5/30/20\", \"5/31/20\", \"6/1/20\", \"6/2/20\", \"6/3/20\", \"6/4/20\", \"6/5/20\", \"6/6/20\", \"6/7/20\", \"6/8/20\", \"6/9/20\", \"6/10/20\", \"6/11/20\", \"6/12/20\", \"6/13/20\", \"6/14/20\", \"6/15/20\", \"6/16/20\", \"6/17/20\", \"6/18/20\", \"6/19/20\", \"6/20/20\", \"6/21/20\", \"6/22/20\", \"6/23/20\", \"6/24/20\", \"6/25/20\", \"6/26/20\", \"6/27/20\", \"6/28/20\", \"6/29/20\", \"6/30/20\", \"7/1/20\", \"7/2/20\", \"7/3/20\", \"7/4/20\", \"7/5/20\", \"7/6/20\", \"7/7/20\", \"7/8/20\", \"7/9/20\", \"7/10/20\", \"7/11/20\", \"7/12/20\", \"7/13/20\", \"7/14/20\", \"7/15/20\", \"7/16/20\", \"7/17/20\", \"7/18/20\", \"7/19/20\", \"7/20/20\", \"7/21/20\", \"7/22/20\", \"7/23/20\", \"7/24/20\", \"7/25/20\", \"7/26/20\", \"7/27/20\", \"7/28/20\", \"7/29/20\", \"7/30/20\", \"7/31/20\", \"8/1/20\", \"8/2/20\", \"8/3/20\", \"8/4/20\", \"8/5/20\", \"8/6/20\", \"8/7/20\", \"8/8/20\", \"8/9/20\", \"8/10/20\", \"8/11/20\", \"8/12/20\", \"8/13/20\", \"8/14/20\", \"8/15/20\", \"8/16/20\", \"8/17/20\", \"8/18/20\", \"8/19/20\", \"8/20/20\", \"8/21/20\", \"8/22/20\", \"8/23/20\", \"8/24/20\", \"8/25/20\", \"8/26/20\", \"8/27/20\", \"8/28/20\", \"8/29/20\", \"8/30/20\", \"8/31/20\", \"9/1/20\", \"9/2/20\", \"9/3/20\", \"9/4/20\", \"9/5/20\", \"9/6/20\", \"9/7/20\", \"9/8/20\", \"9/9/20\", \"9/10/20\", \"9/11/20\", \"9/12/20\", \"9/13/20\", \"9/14/20\", \"9/15/20\", \"9/16/20\", \"9/17/20\", \"9/18/20\", \"9/19/20\", \"9/20/20\", \"9/21/20\", \"9/22/20\", \"9/23/20\", \"9/24/20\", \"9/25/20\", \"9/26/20\", \"9/27/20\", \"9/28/20\", \"9/29/20\", \"9/30/20\", \"10/1/20\", \"10/2/20\", \"10/3/20\", \"10/4/20\", \"10/5/20\", \"10/6/20\", \"10/7/20\", \"10/8/20\", \"10/9/20\", \"10/10/20\", \"10/11/20\", \"10/12/20\", \"10/13/20\", \"10/14/20\", \"10/15/20\", \"10/16/20\", \"10/17/20\", \"10/18/20\", \"10/19/20\", \"10/20/20\", \"10/21/20\", \"10/22/20\", \"10/23/20\", \"10/24/20\", \"10/25/20\", \"10/26/20\", \"10/27/20\", \"10/28/20\", \"10/29/20\", \"10/30/20\", \"10/31/20\", \"11/1/20\", \"11/2/20\", \"11/3/20\", \"11/4/20\", \"11/5/20\", \"11/6/20\", \"11/7/20\", \"11/8/20\", \"11/9/20\", \"11/10/20\", \"11/11/20\", \"11/12/20\", \"11/13/20\", \"11/14/20\", \"11/15/20\", \"11/16/20\", \"11/17/20\", \"11/18/20\", \"11/19/20\", \"11/20/20\", \"11/21/20\", \"11/22/20\", \"11/23/20\", \"11/24/20\", \"11/25/20\", \"11/26/20\", \"11/27/20\", \"11/28/20\", \"11/29/20\", \"11/30/20\", \"12/1/20\", \"12/2/20\", \"12/3/20\", \"12/4/20\", \"12/5/20\", \"12/6/20\", \"12/7/20\", \"12/8/20\", \"12/9/20\", \"12/10/20\", \"12/11/20\", \"12/12/20\", \"12/13/20\", \"12/14/20\", \"12/15/20\", \"12/16/20\", \"12/17/20\", \"12/18/20\", \"12/19/20\", \"12/20/20\", \"12/21/20\", \"12/22/20\", \"12/23/20\", \"12/24/20\", \"12/25/20\", \"12/26/20\", \"12/27/20\", \"12/28/20\", \"12/29/20\", \"12/30/20\", \"12/31/20\", \"1/1/21\", \"1/2/21\", \"1/3/21\", \"1/4/21\", \"1/5/21\", \"1/6/21\", \"1/7/21\", \"1/8/21\", \"1/9/21\", \"1/10/21\", \"1/11/21\", \"1/12/21\", \"1/13/21\", \"1/14/21\", \"1/15/21\", \"1/16/21\", \"1/17/21\", \"1/18/21\", \"1/19/21\", \"1/20/21\", \"1/21/21\", \"1/22/21\", \"1/23/21\", \"1/24/21\", \"1/25/21\", \"1/26/21\", \"1/27/21\", \"1/28/21\", \"1/29/21\", \"1/30/21\", \"1/31/21\", \"2/1/21\", \"2/2/21\", \"2/3/21\", \"2/4/21\", \"2/5/21\", \"2/6/21\", \"2/7/21\", \"2/8/21\", \"2/9/21\", \"2/10/21\", \"2/11/21\", \"2/12/21\", \"2/13/21\", \"2/14/21\", \"2/15/21\", \"2/16/21\", \"2/17/21\", \"2/18/21\", \"2/19/21\", \"2/20/21\", \"2/21/21\", \"2/22/21\", \"2/23/21\", \"2/24/21\", \"2/25/21\", \"2/26/21\", \"2/27/21\", \"2/28/21\", \"3/1/21\", \"3/2/21\", \"3/3/21\", \"3/4/21\", \"3/5/21\", \"3/6/21\", \"3/7/21\", \"3/8/21\", \"3/9/21\", \"3/10/21\", \"3/11/21\", \"3/12/21\", \"3/13/21\", \"3/14/21\", \"3/15/21\", \"3/16/21\", \"3/17/21\", \"3/18/21\", \"3/19/21\", \"3/20/21\", \"3/21/21\", \"3/22/21\", \"3/23/21\", \"3/24/21\", \"3/25/21\", \"3/26/21\", \"3/27/21\", \"3/28/21\", \"3/29/21\", \"3/30/21\", \"3/31/21\", \"4/1/21\", \"4/2/21\", \"4/3/21\", \"4/4/21\", \"4/5/21\", \"4/6/21\", \"4/7/21\", \"4/8/21\", \"4/9/21\", \"4/10/21\", \"4/11/21\", \"4/12/21\", \"4/13/21\", \"4/14/21\", \"4/15/21\", \"4/16/21\", \"4/17/21\", \"4/18/21\", \"4/19/21\", \"4/20/21\", \"4/21/21\", \"4/22/21\", \"4/23/21\", \"4/24/21\", \"4/25/21\", \"4/26/21\", \"4/27/21\", \"4/28/21\", \"4/29/21\", \"4/30/21\", \"5/1/21\", \"5/2/21\", \"5/3/21\", \"5/4/21\", \"5/5/21\", \"5/6/21\", \"5/7/21\", \"5/8/21\", \"5/9/21\", \"5/10/21\", \"5/11/21\", \"5/12/21\", \"5/13/21\", \"5/14/21\", \"5/15/21\", \"5/16/21\", \"5/17/21\", \"5/18/21\", \"5/19/21\", \"5/20/21\", \"5/21/21\", \"5/22/21\", \"5/23/21\", \"5/24/21\", \"5/25/21\", \"5/26/21\", \"5/27/21\", \"5/28/21\", \"5/29/21\", \"5/30/21\", \"5/31/21\", \"6/1/21\", \"6/2/21\", \"6/3/21\", \"6/4/21\", \"6/5/21\", \"6/6/21\", \"6/7/21\", \"6/8/21\", \"6/9/21\", \"6/10/21\", \"6/11/21\", \"6/12/21\", \"6/13/21\", \"6/14/21\", \"6/15/21\", \"6/16/21\", \"6/17/21\", \"6/18/21\", \"6/19/21\", \"6/20/21\", \"6/21/21\", \"6/22/21\", \"6/23/21\", \"6/24/21\", \"6/25/21\", \"6/26/21\", \"6/27/21\", \"6/28/21\", \"6/29/21\", \"6/30/21\", \"7/1/21\", \"7/2/21\", \"7/3/21\", \"7/4/21\", \"7/5/21\", \"7/6/21\", \"7/7/21\", \"7/8/21\", \"7/9/21\", \"7/10/21\", \"7/11/21\", \"7/12/21\", \"7/13/21\", \"7/14/21\", \"7/15/21\", \"7/16/21\", \"7/17/21\", \"7/18/21\", \"7/19/21\", \"7/20/21\", \"7/21/21\", \"7/22/21\", \"7/23/21\", \"7/24/21\", \"7/25/21\", \"7/26/21\", \"7/27/21\", \"7/28/21\", \"7/29/21\", \"7/30/21\", \"7/31/21\", \"8/1/21\", \"8/2/21\", \"8/3/21\", \"8/4/21\", \"8/5/21\", \"8/6/21\", \"8/7/21\", \"8/8/21\", \"8/9/21\", \"8/10/21\", \"8/11/21\", \"8/12/21\", \"8/13/21\", \"8/14/21\", \"8/15/21\", \"8/16/21\", \"8/17/21\", \"8/18/21\", \"8/19/21\", \"8/20/21\", \"8/21/21\", \"8/22/21\", \"8/23/21\", \"8/24/21\", \"8/25/21\", \"8/26/21\", \"8/27/21\", \"8/28/21\", \"8/29/21\", \"8/30/21\", \"8/31/21\", \"9/1/21\", \"9/2/21\", \"9/3/21\", \"9/4/21\", \"9/5/21\", \"9/6/21\", \"9/7/21\", \"9/8/21\", \"9/9/21\", \"9/10/21\", \"9/11/21\", \"9/12/21\", \"9/13/21\", \"9/14/21\", \"9/15/21\", \"9/16/21\", \"9/17/21\", \"9/18/21\", \"9/19/21\", \"9/20/21\", \"9/21/21\", \"9/22/21\", \"9/23/21\", \"9/24/21\", \"9/25/21\", \"9/26/21\", \"9/27/21\", \"9/28/21\", \"9/29/21\", \"9/30/21\", \"10/1/21\", \"10/2/21\", \"10/3/21\", \"10/4/21\", \"10/5/21\", \"10/6/21\", \"10/7/21\", \"10/8/21\", \"10/9/21\", \"10/10/21\", \"10/11/21\", \"10/12/21\", \"10/13/21\", \"10/14/21\", \"10/15/21\", \"10/16/21\", \"10/17/21\", \"10/18/21\", \"10/19/21\", \"10/20/21\", \"10/21/21\", \"10/22/21\", \"10/23/21\", \"10/24/21\", \"10/25/21\", \"10/26/21\", \"10/27/21\", \"10/28/21\", \"10/29/21\", \"10/30/21\", \"10/31/21\", \"11/1/21\", \"11/2/21\", \"11/3/21\", \"11/4/21\", \"11/5/21\", \"11/6/21\", \"11/7/21\", \"11/8/21\", \"11/9/21\", \"11/10/21\", \"11/11/21\", \"11/12/21\", \"11/13/21\", \"11/14/21\", \"11/15/21\", \"11/16/21\", \"11/17/21\", \"11/18/21\", \"11/19/21\", \"11/20/21\", \"11/21/21\", \"11/22/21\", \"11/23/21\", \"11/24/21\", \"11/25/21\", \"11/26/21\", \"11/27/21\", \"11/28/21\"], \"y\": [17, 18, 26, 42, 56, 82, 131, 133, 171, 213, 259, 362, 426, 492, 564, 634, 719, 806, 906, 1013, 1113, 1118, 1371, 1523, 1666, 1770, 1868, 2008, 2123, 2248, 2252, 2459, 2470, 2630, 2710, 2771, 2814, 2873, 2943, 2997, 3086, 3160, 3255, 3348, 3461, 3565, 3805, 3995, 4271, 4616, 4925, 5417, 5838, 6488, 7175, 7991, 8909, 10025, 11520, 13243, 14927, 16885, 19195, 22019, 25059, 28544, 32380, 35857, 39938, 44670, 50684, 56576, 62754, 68734, 73977, 79912, 88223, 95052, 102920, 110337, 116623, 122563, 128582, 135687, 144231, 151650, 160151, 166353, 171704, 177752, 185154, 192181, 199179, 206093, 211977, 216230, 221160, 227995, 234942, 240996, 246467, 252311, 256158, 260710, 266837, 273722, 279419, 285347, 289933, 293974, 297890, 303770, 309256, 314838, 320474, 325024, 328598, 332747, 337874, 343067, 348152, 353809, 358105, 361589, 363203, 367844, 373262, 378273, 383420, 387798, 390953, 394468, 399670, 405514, 410948, 416001, 420215, 423398, 427565, 432765, 438246, 443301, 448108, 452550, 456196, 460034, 467130, 472704, 478025, 484407, 488915, 493534, 497252, 502810, 508369, 513422, 518498, 523270, 526801, 530799, 536001, 541325, 546794, 552109, 556907, 560749, 564898, 571230, 576913, 582712, 588378, 593620, 597922, 602203, 608196, 614055, 620242, 627280, 633857, 638758, 642544, 648953, 656310, 662950, 669398, 675584, 679914, 685120, 691735, 698780, 705459, 711989, 718142, 722817, 727571, 734543, 742000, 748831, 755567, 761657, 766831, 772110, 778805, 785760, 792573, 799206, 805210, 810028, 814531, 821583, 828639, 835054, 840800, 846676, 851024, 855703, 862346, 868917, 875139, 880977, 886660, 891088, 895421, 902083, 908351, 914422, 920330, 925545, 929659, 939257, 944373, 950550, 956573, 962601, 967699, 971661, 976177, 982789, 988690, 994296, 1000184, 1005556, 1009535, 1013858, 1020067, 1025684, 1032270, 1038190, 1043770, 1047612, 1051618, 1057721, 1064226, 1073081, 1078109, 1083563, 1087589, 1094590, 1100452, 1106356, 1112712, 1118924, 1123845, 1127977, 1132047, 1137400, 1143603, 1149691, 1156016, 1161753, 1165383, 1170292, 1176942, 1183799, 1189714, 1196779, 1202682, 1206941, 1212530, 1220012, 1227223, 1234388, 1242016, 1248726, 1253847, 1260032, 1269470, 1279621, 1287726, 1297465, 1305174, 1311207, 1318426, 1328463, 1338978, 1348746, 1358385, 1367624, 1374220, 1382114, 1393203, 1404651, 1415765, 1427564, 1436604, 1444041, 1452518, 1465246, 1477391, 1488384, 1499792, 1509082, 1516414, 1525280, 1538015, 1550697, 1563270, 1575729, 1586073, 1593755, 1602417, 1614743, 1627403, 1640067, 1653142, 1663872, 1671644, 1680727, 1694495, 1708355, 1721747, 1734656, 1745652, 1753724, 1763239, 1777417, 1791231, 1803060, 1811768, 1819320, 1827041, 1836611, 1851755, 1867361, 1880668, 1890332, 1898815, 1906416, 1916419, 1931825, 1946930, 1962084, 1977355, 1990333, 1999100, 2009143, 2026274, 2043165, 2058638, 2073701, 2087459, 2096559, 2106276, 2122919, 2140926, 2158034, 2174181, 2188157, 2197359, 2208341, 2225842, 2243170, 2260166, 2275629, 2289269, 2298035, 2308387, 2323773, 2339882, 2352872, 2370052, 2380544, 2388853, 2397550, 2413674, 2427694, 2441378, 2454486, 2464928, 2471623, 2479023, 2490480, 2502404, 2514285, 2525948, 2534915, 2541355, 2548659, 2560363, 2572870, 2583503, 2594298, 2602931, 2609157, 2616813, 2627152, 2638989, 2649290, 2659905, 2668055, 2673942, 2681059, 2691681, 2701816, 2712034, 2722020, 2730455, 2736365, 2743764, 2754397, 2764981, 2775706, 2786685, 2795421, 2803933, 2811758, 2823328, 2833754, 2845396, 2858287, 2868451, 2875735, 2884147, 2896279, 2909112, 2921567, 2932220, 2941569, 2948882, 2956548, 2969160, 2984881, 2999314, 3013566, 3026629, 3035638, 3045480, 3059369, 3073417, 3087082, 3100385, 3112889, 3122129, 3133036, 3147353, 3162293, 3176171, 3191345, 3204619, 3215268, 3226890, 3241884, 3257957, 3273699, 3287773, 3301090, 3311312, 3323037, 3337118, 3352026, 3366692, 3381153, 3394472, 3404930, 3416007, 3430249, 3444126, 3457842, 3470873, 3483129, 3493373, 3504533, 3518743, 3532319, 3545380, 3558409, 3569935, 3579687, 3588734, 3601955, 3614694, 3627701, 3639639, 3650422, 3658720, 3667413, 3682756, 3694663, 3704521, 3715481, 3724862, 3732080, 3740127, 3750496, 3760993, 3776987, 3788797, 3798567, 3807834, 3815697, 3826285, 3836617, 3845916, 3855145, 3863321, 3870047, 3876898, 3885897, 3895430, 3904050, 3913280, 3920831, 3926926, 3933429, 3941557, 3950779, 3959446, 3967726, 3974630, 3981298, 3988587, 3997136, 4005718, 4014560, 4022958, 4029581, 4037209, 4045267, 4053600, 4062241, 4070778, 4079504, 4086591, 4093687, 4100742, 4121501, 4130204, 4138965, 4146749, 4155998, 4163313, 4171094, 4180969, 4191134, 4201965, 4211605, 4220367, 4227772, 4235687, 4246034, 4256660, 4267609, 4278189, 4286811, 4294262, 4302901, 4314458, 4324881, 4335556, 4346033, 4354721, 4361964, 4371777, 4382545, 4393380, 4404888, 4415352, 4424285, 4431918, 4441961, 4453057, 4464412, 4476072, 4486312, 4494817, 4501533, 4511040, 4520178, 4532687, 4543902, 4554600, 4562330, 4568819, 4576802, 4587295, 4597400, 4608178, 4617373, 4625728, 4631250, 4640309, 4650278, 4660728, 4671216, 4679904, 4686683, 4692718, 4700915, 4710036, 4720172, 4729953, 4738756, 4744138, 4749508, 4757282, 4766666, 4776035, 4784872, 4793485, 4799309, 4803548, 4810799, 4818215, 4827440, 4836305, 4843866, 4848626, 4853299, 4859128, 4867264, 4876039, 4884014, 4891307, 4896524, 4900764, 4907272, 4915552, 4924216, 4931895, 4940098, 4945839, 4950393, 4957055, 4964988, 4974155, 4982729, 4990780, 4996764, 5001217, 5007515, 5014817, 5023158, 5030841, 5039421, 5045946, 5050372, 5057099, 5065300, 5073444, 5081021, 5089697, 5096561, 5101106, 5107842, 5115473, 5124615, 5132833, 5140912, 5146871, 5151280, 5158517, 5166421, 5174954, 5182742, 5189402, 5195138, 5199821]}],\n                        {\"margin\": {\"b\": 20, \"l\": 20, \"r\": 20, \"t\": 40}, \"paper_bgcolor\": \"lightgrey\", \"template\": {\"data\": {\"bar\": [{\"error_x\": {\"color\": \"#2a3f5f\"}, \"error_y\": {\"color\": \"#2a3f5f\"}, \"marker\": {\"line\": {\"color\": \"#E5ECF6\", \"width\": 0.5}}, \"type\": \"bar\"}], \"barpolar\": [{\"marker\": {\"line\": {\"color\": \"#E5ECF6\", \"width\": 0.5}}, \"type\": \"barpolar\"}], \"carpet\": [{\"aaxis\": {\"endlinecolor\": \"#2a3f5f\", \"gridcolor\": \"white\", \"linecolor\": \"white\", \"minorgridcolor\": \"white\", \"startlinecolor\": \"#2a3f5f\"}, \"baxis\": {\"endlinecolor\": \"#2a3f5f\", \"gridcolor\": \"white\", \"linecolor\": \"white\", \"minorgridcolor\": \"white\", \"startlinecolor\": \"#2a3f5f\"}, \"type\": \"carpet\"}], \"choropleth\": [{\"colorbar\": {\"outlinewidth\": 0, \"ticks\": \"\"}, \"type\": \"choropleth\"}], \"contour\": [{\"colorbar\": {\"outlinewidth\": 0, \"ticks\": \"\"}, \"colorscale\": [[0.0, \"#0d0887\"], [0.1111111111111111, \"#46039f\"], [0.2222222222222222, \"#7201a8\"], [0.3333333333333333, \"#9c179e\"], [0.4444444444444444, \"#bd3786\"], [0.5555555555555556, \"#d8576b\"], [0.6666666666666666, \"#ed7953\"], [0.7777777777777778, \"#fb9f3a\"], [0.8888888888888888, \"#fdca26\"], [1.0, \"#f0f921\"]], \"type\": \"contour\"}], \"contourcarpet\": [{\"colorbar\": {\"outlinewidth\": 0, \"ticks\": \"\"}, \"type\": \"contourcarpet\"}], \"heatmap\": [{\"colorbar\": {\"outlinewidth\": 0, \"ticks\": \"\"}, \"colorscale\": [[0.0, \"#0d0887\"], [0.1111111111111111, \"#46039f\"], [0.2222222222222222, \"#7201a8\"], [0.3333333333333333, \"#9c179e\"], [0.4444444444444444, \"#bd3786\"], [0.5555555555555556, \"#d8576b\"], [0.6666666666666666, \"#ed7953\"], [0.7777777777777778, \"#fb9f3a\"], [0.8888888888888888, \"#fdca26\"], [1.0, \"#f0f921\"]], \"type\": \"heatmap\"}], \"heatmapgl\": [{\"colorbar\": {\"outlinewidth\": 0, \"ticks\": \"\"}, \"colorscale\": [[0.0, \"#0d0887\"], [0.1111111111111111, \"#46039f\"], [0.2222222222222222, \"#7201a8\"], [0.3333333333333333, \"#9c179e\"], [0.4444444444444444, \"#bd3786\"], [0.5555555555555556, \"#d8576b\"], [0.6666666666666666, \"#ed7953\"], [0.7777777777777778, \"#fb9f3a\"], [0.8888888888888888, \"#fdca26\"], [1.0, \"#f0f921\"]], \"type\": \"heatmapgl\"}], \"histogram\": [{\"marker\": {\"colorbar\": {\"outlinewidth\": 0, \"ticks\": \"\"}}, \"type\": \"histogram\"}], \"histogram2d\": [{\"colorbar\": {\"outlinewidth\": 0, \"ticks\": \"\"}, \"colorscale\": [[0.0, \"#0d0887\"], [0.1111111111111111, \"#46039f\"], [0.2222222222222222, \"#7201a8\"], [0.3333333333333333, \"#9c179e\"], [0.4444444444444444, \"#bd3786\"], [0.5555555555555556, \"#d8576b\"], [0.6666666666666666, \"#ed7953\"], [0.7777777777777778, \"#fb9f3a\"], [0.8888888888888888, \"#fdca26\"], [1.0, \"#f0f921\"]], \"type\": \"histogram2d\"}], \"histogram2dcontour\": [{\"colorbar\": {\"outlinewidth\": 0, \"ticks\": \"\"}, \"colorscale\": [[0.0, \"#0d0887\"], [0.1111111111111111, \"#46039f\"], [0.2222222222222222, \"#7201a8\"], [0.3333333333333333, \"#9c179e\"], [0.4444444444444444, \"#bd3786\"], [0.5555555555555556, \"#d8576b\"], [0.6666666666666666, \"#ed7953\"], [0.7777777777777778, \"#fb9f3a\"], [0.8888888888888888, \"#fdca26\"], [1.0, \"#f0f921\"]], \"type\": \"histogram2dcontour\"}], \"mesh3d\": [{\"colorbar\": {\"outlinewidth\": 0, \"ticks\": \"\"}, \"type\": \"mesh3d\"}], \"parcoords\": [{\"line\": {\"colorbar\": {\"outlinewidth\": 0, \"ticks\": \"\"}}, \"type\": \"parcoords\"}], \"pie\": [{\"automargin\": true, \"type\": \"pie\"}], \"scatter\": [{\"marker\": {\"colorbar\": {\"outlinewidth\": 0, \"ticks\": \"\"}}, \"type\": \"scatter\"}], \"scatter3d\": [{\"line\": {\"colorbar\": {\"outlinewidth\": 0, \"ticks\": \"\"}}, \"marker\": {\"colorbar\": {\"outlinewidth\": 0, \"ticks\": \"\"}}, \"type\": \"scatter3d\"}], \"scattercarpet\": [{\"marker\": {\"colorbar\": {\"outlinewidth\": 0, \"ticks\": \"\"}}, \"type\": \"scattercarpet\"}], \"scattergeo\": [{\"marker\": {\"colorbar\": {\"outlinewidth\": 0, \"ticks\": \"\"}}, \"type\": \"scattergeo\"}], \"scattergl\": [{\"marker\": {\"colorbar\": {\"outlinewidth\": 0, \"ticks\": \"\"}}, \"type\": \"scattergl\"}], \"scattermapbox\": [{\"marker\": {\"colorbar\": {\"outlinewidth\": 0, \"ticks\": \"\"}}, \"type\": \"scattermapbox\"}], \"scatterpolar\": [{\"marker\": {\"colorbar\": {\"outlinewidth\": 0, \"ticks\": \"\"}}, \"type\": \"scatterpolar\"}], \"scatterpolargl\": [{\"marker\": {\"colorbar\": {\"outlinewidth\": 0, \"ticks\": \"\"}}, \"type\": \"scatterpolargl\"}], \"scatterternary\": [{\"marker\": {\"colorbar\": {\"outlinewidth\": 0, \"ticks\": \"\"}}, \"type\": \"scatterternary\"}], \"surface\": [{\"colorbar\": {\"outlinewidth\": 0, \"ticks\": \"\"}, \"colorscale\": [[0.0, \"#0d0887\"], [0.1111111111111111, \"#46039f\"], [0.2222222222222222, \"#7201a8\"], [0.3333333333333333, \"#9c179e\"], [0.4444444444444444, \"#bd3786\"], [0.5555555555555556, \"#d8576b\"], [0.6666666666666666, \"#ed7953\"], [0.7777777777777778, \"#fb9f3a\"], [0.8888888888888888, \"#fdca26\"], [1.0, \"#f0f921\"]], \"type\": \"surface\"}], \"table\": [{\"cells\": {\"fill\": {\"color\": \"#EBF0F8\"}, \"line\": {\"color\": \"white\"}}, \"header\": {\"fill\": {\"color\": \"#C8D4E3\"}, \"line\": {\"color\": \"white\"}}, \"type\": \"table\"}]}, \"layout\": {\"annotationdefaults\": {\"arrowcolor\": \"#2a3f5f\", \"arrowhead\": 0, \"arrowwidth\": 1}, \"coloraxis\": {\"colorbar\": {\"outlinewidth\": 0, \"ticks\": \"\"}}, \"colorscale\": {\"diverging\": [[0, \"#8e0152\"], [0.1, \"#c51b7d\"], [0.2, \"#de77ae\"], [0.3, \"#f1b6da\"], [0.4, \"#fde0ef\"], [0.5, \"#f7f7f7\"], [0.6, \"#e6f5d0\"], [0.7, \"#b8e186\"], [0.8, \"#7fbc41\"], [0.9, \"#4d9221\"], [1, \"#276419\"]], \"sequential\": [[0.0, \"#0d0887\"], [0.1111111111111111, \"#46039f\"], [0.2222222222222222, \"#7201a8\"], [0.3333333333333333, \"#9c179e\"], [0.4444444444444444, \"#bd3786\"], [0.5555555555555556, \"#d8576b\"], [0.6666666666666666, \"#ed7953\"], [0.7777777777777778, \"#fb9f3a\"], [0.8888888888888888, \"#fdca26\"], [1.0, \"#f0f921\"]], \"sequentialminus\": [[0.0, \"#0d0887\"], [0.1111111111111111, \"#46039f\"], [0.2222222222222222, \"#7201a8\"], [0.3333333333333333, \"#9c179e\"], [0.4444444444444444, \"#bd3786\"], [0.5555555555555556, \"#d8576b\"], [0.6666666666666666, \"#ed7953\"], [0.7777777777777778, \"#fb9f3a\"], [0.8888888888888888, \"#fdca26\"], [1.0, \"#f0f921\"]]}, \"colorway\": [\"#636efa\", \"#EF553B\", \"#00cc96\", \"#ab63fa\", \"#FFA15A\", \"#19d3f3\", \"#FF6692\", \"#B6E880\", \"#FF97FF\", \"#FECB52\"], \"font\": {\"color\": \"#2a3f5f\"}, \"geo\": {\"bgcolor\": \"white\", \"lakecolor\": \"white\", \"landcolor\": \"#E5ECF6\", \"showlakes\": true, \"showland\": true, \"subunitcolor\": \"white\"}, \"hoverlabel\": {\"align\": \"left\"}, \"hovermode\": \"closest\", \"mapbox\": {\"style\": \"light\"}, \"paper_bgcolor\": \"white\", \"plot_bgcolor\": \"#E5ECF6\", \"polar\": {\"angularaxis\": {\"gridcolor\": \"white\", \"linecolor\": \"white\", \"ticks\": \"\"}, \"bgcolor\": \"#E5ECF6\", \"radialaxis\": {\"gridcolor\": \"white\", \"linecolor\": \"white\", \"ticks\": \"\"}}, \"scene\": {\"xaxis\": {\"backgroundcolor\": \"#E5ECF6\", \"gridcolor\": \"white\", \"gridwidth\": 2, \"linecolor\": \"white\", \"showbackground\": true, \"ticks\": \"\", \"zerolinecolor\": \"white\"}, \"yaxis\": {\"backgroundcolor\": \"#E5ECF6\", \"gridcolor\": \"white\", \"gridwidth\": 2, \"linecolor\": \"white\", \"showbackground\": true, \"ticks\": \"\", \"zerolinecolor\": \"white\"}, \"zaxis\": {\"backgroundcolor\": \"#E5ECF6\", \"gridcolor\": \"white\", \"gridwidth\": 2, \"linecolor\": \"white\", \"showbackground\": true, \"ticks\": \"\", \"zerolinecolor\": \"white\"}}, \"shapedefaults\": {\"line\": {\"color\": \"#2a3f5f\"}}, \"ternary\": {\"aaxis\": {\"gridcolor\": \"white\", \"linecolor\": \"white\", \"ticks\": \"\"}, \"baxis\": {\"gridcolor\": \"white\", \"linecolor\": \"white\", \"ticks\": \"\"}, \"bgcolor\": \"#E5ECF6\", \"caxis\": {\"gridcolor\": \"white\", \"linecolor\": \"white\", \"ticks\": \"\"}}, \"title\": {\"x\": 0.05}, \"xaxis\": {\"automargin\": true, \"gridcolor\": \"white\", \"linecolor\": \"white\", \"ticks\": \"\", \"title\": {\"standoff\": 15}, \"zerolinecolor\": \"white\", \"zerolinewidth\": 2}, \"yaxis\": {\"automargin\": true, \"gridcolor\": \"white\", \"linecolor\": \"white\", \"ticks\": \"\", \"title\": {\"standoff\": 15}, \"zerolinecolor\": \"white\", \"zerolinewidth\": 2}}}, \"title\": {\"text\": \"COVID 19 cases of World\"}, \"width\": 800, \"xaxis\": {\"title\": {\"text\": \"Date\"}}, \"yaxis\": {\"title\": {\"text\": \"No. of Confirmed Cases\"}, \"type\": \"linear\"}},\n                        {\"responsive\": true}\n                    ).then(function(){\n                            \nvar gd = document.getElementById('62eb87cb-1401-45d6-8606-0caa40975502');\nvar x = new MutationObserver(function (mutations, observer) {{\n        var display = window.getComputedStyle(gd).display;\n        if (!display || display === 'none') {{\n            console.log([gd, 'removed!']);\n            Plotly.purge(gd);\n            observer.disconnect();\n        }}\n}});\n\n// Listen for the removal of the full notebook cells\nvar notebookContainer = gd.closest('#notebook-container');\nif (notebookContainer) {{\n    x.observe(notebookContainer, {childList: true});\n}}\n\n// Listen for the clearing of the current output cell\nvar outputEl = gd.closest('.output');\nif (outputEl) {{\n    x.observe(outputEl, {childList: true});\n}}\n\n                        })\n                };\n                \n            </script>\n        </div>\n</body>\n</html>"
                },
                "metadata": {}
              }
            ],
            "_view_module": "@jupyter-widgets/output",
            "_model_module_version": "1.0.0",
            "_view_count": null,
            "_view_module_version": "1.0.0",
            "layout": "IPY_MODEL_2414f9a8229e464b958a0424d2a85df0",
            "_model_module": "@jupyter-widgets/output"
          }
        },
        "d855aa040aa848ba96eb79360afc67a9": {
          "model_module": "@jupyter-widgets/controls",
          "model_name": "DescriptionStyleModel",
          "model_module_version": "1.5.0",
          "state": {
            "_view_name": "StyleView",
            "_model_name": "DescriptionStyleModel",
            "description_width": "",
            "_view_module": "@jupyter-widgets/base",
            "_model_module_version": "1.5.0",
            "_view_count": null,
            "_view_module_version": "1.2.0",
            "_model_module": "@jupyter-widgets/controls"
          }
        },
        "9e9886088b5f45c684b76963b36668e6": {
          "model_module": "@jupyter-widgets/base",
          "model_name": "LayoutModel",
          "model_module_version": "1.2.0",
          "state": {
            "_view_name": "LayoutView",
            "grid_template_rows": null,
            "right": null,
            "justify_content": null,
            "_view_module": "@jupyter-widgets/base",
            "overflow": null,
            "_model_module_version": "1.2.0",
            "_view_count": null,
            "flex_flow": null,
            "width": null,
            "min_width": null,
            "border": null,
            "align_items": null,
            "bottom": null,
            "_model_module": "@jupyter-widgets/base",
            "top": null,
            "grid_column": null,
            "overflow_y": null,
            "overflow_x": null,
            "grid_auto_flow": null,
            "grid_area": null,
            "grid_template_columns": null,
            "flex": null,
            "_model_name": "LayoutModel",
            "justify_items": null,
            "grid_row": null,
            "max_height": null,
            "align_content": null,
            "visibility": null,
            "align_self": null,
            "height": null,
            "min_height": null,
            "padding": null,
            "grid_auto_rows": null,
            "grid_gap": null,
            "max_width": null,
            "order": null,
            "_view_module_version": "1.2.0",
            "grid_template_areas": null,
            "object_position": null,
            "object_fit": null,
            "grid_auto_columns": null,
            "margin": null,
            "display": null,
            "left": null
          }
        },
        "2414f9a8229e464b958a0424d2a85df0": {
          "model_module": "@jupyter-widgets/base",
          "model_name": "LayoutModel",
          "model_module_version": "1.2.0",
          "state": {
            "_view_name": "LayoutView",
            "grid_template_rows": null,
            "right": null,
            "justify_content": null,
            "_view_module": "@jupyter-widgets/base",
            "overflow": null,
            "_model_module_version": "1.2.0",
            "_view_count": null,
            "flex_flow": null,
            "width": null,
            "min_width": null,
            "border": null,
            "align_items": null,
            "bottom": null,
            "_model_module": "@jupyter-widgets/base",
            "top": null,
            "grid_column": null,
            "overflow_y": null,
            "overflow_x": null,
            "grid_auto_flow": null,
            "grid_area": null,
            "grid_template_columns": null,
            "flex": null,
            "_model_name": "LayoutModel",
            "justify_items": null,
            "grid_row": null,
            "max_height": null,
            "align_content": null,
            "visibility": null,
            "align_self": null,
            "height": null,
            "min_height": null,
            "padding": null,
            "grid_auto_rows": null,
            "grid_gap": null,
            "max_width": null,
            "order": null,
            "_view_module_version": "1.2.0",
            "grid_template_areas": null,
            "object_position": null,
            "object_fit": null,
            "grid_auto_columns": null,
            "margin": null,
            "display": null,
            "left": null
          }
        },
        "f6e551b1c94249f9b83553c4f0469496": {
          "model_module": "@jupyter-widgets/controls",
          "model_name": "VBoxModel",
          "model_module_version": "1.5.0",
          "state": {
            "_view_name": "VBoxView",
            "_dom_classes": [],
            "_model_name": "VBoxModel",
            "_view_module": "@jupyter-widgets/controls",
            "_model_module_version": "1.5.0",
            "_view_count": null,
            "_view_module_version": "1.5.0",
            "box_style": "",
            "layout": "IPY_MODEL_4641b469c0944a81a9eed665b7be53e0",
            "_model_module": "@jupyter-widgets/controls",
            "children": [
              "IPY_MODEL_fa58c8daaad341cd96ef0ea12eb4ba5a"
            ]
          }
        },
        "4641b469c0944a81a9eed665b7be53e0": {
          "model_module": "@jupyter-widgets/base",
          "model_name": "LayoutModel",
          "model_module_version": "1.2.0",
          "state": {
            "_view_name": "LayoutView",
            "grid_template_rows": null,
            "right": null,
            "justify_content": null,
            "_view_module": "@jupyter-widgets/base",
            "overflow": null,
            "_model_module_version": "1.2.0",
            "_view_count": null,
            "flex_flow": null,
            "width": null,
            "min_width": null,
            "border": "solid 2px green",
            "align_items": null,
            "bottom": null,
            "_model_module": "@jupyter-widgets/base",
            "top": null,
            "grid_column": null,
            "overflow_y": null,
            "overflow_x": null,
            "grid_auto_flow": null,
            "grid_area": null,
            "grid_template_columns": null,
            "flex": null,
            "_model_name": "LayoutModel",
            "justify_items": null,
            "grid_row": null,
            "max_height": null,
            "align_content": null,
            "visibility": null,
            "align_self": null,
            "height": null,
            "min_height": null,
            "padding": null,
            "grid_auto_rows": null,
            "grid_gap": null,
            "max_width": null,
            "order": null,
            "_view_module_version": "1.2.0",
            "grid_template_areas": null,
            "object_position": null,
            "object_fit": null,
            "grid_auto_columns": null,
            "margin": null,
            "display": "none",
            "left": null
          }
        }
      }
    }
  },
  "cells": [
    {
      "cell_type": "markdown",
      "metadata": {
        "id": "8YbKZMd5XvOS"
      },
      "source": [
        "# COVID-19 Interactive Analysis Dashboard"
      ]
    },
    {
      "cell_type": "markdown",
      "metadata": {
        "id": "AWTnlaYbXvOf"
      },
      "source": [
        "## What is COVID-19?\n",
        "\n",
        "> Coronaviruses are a large family of viruses that may cause respiratory illnesses in humans ranging from common colds to more severe conditions such as Severe Acute Respiratory Syndrome (SARS) and Middle Eastern Respiratory Syndrome (MERS).1\n",
        "'Novel coronavirus' is a new, previously unidentified strain of coronavirus. The novel coronavirus involved in the current outbreak has been named SARS-CoV-2 by the World Health Organization (WHO). 3The disease it causes has been named “coronavirus disease 2019” (or “COVID-19”).`\n",
        "\n",
        " "
      ]
    },
    {
      "cell_type": "code",
      "metadata": {
        "id": "dLmTpOjeXvOg"
      },
      "source": [
        "# importing libraries\n",
        "\n",
        "from __future__ import print_function\n",
        "from ipywidgets import interact, interactive, fixed, interact_manual\n",
        "from IPython.core.display import display, HTML\n",
        "\n",
        "import numpy as np\n",
        "import pandas as pd\n",
        "import matplotlib.pyplot as plt\n",
        "import plotly.express as px\n",
        "import folium\n",
        "import plotly.graph_objects as go\n",
        "import seaborn as sns\n",
        "import ipywidgets as widgets"
      ],
      "execution_count": null,
      "outputs": []
    },
    {
      "cell_type": "code",
      "metadata": {
        "id": "Pu5fVkYnXvOg"
      },
      "source": [
        "# loading data right from the source:\n",
        "death_df = pd.read_csv('https://raw.githubusercontent.com/CSSEGISandData/COVID-19/master/csse_covid_19_data/csse_covid_19_time_series/time_series_covid19_deaths_global.csv')\n",
        "confirmed_df = pd.read_csv('https://raw.githubusercontent.com/CSSEGISandData/COVID-19/master/csse_covid_19_data/csse_covid_19_time_series/time_series_covid19_confirmed_global.csv')\n",
        "recovered_df = pd.read_csv('https://raw.githubusercontent.com/CSSEGISandData/COVID-19/master/csse_covid_19_data/csse_covid_19_time_series/time_series_covid19_recovered_global.csv')\n",
        "country_df = pd.read_csv('https://raw.githubusercontent.com/CSSEGISandData/COVID-19/web-data/data/cases_country.csv')"
      ],
      "execution_count": null,
      "outputs": []
    },
    {
      "cell_type": "code",
      "metadata": {
        "id": "yOQ6qoOpXvOi"
      },
      "source": [
        "# data cleaning\n",
        "\n",
        "# renaming the df column names to lowercase\n",
        "country_df.columns = map(str.lower, country_df.columns)\n",
        "confirmed_df.columns = map(str.lower, confirmed_df.columns)\n",
        "death_df.columns = map(str.lower, death_df.columns)\n",
        "recovered_df.columns = map(str.lower, recovered_df.columns)\n",
        "\n",
        "# changing province/state to state and country/region to country\n",
        "confirmed_df = confirmed_df.rename(columns={'province/state': 'state', 'country/region': 'country'})\n",
        "recovered_df = confirmed_df.rename(columns={'province/state': 'state', 'country/region': 'country'})\n",
        "death_df = death_df.rename(columns={'province/state': 'state', 'country/region': 'country'})\n",
        "country_df = country_df.rename(columns={'country_region': 'country'})\n",
        "# country_df.head()"
      ],
      "execution_count": null,
      "outputs": []
    },
    {
      "cell_type": "code",
      "metadata": {
        "id": "8FidwTWqXvOj"
      },
      "source": [
        "# total number of confirmed, death and recovered cases\n",
        "confirmed_total = int(country_df['confirmed'].sum())\n",
        "deaths_total = int(country_df['deaths'].sum())\n",
        "recovered_total = int(country_df['recovered'].sum())\n",
        "active_total = int(country_df['active'].sum())"
      ],
      "execution_count": null,
      "outputs": []
    },
    {
      "cell_type": "code",
      "metadata": {
        "id": "xWY88q9bXvOj",
        "colab": {
          "base_uri": "https://localhost:8080/",
          "height": 114
        },
        "outputId": "b908c296-1462-4eea-e28c-cf0aaa7a6232"
      },
      "source": [
        "# displaying the total stats\n",
        "\n",
        "display(HTML(\"<div style = 'background-color: #504e4e; padding: 30px '>\" +\n",
        "             \"<span style='color: #fff; font-size:30px;'> Confirmed: \"  + str(confirmed_total) +\"</span>\" +\n",
        "             \"<span style='color: red; font-size:30px;margin-left:20px;'> Deaths: \" + str(deaths_total) + \"</span>\"+\n",
        "             \"<span style='color: lightgreen; font-size:30px; margin-left:20px;'> Recovered: \" + str(recovered_total) + \"</span>\"+\n",
        "             \"</div>\")\n",
        "       )"
      ],
      "execution_count": null,
      "outputs": [
        {
          "output_type": "display_data",
          "data": {
            "text/html": [
              "<div style = 'background-color: #504e4e; padding: 30px '><span style='color: #fff; font-size:30px;'> Confirmed: 261664156</span><span style='color: red; font-size:30px;margin-left:20px;'> Deaths: 5202942</span><span style='color: lightgreen; font-size:30px; margin-left:20px;'> Recovered: 0</span></div>"
            ],
            "text/plain": [
              "<IPython.core.display.HTML object>"
            ]
          },
          "metadata": {}
        }
      ]
    },
    {
      "cell_type": "markdown",
      "metadata": {
        "id": "Ys1n7_HlXvOk"
      },
      "source": [
        "# COVID-19 Confirmed/Death/Recovered cases by countries\n",
        "\n",
        "## Enter number of countries you want the data for"
      ]
    },
    {
      "cell_type": "code",
      "metadata": {
        "colab": {
          "base_uri": "https://localhost:8080/",
          "height": 585,
          "referenced_widgets": [
            "12467ffc0bb941af88a4fec2aa5e6ccd",
            "a78e4d531450408aab05339d4bb662ca",
            "de78da015cc247bfad2435cf06a551d4",
            "e1650c3138cd49929bd857bc9321ddbc",
            "890f924efde64d13959d5884ca55c04d",
            "5e59a1d467be4fea948f4f26ad680bcd",
            "256d165a93034da8ac8e306d46b05033",
            "c91e9eafb5eb42e08189eee09d1e8a2a",
            "0884f332c9cf4ac1ba661fd01c23fcc1",
            "fa58c8daaad341cd96ef0ea12eb4ba5a"
          ]
        },
        "id": "9aUHP7f3XvOl",
        "outputId": "4540e746-111f-4d28-a0a1-ec0aabcab701"
      },
      "source": [
        "# sorting the values by confirmed descednding order\n",
        "country_df.sort_values('confirmed', ascending= False).head(10).style.background_gradient(cmap='copper')\n",
        "fig = go.FigureWidget( layout=go.Layout() )\n",
        "def highlight_col(x):\n",
        "    r = 'background-color: red'\n",
        "    y = 'background-color: purple'\n",
        "    g = 'background-color: grey'\n",
        "    df1 = pd.DataFrame('', index=x.index, columns=x.columns)\n",
        "    df1.iloc[:, 4] = y\n",
        "    df1.iloc[:, 5] = r\n",
        "    df1.iloc[:, 6] = g\n",
        "    \n",
        "    return df1\n",
        "\n",
        "def show_latest_cases(n):\n",
        "    n = int(n)\n",
        "    return country_df.sort_values('confirmed', ascending= False).head(n).style.apply(highlight_col, axis=None)\n",
        "\n",
        "interact(show_latest_cases, n='10')\n",
        "\n",
        "ipywLayout = widgets.Layout(border='solid 2px green')\n",
        "ipywLayout.display='none'  \n",
        "widgets.VBox([fig], layout=ipywLayout)"
      ],
      "execution_count": null,
      "outputs": [
        {
          "output_type": "display_data",
          "data": {
            "application/vnd.jupyter.widget-view+json": {
              "model_id": "12467ffc0bb941af88a4fec2aa5e6ccd",
              "version_minor": 0,
              "version_major": 2
            },
            "text/plain": [
              "interactive(children=(Text(value='10', description='n'), Output()), _dom_classes=('widget-interact',))"
            ]
          },
          "metadata": {}
        },
        {
          "output_type": "display_data",
          "data": {
            "application/vnd.jupyter.widget-view+json": {
              "model_id": "c91e9eafb5eb42e08189eee09d1e8a2a",
              "version_minor": 0,
              "version_major": 2
            },
            "text/plain": [
              "VBox(children=(FigureWidget({\n",
              "    'data': [], 'layout': {'template': '...'}\n",
              "}),), layout=Layout(border='solid …"
            ]
          },
          "metadata": {}
        }
      ]
    },
    {
      "cell_type": "code",
      "metadata": {
        "id": "8GjWph1MXvOl"
      },
      "source": [
        "sorted_country_df = country_df.sort_values('confirmed', ascending= False)"
      ],
      "execution_count": null,
      "outputs": []
    },
    {
      "cell_type": "markdown",
      "metadata": {
        "id": "qy7pFsSlXvOl"
      },
      "source": [
        "# Slide to check for the worst hit countries"
      ]
    },
    {
      "cell_type": "code",
      "metadata": {
        "colab": {
          "base_uri": "https://localhost:8080/",
          "height": 591,
          "referenced_widgets": [
            "70dda1ce9521406ea121b50014048553",
            "fe4eda4f335c4c618b77f726de84f52c",
            "5a25748b0d714f71b8b9d803ae622d4e",
            "4a4972d8469a4d119b9ddec8c673663c",
            "adb91e4d0a0147e89679a80a6cf4914e",
            "fd3e846a6a2248b09cf741086257e6eb",
            "54db638cac824ecd8dcda9885a50c17d",
            "abc50e6beefd4418a08e3b44d945a77d",
            "64d24d76556c4d848d59f05c924598d9",
            "fa58c8daaad341cd96ef0ea12eb4ba5a"
          ]
        },
        "id": "wEeGNMdnXvOm",
        "outputId": "1cd9c21d-0732-4a33-f91e-7cda4ac18a24"
      },
      "source": [
        "# # plotting the 20 worst hit countries\n",
        "\n",
        "def bubble_chart(n):\n",
        "    fig = px.scatter(sorted_country_df.head(n), x=\"country\", y=\"confirmed\", size=\"confirmed\", color=\"country\",\n",
        "               hover_name=\"country\", size_max=60)\n",
        "    fig.update_layout(\n",
        "    title=str(n) +\" Worst hit countries\",\n",
        "    xaxis_title=\"Countries\",\n",
        "    yaxis_title=\"Confirmed Cases\",\n",
        "    width = 1400\n",
        "    )\n",
        "    fig.show();\n",
        "\n",
        "interact(bubble_chart, n=10)\n",
        "\n",
        "ipywLayout = widgets.Layout(border='solid 2px green')\n",
        "ipywLayout.display='none'\n",
        "widgets.VBox([fig], layout=ipywLayout)"
      ],
      "execution_count": null,
      "outputs": [
        {
          "output_type": "display_data",
          "data": {
            "application/vnd.jupyter.widget-view+json": {
              "model_id": "70dda1ce9521406ea121b50014048553",
              "version_minor": 0,
              "version_major": 2
            },
            "text/plain": [
              "interactive(children=(IntSlider(value=10, description='n', max=30, min=-10), Output()), _dom_classes=('widget-…"
            ]
          },
          "metadata": {}
        },
        {
          "output_type": "display_data",
          "data": {
            "application/vnd.jupyter.widget-view+json": {
              "model_id": "abc50e6beefd4418a08e3b44d945a77d",
              "version_minor": 0,
              "version_major": 2
            },
            "text/plain": [
              "VBox(children=(FigureWidget({\n",
              "    'data': [], 'layout': {'template': '...'}\n",
              "}),), layout=Layout(border='solid …"
            ]
          },
          "metadata": {}
        }
      ]
    },
    {
      "cell_type": "code",
      "metadata": {
        "id": "Vmz1FukzXvOm"
      },
      "source": [
        "\n",
        "\n",
        "def plot_cases_of_a_country(country):\n",
        "    labels = ['confirmed', 'deaths']\n",
        "    colors = ['blue', 'red']\n",
        "    mode_size = [6, 8]\n",
        "    line_size = [4, 5]\n",
        "    \n",
        "    df_list = [confirmed_df, death_df]\n",
        "    \n",
        "    fig = go.Figure();\n",
        "    \n",
        "    for i, df in enumerate(df_list):\n",
        "        if country == 'World' or country == 'world':\n",
        "            x_data = np.array(list(df.iloc[:, 20:].columns))\n",
        "            y_data = np.sum(np.asarray(df.iloc[:,4:]),axis = 0)\n",
        "            \n",
        "        else:    \n",
        "            x_data = np.array(list(df.iloc[:, 20:].columns))\n",
        "            y_data = np.sum(np.asarray(df[df['country'] == country].iloc[:,20:]),axis = 0)\n",
        "            \n",
        "        fig.add_trace(go.Scatter(x=x_data, y=y_data, mode='lines+markers',\n",
        "        name=labels[i],\n",
        "        line=dict(color=colors[i], width=line_size[i]),\n",
        "        connectgaps=True,\n",
        "        text = \"Total \" + str(labels[i]) +\": \"+ str(y_data[-1])\n",
        "        ));\n",
        "    \n",
        "    fig.update_layout(\n",
        "        title=\"COVID 19 cases of \" + country,\n",
        "        xaxis_title='Date',\n",
        "        yaxis_title='No. of Confirmed Cases',\n",
        "        margin=dict(l=20, r=20, t=40, b=20),\n",
        "        paper_bgcolor=\"lightgrey\",\n",
        "        width = 800,\n",
        "        \n",
        "    );\n",
        "    \n",
        "    fig.update_yaxes(type=\"linear\")\n",
        "    fig.show();\n"
      ],
      "execution_count": null,
      "outputs": []
    },
    {
      "cell_type": "markdown",
      "metadata": {
        "id": "TNabie1CXvOm"
      },
      "source": [
        "# Check the details of your country or the World\n",
        "\n",
        "* Enter the name of your country(in capitalized format(e.g. Italy)) and world for total cases"
      ]
    },
    {
      "cell_type": "code",
      "metadata": {
        "colab": {
          "base_uri": "https://localhost:8080/",
          "height": 574,
          "referenced_widgets": [
            "ed6a2a5450cf4d468c0d6f7734f0590e",
            "3452a2ba9d084f78aadbe7d0379f101d",
            "c2dbe1c09f9d48ea8eb90ab72aa03f14",
            "84dba061edcf4f7895e64c9aa05ed850",
            "d855aa040aa848ba96eb79360afc67a9",
            "9e9886088b5f45c684b76963b36668e6",
            "2414f9a8229e464b958a0424d2a85df0",
            "f6e551b1c94249f9b83553c4f0469496",
            "4641b469c0944a81a9eed665b7be53e0",
            "fa58c8daaad341cd96ef0ea12eb4ba5a"
          ]
        },
        "id": "WpGvR0gIXvOn",
        "outputId": "ced8fb3b-046e-497e-9a6a-ba544b5557fe"
      },
      "source": [
        "interact(plot_cases_of_a_country, country='World')\n",
        "\n",
        "ipywLayout = widgets.Layout(border='solid 2px green')\n",
        "ipywLayout.display='none' # uncomment this, run cell again - then the graph/figure disappears\n",
        "widgets.VBox([fig], layout=ipywLayout)"
      ],
      "execution_count": null,
      "outputs": [
        {
          "output_type": "display_data",
          "data": {
            "application/vnd.jupyter.widget-view+json": {
              "model_id": "ed6a2a5450cf4d468c0d6f7734f0590e",
              "version_minor": 0,
              "version_major": 2
            },
            "text/plain": [
              "interactive(children=(Text(value='World', description='country'), Output()), _dom_classes=('widget-interact',)…"
            ]
          },
          "metadata": {}
        },
        {
          "output_type": "display_data",
          "data": {
            "application/vnd.jupyter.widget-view+json": {
              "model_id": "f6e551b1c94249f9b83553c4f0469496",
              "version_minor": 0,
              "version_major": 2
            },
            "text/plain": [
              "VBox(children=(FigureWidget({\n",
              "    'data': [], 'layout': {'template': '...'}\n",
              "}),), layout=Layout(border='solid …"
            ]
          },
          "metadata": {}
        }
      ]
    },
    {
      "cell_type": "markdown",
      "metadata": {
        "id": "IzYwNetFXvOo"
      },
      "source": [
        "# 10 worst hit countries - Confirmed cases"
      ]
    },
    {
      "cell_type": "code",
      "metadata": {
        "id": "pS-iR_avXvOo",
        "colab": {
          "base_uri": "https://localhost:8080/",
          "height": 537
        },
        "outputId": "286c76bb-e3d6-4ba1-a861-d762bfefb879"
      },
      "source": [
        "px.bar(\n",
        "    sorted_country_df.head(10),\n",
        "    x = \"country\",\n",
        "    y = \"confirmed\",\n",
        "    title= \"Top 10 worst affected countries\", # the axis names\n",
        "    color_discrete_sequence=[\"pink\"], \n",
        "    height=500,\n",
        "    width=1400\n",
        ")"
      ],
      "execution_count": null,
      "outputs": [
        {
          "output_type": "display_data",
          "data": {
            "text/html": [
              "<html>\n",
              "<head><meta charset=\"utf-8\" /></head>\n",
              "<body>\n",
              "    <div>\n",
              "            <script src=\"https://cdnjs.cloudflare.com/ajax/libs/mathjax/2.7.5/MathJax.js?config=TeX-AMS-MML_SVG\"></script><script type=\"text/javascript\">if (window.MathJax) {MathJax.Hub.Config({SVG: {font: \"STIX-Web\"}});}</script>\n",
              "                <script type=\"text/javascript\">window.PlotlyConfig = {MathJaxConfig: 'local'};</script>\n",
              "        <script src=\"https://cdn.plot.ly/plotly-latest.min.js\"></script>    \n",
              "            <div id=\"94db9a2b-176e-45c7-afc9-b0319c129dcb\" class=\"plotly-graph-div\" style=\"height:500px; width:1400px;\"></div>\n",
              "            <script type=\"text/javascript\">\n",
              "                \n",
              "                    window.PLOTLYENV=window.PLOTLYENV || {};\n",
              "                    \n",
              "                if (document.getElementById(\"94db9a2b-176e-45c7-afc9-b0319c129dcb\")) {\n",
              "                    Plotly.newPlot(\n",
              "                        '94db9a2b-176e-45c7-afc9-b0319c129dcb',\n",
              "                        [{\"alignmentgroup\": \"True\", \"hoverlabel\": {\"namelength\": 0}, \"hovertemplate\": \"country=%{x}<br>confirmed=%{y}\", \"legendgroup\": \"\", \"marker\": {\"color\": \"pink\"}, \"name\": \"\", \"offsetgroup\": \"\", \"orientation\": \"v\", \"showlegend\": false, \"textposition\": \"auto\", \"type\": \"bar\", \"x\": [\"US\", \"India\", \"Brazil\", \"United Kingdom\", \"Russia\", \"Turkey\", \"France\", \"Iran\", \"Germany\", \"Argentina\"], \"xaxis\": \"x\", \"y\": [48235005, 34580832, 22080906, 10202394, 9436650, 8748025, 7723066, 6113192, 5795140, 5326448], \"yaxis\": \"y\"}],\n",
              "                        {\"barmode\": \"relative\", \"height\": 500, \"legend\": {\"tracegroupgap\": 0}, \"template\": {\"data\": {\"bar\": [{\"error_x\": {\"color\": \"#2a3f5f\"}, \"error_y\": {\"color\": \"#2a3f5f\"}, \"marker\": {\"line\": {\"color\": \"#E5ECF6\", \"width\": 0.5}}, \"type\": \"bar\"}], \"barpolar\": [{\"marker\": {\"line\": {\"color\": \"#E5ECF6\", \"width\": 0.5}}, \"type\": \"barpolar\"}], \"carpet\": [{\"aaxis\": {\"endlinecolor\": \"#2a3f5f\", \"gridcolor\": \"white\", \"linecolor\": \"white\", \"minorgridcolor\": \"white\", \"startlinecolor\": \"#2a3f5f\"}, \"baxis\": {\"endlinecolor\": \"#2a3f5f\", \"gridcolor\": \"white\", \"linecolor\": \"white\", \"minorgridcolor\": \"white\", \"startlinecolor\": \"#2a3f5f\"}, \"type\": \"carpet\"}], \"choropleth\": [{\"colorbar\": {\"outlinewidth\": 0, \"ticks\": \"\"}, \"type\": \"choropleth\"}], \"contour\": [{\"colorbar\": {\"outlinewidth\": 0, \"ticks\": \"\"}, \"colorscale\": [[0.0, \"#0d0887\"], [0.1111111111111111, \"#46039f\"], [0.2222222222222222, \"#7201a8\"], [0.3333333333333333, \"#9c179e\"], [0.4444444444444444, \"#bd3786\"], [0.5555555555555556, \"#d8576b\"], [0.6666666666666666, \"#ed7953\"], [0.7777777777777778, \"#fb9f3a\"], [0.8888888888888888, \"#fdca26\"], [1.0, \"#f0f921\"]], \"type\": \"contour\"}], \"contourcarpet\": [{\"colorbar\": {\"outlinewidth\": 0, \"ticks\": \"\"}, \"type\": \"contourcarpet\"}], \"heatmap\": [{\"colorbar\": {\"outlinewidth\": 0, \"ticks\": \"\"}, \"colorscale\": [[0.0, \"#0d0887\"], [0.1111111111111111, \"#46039f\"], [0.2222222222222222, \"#7201a8\"], [0.3333333333333333, \"#9c179e\"], [0.4444444444444444, \"#bd3786\"], [0.5555555555555556, \"#d8576b\"], [0.6666666666666666, \"#ed7953\"], [0.7777777777777778, \"#fb9f3a\"], [0.8888888888888888, \"#fdca26\"], [1.0, \"#f0f921\"]], \"type\": \"heatmap\"}], \"heatmapgl\": [{\"colorbar\": {\"outlinewidth\": 0, \"ticks\": \"\"}, \"colorscale\": [[0.0, \"#0d0887\"], [0.1111111111111111, \"#46039f\"], [0.2222222222222222, \"#7201a8\"], [0.3333333333333333, \"#9c179e\"], [0.4444444444444444, \"#bd3786\"], [0.5555555555555556, \"#d8576b\"], [0.6666666666666666, \"#ed7953\"], [0.7777777777777778, \"#fb9f3a\"], [0.8888888888888888, \"#fdca26\"], [1.0, \"#f0f921\"]], \"type\": \"heatmapgl\"}], \"histogram\": [{\"marker\": {\"colorbar\": {\"outlinewidth\": 0, \"ticks\": \"\"}}, \"type\": \"histogram\"}], \"histogram2d\": [{\"colorbar\": {\"outlinewidth\": 0, \"ticks\": \"\"}, \"colorscale\": [[0.0, \"#0d0887\"], [0.1111111111111111, \"#46039f\"], [0.2222222222222222, \"#7201a8\"], [0.3333333333333333, \"#9c179e\"], [0.4444444444444444, \"#bd3786\"], [0.5555555555555556, \"#d8576b\"], [0.6666666666666666, \"#ed7953\"], [0.7777777777777778, \"#fb9f3a\"], [0.8888888888888888, \"#fdca26\"], [1.0, \"#f0f921\"]], \"type\": \"histogram2d\"}], \"histogram2dcontour\": [{\"colorbar\": {\"outlinewidth\": 0, \"ticks\": \"\"}, \"colorscale\": [[0.0, \"#0d0887\"], [0.1111111111111111, \"#46039f\"], [0.2222222222222222, \"#7201a8\"], [0.3333333333333333, \"#9c179e\"], [0.4444444444444444, \"#bd3786\"], [0.5555555555555556, \"#d8576b\"], [0.6666666666666666, \"#ed7953\"], [0.7777777777777778, \"#fb9f3a\"], [0.8888888888888888, \"#fdca26\"], [1.0, \"#f0f921\"]], \"type\": \"histogram2dcontour\"}], \"mesh3d\": [{\"colorbar\": {\"outlinewidth\": 0, \"ticks\": \"\"}, \"type\": \"mesh3d\"}], \"parcoords\": [{\"line\": {\"colorbar\": {\"outlinewidth\": 0, \"ticks\": \"\"}}, \"type\": \"parcoords\"}], \"pie\": [{\"automargin\": true, \"type\": \"pie\"}], \"scatter\": [{\"marker\": {\"colorbar\": {\"outlinewidth\": 0, \"ticks\": \"\"}}, \"type\": \"scatter\"}], \"scatter3d\": [{\"line\": {\"colorbar\": {\"outlinewidth\": 0, \"ticks\": \"\"}}, \"marker\": {\"colorbar\": {\"outlinewidth\": 0, \"ticks\": \"\"}}, \"type\": \"scatter3d\"}], \"scattercarpet\": [{\"marker\": {\"colorbar\": {\"outlinewidth\": 0, \"ticks\": \"\"}}, \"type\": \"scattercarpet\"}], \"scattergeo\": [{\"marker\": {\"colorbar\": {\"outlinewidth\": 0, \"ticks\": \"\"}}, \"type\": \"scattergeo\"}], \"scattergl\": [{\"marker\": {\"colorbar\": {\"outlinewidth\": 0, \"ticks\": \"\"}}, \"type\": \"scattergl\"}], \"scattermapbox\": [{\"marker\": {\"colorbar\": {\"outlinewidth\": 0, \"ticks\": \"\"}}, \"type\": \"scattermapbox\"}], \"scatterpolar\": [{\"marker\": {\"colorbar\": {\"outlinewidth\": 0, \"ticks\": \"\"}}, \"type\": \"scatterpolar\"}], \"scatterpolargl\": [{\"marker\": {\"colorbar\": {\"outlinewidth\": 0, \"ticks\": \"\"}}, \"type\": \"scatterpolargl\"}], \"scatterternary\": [{\"marker\": {\"colorbar\": {\"outlinewidth\": 0, \"ticks\": \"\"}}, \"type\": \"scatterternary\"}], \"surface\": [{\"colorbar\": {\"outlinewidth\": 0, \"ticks\": \"\"}, \"colorscale\": [[0.0, \"#0d0887\"], [0.1111111111111111, \"#46039f\"], [0.2222222222222222, \"#7201a8\"], [0.3333333333333333, \"#9c179e\"], [0.4444444444444444, \"#bd3786\"], [0.5555555555555556, \"#d8576b\"], [0.6666666666666666, \"#ed7953\"], [0.7777777777777778, \"#fb9f3a\"], [0.8888888888888888, \"#fdca26\"], [1.0, \"#f0f921\"]], \"type\": \"surface\"}], \"table\": [{\"cells\": {\"fill\": {\"color\": \"#EBF0F8\"}, \"line\": {\"color\": \"white\"}}, \"header\": {\"fill\": {\"color\": \"#C8D4E3\"}, \"line\": {\"color\": \"white\"}}, \"type\": \"table\"}]}, \"layout\": {\"annotationdefaults\": {\"arrowcolor\": \"#2a3f5f\", \"arrowhead\": 0, \"arrowwidth\": 1}, \"coloraxis\": {\"colorbar\": {\"outlinewidth\": 0, \"ticks\": \"\"}}, \"colorscale\": {\"diverging\": [[0, \"#8e0152\"], [0.1, \"#c51b7d\"], [0.2, \"#de77ae\"], [0.3, \"#f1b6da\"], [0.4, \"#fde0ef\"], [0.5, \"#f7f7f7\"], [0.6, \"#e6f5d0\"], [0.7, \"#b8e186\"], [0.8, \"#7fbc41\"], [0.9, \"#4d9221\"], [1, \"#276419\"]], \"sequential\": [[0.0, \"#0d0887\"], [0.1111111111111111, \"#46039f\"], [0.2222222222222222, \"#7201a8\"], [0.3333333333333333, \"#9c179e\"], [0.4444444444444444, \"#bd3786\"], [0.5555555555555556, \"#d8576b\"], [0.6666666666666666, \"#ed7953\"], [0.7777777777777778, \"#fb9f3a\"], [0.8888888888888888, \"#fdca26\"], [1.0, \"#f0f921\"]], \"sequentialminus\": [[0.0, \"#0d0887\"], [0.1111111111111111, \"#46039f\"], [0.2222222222222222, \"#7201a8\"], [0.3333333333333333, \"#9c179e\"], [0.4444444444444444, \"#bd3786\"], [0.5555555555555556, \"#d8576b\"], [0.6666666666666666, \"#ed7953\"], [0.7777777777777778, \"#fb9f3a\"], [0.8888888888888888, \"#fdca26\"], [1.0, \"#f0f921\"]]}, \"colorway\": [\"#636efa\", \"#EF553B\", \"#00cc96\", \"#ab63fa\", \"#FFA15A\", \"#19d3f3\", \"#FF6692\", \"#B6E880\", \"#FF97FF\", \"#FECB52\"], \"font\": {\"color\": \"#2a3f5f\"}, \"geo\": {\"bgcolor\": \"white\", \"lakecolor\": \"white\", \"landcolor\": \"#E5ECF6\", \"showlakes\": true, \"showland\": true, \"subunitcolor\": \"white\"}, \"hoverlabel\": {\"align\": \"left\"}, \"hovermode\": \"closest\", \"mapbox\": {\"style\": \"light\"}, \"paper_bgcolor\": \"white\", \"plot_bgcolor\": \"#E5ECF6\", \"polar\": {\"angularaxis\": {\"gridcolor\": \"white\", \"linecolor\": \"white\", \"ticks\": \"\"}, \"bgcolor\": \"#E5ECF6\", \"radialaxis\": {\"gridcolor\": \"white\", \"linecolor\": \"white\", \"ticks\": \"\"}}, \"scene\": {\"xaxis\": {\"backgroundcolor\": \"#E5ECF6\", \"gridcolor\": \"white\", \"gridwidth\": 2, \"linecolor\": \"white\", \"showbackground\": true, \"ticks\": \"\", \"zerolinecolor\": \"white\"}, \"yaxis\": {\"backgroundcolor\": \"#E5ECF6\", \"gridcolor\": \"white\", \"gridwidth\": 2, \"linecolor\": \"white\", \"showbackground\": true, \"ticks\": \"\", \"zerolinecolor\": \"white\"}, \"zaxis\": {\"backgroundcolor\": \"#E5ECF6\", \"gridcolor\": \"white\", \"gridwidth\": 2, \"linecolor\": \"white\", \"showbackground\": true, \"ticks\": \"\", \"zerolinecolor\": \"white\"}}, \"shapedefaults\": {\"line\": {\"color\": \"#2a3f5f\"}}, \"ternary\": {\"aaxis\": {\"gridcolor\": \"white\", \"linecolor\": \"white\", \"ticks\": \"\"}, \"baxis\": {\"gridcolor\": \"white\", \"linecolor\": \"white\", \"ticks\": \"\"}, \"bgcolor\": \"#E5ECF6\", \"caxis\": {\"gridcolor\": \"white\", \"linecolor\": \"white\", \"ticks\": \"\"}}, \"title\": {\"x\": 0.05}, \"xaxis\": {\"automargin\": true, \"gridcolor\": \"white\", \"linecolor\": \"white\", \"ticks\": \"\", \"title\": {\"standoff\": 15}, \"zerolinecolor\": \"white\", \"zerolinewidth\": 2}, \"yaxis\": {\"automargin\": true, \"gridcolor\": \"white\", \"linecolor\": \"white\", \"ticks\": \"\", \"title\": {\"standoff\": 15}, \"zerolinecolor\": \"white\", \"zerolinewidth\": 2}}}, \"title\": {\"text\": \"Top 10 worst affected countries\"}, \"width\": 1400, \"xaxis\": {\"anchor\": \"y\", \"domain\": [0.0, 1.0], \"title\": {\"text\": \"country\"}}, \"yaxis\": {\"anchor\": \"x\", \"domain\": [0.0, 1.0], \"title\": {\"text\": \"confirmed\"}}},\n",
              "                        {\"responsive\": true}\n",
              "                    ).then(function(){\n",
              "                            \n",
              "var gd = document.getElementById('94db9a2b-176e-45c7-afc9-b0319c129dcb');\n",
              "var x = new MutationObserver(function (mutations, observer) {{\n",
              "        var display = window.getComputedStyle(gd).display;\n",
              "        if (!display || display === 'none') {{\n",
              "            console.log([gd, 'removed!']);\n",
              "            Plotly.purge(gd);\n",
              "            observer.disconnect();\n",
              "        }}\n",
              "}});\n",
              "\n",
              "// Listen for the removal of the full notebook cells\n",
              "var notebookContainer = gd.closest('#notebook-container');\n",
              "if (notebookContainer) {{\n",
              "    x.observe(notebookContainer, {childList: true});\n",
              "}}\n",
              "\n",
              "// Listen for the clearing of the current output cell\n",
              "var outputEl = gd.closest('.output');\n",
              "if (outputEl) {{\n",
              "    x.observe(outputEl, {childList: true});\n",
              "}}\n",
              "\n",
              "                        })\n",
              "                };\n",
              "                \n",
              "            </script>\n",
              "        </div>\n",
              "</body>\n",
              "</html>"
            ]
          },
          "metadata": {}
        }
      ]
    },
    {
      "cell_type": "markdown",
      "metadata": {
        "id": "eGkj7KlaXvOo"
      },
      "source": [
        "# 10 worst hit countries - Death cases"
      ]
    },
    {
      "cell_type": "code",
      "metadata": {
        "id": "vzRUHscEXvOo",
        "colab": {
          "base_uri": "https://localhost:8080/",
          "height": 537
        },
        "outputId": "0217371c-d916-4491-a5b0-45d04acef1b4"
      },
      "source": [
        "px.bar(\n",
        "    sorted_country_df.head(10),\n",
        "    x = \"country\",\n",
        "    y = \"deaths\",\n",
        "    title= \"Top 10 worst affected countries\", # the axis names\n",
        "    color_discrete_sequence=[\"pink\"], \n",
        "    height=500,\n",
        "    width=1400\n",
        ")"
      ],
      "execution_count": null,
      "outputs": [
        {
          "output_type": "display_data",
          "data": {
            "text/html": [
              "<html>\n",
              "<head><meta charset=\"utf-8\" /></head>\n",
              "<body>\n",
              "    <div>\n",
              "            <script src=\"https://cdnjs.cloudflare.com/ajax/libs/mathjax/2.7.5/MathJax.js?config=TeX-AMS-MML_SVG\"></script><script type=\"text/javascript\">if (window.MathJax) {MathJax.Hub.Config({SVG: {font: \"STIX-Web\"}});}</script>\n",
              "                <script type=\"text/javascript\">window.PlotlyConfig = {MathJaxConfig: 'local'};</script>\n",
              "        <script src=\"https://cdn.plot.ly/plotly-latest.min.js\"></script>    \n",
              "            <div id=\"0553ea43-e0c4-4bed-8dbd-f52523d9dc42\" class=\"plotly-graph-div\" style=\"height:500px; width:1400px;\"></div>\n",
              "            <script type=\"text/javascript\">\n",
              "                \n",
              "                    window.PLOTLYENV=window.PLOTLYENV || {};\n",
              "                    \n",
              "                if (document.getElementById(\"0553ea43-e0c4-4bed-8dbd-f52523d9dc42\")) {\n",
              "                    Plotly.newPlot(\n",
              "                        '0553ea43-e0c4-4bed-8dbd-f52523d9dc42',\n",
              "                        [{\"alignmentgroup\": \"True\", \"hoverlabel\": {\"namelength\": 0}, \"hovertemplate\": \"country=%{x}<br>deaths=%{y}\", \"legendgroup\": \"\", \"marker\": {\"color\": \"pink\"}, \"name\": \"\", \"offsetgroup\": \"\", \"orientation\": \"v\", \"showlegend\": false, \"textposition\": \"auto\", \"type\": \"bar\", \"x\": [\"US\", \"India\", \"Brazil\", \"United Kingdom\", \"Russia\", \"Turkey\", \"France\", \"Iran\", \"Germany\", \"Argentina\"], \"xaxis\": \"x\", \"y\": [776651, 468790, 614278, 145218, 268705, 76446, 119875, 129711, 100960, 116529], \"yaxis\": \"y\"}],\n",
              "                        {\"barmode\": \"relative\", \"height\": 500, \"legend\": {\"tracegroupgap\": 0}, \"template\": {\"data\": {\"bar\": [{\"error_x\": {\"color\": \"#2a3f5f\"}, \"error_y\": {\"color\": \"#2a3f5f\"}, \"marker\": {\"line\": {\"color\": \"#E5ECF6\", \"width\": 0.5}}, \"type\": \"bar\"}], \"barpolar\": [{\"marker\": {\"line\": {\"color\": \"#E5ECF6\", \"width\": 0.5}}, \"type\": \"barpolar\"}], \"carpet\": [{\"aaxis\": {\"endlinecolor\": \"#2a3f5f\", \"gridcolor\": \"white\", \"linecolor\": \"white\", \"minorgridcolor\": \"white\", \"startlinecolor\": \"#2a3f5f\"}, \"baxis\": {\"endlinecolor\": \"#2a3f5f\", \"gridcolor\": \"white\", \"linecolor\": \"white\", \"minorgridcolor\": \"white\", \"startlinecolor\": \"#2a3f5f\"}, \"type\": \"carpet\"}], \"choropleth\": [{\"colorbar\": {\"outlinewidth\": 0, \"ticks\": \"\"}, \"type\": \"choropleth\"}], \"contour\": [{\"colorbar\": {\"outlinewidth\": 0, \"ticks\": \"\"}, \"colorscale\": [[0.0, \"#0d0887\"], [0.1111111111111111, \"#46039f\"], [0.2222222222222222, \"#7201a8\"], [0.3333333333333333, \"#9c179e\"], [0.4444444444444444, \"#bd3786\"], [0.5555555555555556, \"#d8576b\"], [0.6666666666666666, \"#ed7953\"], [0.7777777777777778, \"#fb9f3a\"], [0.8888888888888888, \"#fdca26\"], [1.0, \"#f0f921\"]], \"type\": \"contour\"}], \"contourcarpet\": [{\"colorbar\": {\"outlinewidth\": 0, \"ticks\": \"\"}, \"type\": \"contourcarpet\"}], \"heatmap\": [{\"colorbar\": {\"outlinewidth\": 0, \"ticks\": \"\"}, \"colorscale\": [[0.0, \"#0d0887\"], [0.1111111111111111, \"#46039f\"], [0.2222222222222222, \"#7201a8\"], [0.3333333333333333, \"#9c179e\"], [0.4444444444444444, \"#bd3786\"], [0.5555555555555556, \"#d8576b\"], [0.6666666666666666, \"#ed7953\"], [0.7777777777777778, \"#fb9f3a\"], [0.8888888888888888, \"#fdca26\"], [1.0, \"#f0f921\"]], \"type\": \"heatmap\"}], \"heatmapgl\": [{\"colorbar\": {\"outlinewidth\": 0, \"ticks\": \"\"}, \"colorscale\": [[0.0, \"#0d0887\"], [0.1111111111111111, \"#46039f\"], [0.2222222222222222, \"#7201a8\"], [0.3333333333333333, \"#9c179e\"], [0.4444444444444444, \"#bd3786\"], [0.5555555555555556, \"#d8576b\"], [0.6666666666666666, \"#ed7953\"], [0.7777777777777778, \"#fb9f3a\"], [0.8888888888888888, \"#fdca26\"], [1.0, \"#f0f921\"]], \"type\": \"heatmapgl\"}], \"histogram\": [{\"marker\": {\"colorbar\": {\"outlinewidth\": 0, \"ticks\": \"\"}}, \"type\": \"histogram\"}], \"histogram2d\": [{\"colorbar\": {\"outlinewidth\": 0, \"ticks\": \"\"}, \"colorscale\": [[0.0, \"#0d0887\"], [0.1111111111111111, \"#46039f\"], [0.2222222222222222, \"#7201a8\"], [0.3333333333333333, \"#9c179e\"], [0.4444444444444444, \"#bd3786\"], [0.5555555555555556, \"#d8576b\"], [0.6666666666666666, \"#ed7953\"], [0.7777777777777778, \"#fb9f3a\"], [0.8888888888888888, \"#fdca26\"], [1.0, \"#f0f921\"]], \"type\": \"histogram2d\"}], \"histogram2dcontour\": [{\"colorbar\": {\"outlinewidth\": 0, \"ticks\": \"\"}, \"colorscale\": [[0.0, \"#0d0887\"], [0.1111111111111111, \"#46039f\"], [0.2222222222222222, \"#7201a8\"], [0.3333333333333333, \"#9c179e\"], [0.4444444444444444, \"#bd3786\"], [0.5555555555555556, \"#d8576b\"], [0.6666666666666666, \"#ed7953\"], [0.7777777777777778, \"#fb9f3a\"], [0.8888888888888888, \"#fdca26\"], [1.0, \"#f0f921\"]], \"type\": \"histogram2dcontour\"}], \"mesh3d\": [{\"colorbar\": {\"outlinewidth\": 0, \"ticks\": \"\"}, \"type\": \"mesh3d\"}], \"parcoords\": [{\"line\": {\"colorbar\": {\"outlinewidth\": 0, \"ticks\": \"\"}}, \"type\": \"parcoords\"}], \"pie\": [{\"automargin\": true, \"type\": \"pie\"}], \"scatter\": [{\"marker\": {\"colorbar\": {\"outlinewidth\": 0, \"ticks\": \"\"}}, \"type\": \"scatter\"}], \"scatter3d\": [{\"line\": {\"colorbar\": {\"outlinewidth\": 0, \"ticks\": \"\"}}, \"marker\": {\"colorbar\": {\"outlinewidth\": 0, \"ticks\": \"\"}}, \"type\": \"scatter3d\"}], \"scattercarpet\": [{\"marker\": {\"colorbar\": {\"outlinewidth\": 0, \"ticks\": \"\"}}, \"type\": \"scattercarpet\"}], \"scattergeo\": [{\"marker\": {\"colorbar\": {\"outlinewidth\": 0, \"ticks\": \"\"}}, \"type\": \"scattergeo\"}], \"scattergl\": [{\"marker\": {\"colorbar\": {\"outlinewidth\": 0, \"ticks\": \"\"}}, \"type\": \"scattergl\"}], \"scattermapbox\": [{\"marker\": {\"colorbar\": {\"outlinewidth\": 0, \"ticks\": \"\"}}, \"type\": \"scattermapbox\"}], \"scatterpolar\": [{\"marker\": {\"colorbar\": {\"outlinewidth\": 0, \"ticks\": \"\"}}, \"type\": \"scatterpolar\"}], \"scatterpolargl\": [{\"marker\": {\"colorbar\": {\"outlinewidth\": 0, \"ticks\": \"\"}}, \"type\": \"scatterpolargl\"}], \"scatterternary\": [{\"marker\": {\"colorbar\": {\"outlinewidth\": 0, \"ticks\": \"\"}}, \"type\": \"scatterternary\"}], \"surface\": [{\"colorbar\": {\"outlinewidth\": 0, \"ticks\": \"\"}, \"colorscale\": [[0.0, \"#0d0887\"], [0.1111111111111111, \"#46039f\"], [0.2222222222222222, \"#7201a8\"], [0.3333333333333333, \"#9c179e\"], [0.4444444444444444, \"#bd3786\"], [0.5555555555555556, \"#d8576b\"], [0.6666666666666666, \"#ed7953\"], [0.7777777777777778, \"#fb9f3a\"], [0.8888888888888888, \"#fdca26\"], [1.0, \"#f0f921\"]], \"type\": \"surface\"}], \"table\": [{\"cells\": {\"fill\": {\"color\": \"#EBF0F8\"}, \"line\": {\"color\": \"white\"}}, \"header\": {\"fill\": {\"color\": \"#C8D4E3\"}, \"line\": {\"color\": \"white\"}}, \"type\": \"table\"}]}, \"layout\": {\"annotationdefaults\": {\"arrowcolor\": \"#2a3f5f\", \"arrowhead\": 0, \"arrowwidth\": 1}, \"coloraxis\": {\"colorbar\": {\"outlinewidth\": 0, \"ticks\": \"\"}}, \"colorscale\": {\"diverging\": [[0, \"#8e0152\"], [0.1, \"#c51b7d\"], [0.2, \"#de77ae\"], [0.3, \"#f1b6da\"], [0.4, \"#fde0ef\"], [0.5, \"#f7f7f7\"], [0.6, \"#e6f5d0\"], [0.7, \"#b8e186\"], [0.8, \"#7fbc41\"], [0.9, \"#4d9221\"], [1, \"#276419\"]], \"sequential\": [[0.0, \"#0d0887\"], [0.1111111111111111, \"#46039f\"], [0.2222222222222222, \"#7201a8\"], [0.3333333333333333, \"#9c179e\"], [0.4444444444444444, \"#bd3786\"], [0.5555555555555556, \"#d8576b\"], [0.6666666666666666, \"#ed7953\"], [0.7777777777777778, \"#fb9f3a\"], [0.8888888888888888, \"#fdca26\"], [1.0, \"#f0f921\"]], \"sequentialminus\": [[0.0, \"#0d0887\"], [0.1111111111111111, \"#46039f\"], [0.2222222222222222, \"#7201a8\"], [0.3333333333333333, \"#9c179e\"], [0.4444444444444444, \"#bd3786\"], [0.5555555555555556, \"#d8576b\"], [0.6666666666666666, \"#ed7953\"], [0.7777777777777778, \"#fb9f3a\"], [0.8888888888888888, \"#fdca26\"], [1.0, \"#f0f921\"]]}, \"colorway\": [\"#636efa\", \"#EF553B\", \"#00cc96\", \"#ab63fa\", \"#FFA15A\", \"#19d3f3\", \"#FF6692\", \"#B6E880\", \"#FF97FF\", \"#FECB52\"], \"font\": {\"color\": \"#2a3f5f\"}, \"geo\": {\"bgcolor\": \"white\", \"lakecolor\": \"white\", \"landcolor\": \"#E5ECF6\", \"showlakes\": true, \"showland\": true, \"subunitcolor\": \"white\"}, \"hoverlabel\": {\"align\": \"left\"}, \"hovermode\": \"closest\", \"mapbox\": {\"style\": \"light\"}, \"paper_bgcolor\": \"white\", \"plot_bgcolor\": \"#E5ECF6\", \"polar\": {\"angularaxis\": {\"gridcolor\": \"white\", \"linecolor\": \"white\", \"ticks\": \"\"}, \"bgcolor\": \"#E5ECF6\", \"radialaxis\": {\"gridcolor\": \"white\", \"linecolor\": \"white\", \"ticks\": \"\"}}, \"scene\": {\"xaxis\": {\"backgroundcolor\": \"#E5ECF6\", \"gridcolor\": \"white\", \"gridwidth\": 2, \"linecolor\": \"white\", \"showbackground\": true, \"ticks\": \"\", \"zerolinecolor\": \"white\"}, \"yaxis\": {\"backgroundcolor\": \"#E5ECF6\", \"gridcolor\": \"white\", \"gridwidth\": 2, \"linecolor\": \"white\", \"showbackground\": true, \"ticks\": \"\", \"zerolinecolor\": \"white\"}, \"zaxis\": {\"backgroundcolor\": \"#E5ECF6\", \"gridcolor\": \"white\", \"gridwidth\": 2, \"linecolor\": \"white\", \"showbackground\": true, \"ticks\": \"\", \"zerolinecolor\": \"white\"}}, \"shapedefaults\": {\"line\": {\"color\": \"#2a3f5f\"}}, \"ternary\": {\"aaxis\": {\"gridcolor\": \"white\", \"linecolor\": \"white\", \"ticks\": \"\"}, \"baxis\": {\"gridcolor\": \"white\", \"linecolor\": \"white\", \"ticks\": \"\"}, \"bgcolor\": \"#E5ECF6\", \"caxis\": {\"gridcolor\": \"white\", \"linecolor\": \"white\", \"ticks\": \"\"}}, \"title\": {\"x\": 0.05}, \"xaxis\": {\"automargin\": true, \"gridcolor\": \"white\", \"linecolor\": \"white\", \"ticks\": \"\", \"title\": {\"standoff\": 15}, \"zerolinecolor\": \"white\", \"zerolinewidth\": 2}, \"yaxis\": {\"automargin\": true, \"gridcolor\": \"white\", \"linecolor\": \"white\", \"ticks\": \"\", \"title\": {\"standoff\": 15}, \"zerolinecolor\": \"white\", \"zerolinewidth\": 2}}}, \"title\": {\"text\": \"Top 10 worst affected countries\"}, \"width\": 1400, \"xaxis\": {\"anchor\": \"y\", \"domain\": [0.0, 1.0], \"title\": {\"text\": \"country\"}}, \"yaxis\": {\"anchor\": \"x\", \"domain\": [0.0, 1.0], \"title\": {\"text\": \"deaths\"}}},\n",
              "                        {\"responsive\": true}\n",
              "                    ).then(function(){\n",
              "                            \n",
              "var gd = document.getElementById('0553ea43-e0c4-4bed-8dbd-f52523d9dc42');\n",
              "var x = new MutationObserver(function (mutations, observer) {{\n",
              "        var display = window.getComputedStyle(gd).display;\n",
              "        if (!display || display === 'none') {{\n",
              "            console.log([gd, 'removed!']);\n",
              "            Plotly.purge(gd);\n",
              "            observer.disconnect();\n",
              "        }}\n",
              "}});\n",
              "\n",
              "// Listen for the removal of the full notebook cells\n",
              "var notebookContainer = gd.closest('#notebook-container');\n",
              "if (notebookContainer) {{\n",
              "    x.observe(notebookContainer, {childList: true});\n",
              "}}\n",
              "\n",
              "// Listen for the clearing of the current output cell\n",
              "var outputEl = gd.closest('.output');\n",
              "if (outputEl) {{\n",
              "    x.observe(outputEl, {childList: true});\n",
              "}}\n",
              "\n",
              "                        })\n",
              "                };\n",
              "                \n",
              "            </script>\n",
              "        </div>\n",
              "</body>\n",
              "</html>"
            ]
          },
          "metadata": {}
        }
      ]
    },
    {
      "cell_type": "markdown",
      "metadata": {
        "id": "x92UjDO9XvOp"
      },
      "source": [
        "# Worst hit countries - Recovering cases"
      ]
    },
    {
      "cell_type": "code",
      "metadata": {
        "id": "_sq6duAjXvOp",
        "colab": {
          "base_uri": "https://localhost:8080/",
          "height": 537
        },
        "outputId": "b6256ffb-bdd1-42c6-f62c-4ba236d09b1c"
      },
      "source": [
        "px.bar(\n",
        "    sorted_country_df.head(10),\n",
        "    x = \"country\",\n",
        "    y = \"recovered\",\n",
        "    title= \"Top 10 worst affected countries\", # the axis names\n",
        "    color_discrete_sequence=[\"pink\"], \n",
        "    height=500,\n",
        "    width=1400\n",
        ")"
      ],
      "execution_count": null,
      "outputs": [
        {
          "output_type": "display_data",
          "data": {
            "text/html": [
              "<html>\n",
              "<head><meta charset=\"utf-8\" /></head>\n",
              "<body>\n",
              "    <div>\n",
              "            <script src=\"https://cdnjs.cloudflare.com/ajax/libs/mathjax/2.7.5/MathJax.js?config=TeX-AMS-MML_SVG\"></script><script type=\"text/javascript\">if (window.MathJax) {MathJax.Hub.Config({SVG: {font: \"STIX-Web\"}});}</script>\n",
              "                <script type=\"text/javascript\">window.PlotlyConfig = {MathJaxConfig: 'local'};</script>\n",
              "        <script src=\"https://cdn.plot.ly/plotly-latest.min.js\"></script>    \n",
              "            <div id=\"c790462b-091f-4c30-8d7a-4d1583e10f20\" class=\"plotly-graph-div\" style=\"height:500px; width:1400px;\"></div>\n",
              "            <script type=\"text/javascript\">\n",
              "                \n",
              "                    window.PLOTLYENV=window.PLOTLYENV || {};\n",
              "                    \n",
              "                if (document.getElementById(\"c790462b-091f-4c30-8d7a-4d1583e10f20\")) {\n",
              "                    Plotly.newPlot(\n",
              "                        'c790462b-091f-4c30-8d7a-4d1583e10f20',\n",
              "                        [{\"alignmentgroup\": \"True\", \"hoverlabel\": {\"namelength\": 0}, \"hovertemplate\": \"country=%{x}<br>recovered=%{y}\", \"legendgroup\": \"\", \"marker\": {\"color\": \"pink\"}, \"name\": \"\", \"offsetgroup\": \"\", \"orientation\": \"v\", \"showlegend\": false, \"textposition\": \"auto\", \"type\": \"bar\", \"x\": [\"US\", \"India\", \"Brazil\", \"United Kingdom\", \"Russia\", \"Turkey\", \"France\", \"Iran\", \"Germany\", \"Argentina\"], \"xaxis\": \"x\", \"y\": [null, null, null, null, null, null, null, null, null, null], \"yaxis\": \"y\"}],\n",
              "                        {\"barmode\": \"relative\", \"height\": 500, \"legend\": {\"tracegroupgap\": 0}, \"template\": {\"data\": {\"bar\": [{\"error_x\": {\"color\": \"#2a3f5f\"}, \"error_y\": {\"color\": \"#2a3f5f\"}, \"marker\": {\"line\": {\"color\": \"#E5ECF6\", \"width\": 0.5}}, \"type\": \"bar\"}], \"barpolar\": [{\"marker\": {\"line\": {\"color\": \"#E5ECF6\", \"width\": 0.5}}, \"type\": \"barpolar\"}], \"carpet\": [{\"aaxis\": {\"endlinecolor\": \"#2a3f5f\", \"gridcolor\": \"white\", \"linecolor\": \"white\", \"minorgridcolor\": \"white\", \"startlinecolor\": \"#2a3f5f\"}, \"baxis\": {\"endlinecolor\": \"#2a3f5f\", \"gridcolor\": \"white\", \"linecolor\": \"white\", \"minorgridcolor\": \"white\", \"startlinecolor\": \"#2a3f5f\"}, \"type\": \"carpet\"}], \"choropleth\": [{\"colorbar\": {\"outlinewidth\": 0, \"ticks\": \"\"}, \"type\": \"choropleth\"}], \"contour\": [{\"colorbar\": {\"outlinewidth\": 0, \"ticks\": \"\"}, \"colorscale\": [[0.0, \"#0d0887\"], [0.1111111111111111, \"#46039f\"], [0.2222222222222222, \"#7201a8\"], [0.3333333333333333, \"#9c179e\"], [0.4444444444444444, \"#bd3786\"], [0.5555555555555556, \"#d8576b\"], [0.6666666666666666, \"#ed7953\"], [0.7777777777777778, \"#fb9f3a\"], [0.8888888888888888, \"#fdca26\"], [1.0, \"#f0f921\"]], \"type\": \"contour\"}], \"contourcarpet\": [{\"colorbar\": {\"outlinewidth\": 0, \"ticks\": \"\"}, \"type\": \"contourcarpet\"}], \"heatmap\": [{\"colorbar\": {\"outlinewidth\": 0, \"ticks\": \"\"}, \"colorscale\": [[0.0, \"#0d0887\"], [0.1111111111111111, \"#46039f\"], [0.2222222222222222, \"#7201a8\"], [0.3333333333333333, \"#9c179e\"], [0.4444444444444444, \"#bd3786\"], [0.5555555555555556, \"#d8576b\"], [0.6666666666666666, \"#ed7953\"], [0.7777777777777778, \"#fb9f3a\"], [0.8888888888888888, \"#fdca26\"], [1.0, \"#f0f921\"]], \"type\": \"heatmap\"}], \"heatmapgl\": [{\"colorbar\": {\"outlinewidth\": 0, \"ticks\": \"\"}, \"colorscale\": [[0.0, \"#0d0887\"], [0.1111111111111111, \"#46039f\"], [0.2222222222222222, \"#7201a8\"], [0.3333333333333333, \"#9c179e\"], [0.4444444444444444, \"#bd3786\"], [0.5555555555555556, \"#d8576b\"], [0.6666666666666666, \"#ed7953\"], [0.7777777777777778, \"#fb9f3a\"], [0.8888888888888888, \"#fdca26\"], [1.0, \"#f0f921\"]], \"type\": \"heatmapgl\"}], \"histogram\": [{\"marker\": {\"colorbar\": {\"outlinewidth\": 0, \"ticks\": \"\"}}, \"type\": \"histogram\"}], \"histogram2d\": [{\"colorbar\": {\"outlinewidth\": 0, \"ticks\": \"\"}, \"colorscale\": [[0.0, \"#0d0887\"], [0.1111111111111111, \"#46039f\"], [0.2222222222222222, \"#7201a8\"], [0.3333333333333333, \"#9c179e\"], [0.4444444444444444, \"#bd3786\"], [0.5555555555555556, \"#d8576b\"], [0.6666666666666666, \"#ed7953\"], [0.7777777777777778, \"#fb9f3a\"], [0.8888888888888888, \"#fdca26\"], [1.0, \"#f0f921\"]], \"type\": \"histogram2d\"}], \"histogram2dcontour\": [{\"colorbar\": {\"outlinewidth\": 0, \"ticks\": \"\"}, \"colorscale\": [[0.0, \"#0d0887\"], [0.1111111111111111, \"#46039f\"], [0.2222222222222222, \"#7201a8\"], [0.3333333333333333, \"#9c179e\"], [0.4444444444444444, \"#bd3786\"], [0.5555555555555556, \"#d8576b\"], [0.6666666666666666, \"#ed7953\"], [0.7777777777777778, \"#fb9f3a\"], [0.8888888888888888, \"#fdca26\"], [1.0, \"#f0f921\"]], \"type\": \"histogram2dcontour\"}], \"mesh3d\": [{\"colorbar\": {\"outlinewidth\": 0, \"ticks\": \"\"}, \"type\": \"mesh3d\"}], \"parcoords\": [{\"line\": {\"colorbar\": {\"outlinewidth\": 0, \"ticks\": \"\"}}, \"type\": \"parcoords\"}], \"pie\": [{\"automargin\": true, \"type\": \"pie\"}], \"scatter\": [{\"marker\": {\"colorbar\": {\"outlinewidth\": 0, \"ticks\": \"\"}}, \"type\": \"scatter\"}], \"scatter3d\": [{\"line\": {\"colorbar\": {\"outlinewidth\": 0, \"ticks\": \"\"}}, \"marker\": {\"colorbar\": {\"outlinewidth\": 0, \"ticks\": \"\"}}, \"type\": \"scatter3d\"}], \"scattercarpet\": [{\"marker\": {\"colorbar\": {\"outlinewidth\": 0, \"ticks\": \"\"}}, \"type\": \"scattercarpet\"}], \"scattergeo\": [{\"marker\": {\"colorbar\": {\"outlinewidth\": 0, \"ticks\": \"\"}}, \"type\": \"scattergeo\"}], \"scattergl\": [{\"marker\": {\"colorbar\": {\"outlinewidth\": 0, \"ticks\": \"\"}}, \"type\": \"scattergl\"}], \"scattermapbox\": [{\"marker\": {\"colorbar\": {\"outlinewidth\": 0, \"ticks\": \"\"}}, \"type\": \"scattermapbox\"}], \"scatterpolar\": [{\"marker\": {\"colorbar\": {\"outlinewidth\": 0, \"ticks\": \"\"}}, \"type\": \"scatterpolar\"}], \"scatterpolargl\": [{\"marker\": {\"colorbar\": {\"outlinewidth\": 0, \"ticks\": \"\"}}, \"type\": \"scatterpolargl\"}], \"scatterternary\": [{\"marker\": {\"colorbar\": {\"outlinewidth\": 0, \"ticks\": \"\"}}, \"type\": \"scatterternary\"}], \"surface\": [{\"colorbar\": {\"outlinewidth\": 0, \"ticks\": \"\"}, \"colorscale\": [[0.0, \"#0d0887\"], [0.1111111111111111, \"#46039f\"], [0.2222222222222222, \"#7201a8\"], [0.3333333333333333, \"#9c179e\"], [0.4444444444444444, \"#bd3786\"], [0.5555555555555556, \"#d8576b\"], [0.6666666666666666, \"#ed7953\"], [0.7777777777777778, \"#fb9f3a\"], [0.8888888888888888, \"#fdca26\"], [1.0, \"#f0f921\"]], \"type\": \"surface\"}], \"table\": [{\"cells\": {\"fill\": {\"color\": \"#EBF0F8\"}, \"line\": {\"color\": \"white\"}}, \"header\": {\"fill\": {\"color\": \"#C8D4E3\"}, \"line\": {\"color\": \"white\"}}, \"type\": \"table\"}]}, \"layout\": {\"annotationdefaults\": {\"arrowcolor\": \"#2a3f5f\", \"arrowhead\": 0, \"arrowwidth\": 1}, \"coloraxis\": {\"colorbar\": {\"outlinewidth\": 0, \"ticks\": \"\"}}, \"colorscale\": {\"diverging\": [[0, \"#8e0152\"], [0.1, \"#c51b7d\"], [0.2, \"#de77ae\"], [0.3, \"#f1b6da\"], [0.4, \"#fde0ef\"], [0.5, \"#f7f7f7\"], [0.6, \"#e6f5d0\"], [0.7, \"#b8e186\"], [0.8, \"#7fbc41\"], [0.9, \"#4d9221\"], [1, \"#276419\"]], \"sequential\": [[0.0, \"#0d0887\"], [0.1111111111111111, \"#46039f\"], [0.2222222222222222, \"#7201a8\"], [0.3333333333333333, \"#9c179e\"], [0.4444444444444444, \"#bd3786\"], [0.5555555555555556, \"#d8576b\"], [0.6666666666666666, \"#ed7953\"], [0.7777777777777778, \"#fb9f3a\"], [0.8888888888888888, \"#fdca26\"], [1.0, \"#f0f921\"]], \"sequentialminus\": [[0.0, \"#0d0887\"], [0.1111111111111111, \"#46039f\"], [0.2222222222222222, \"#7201a8\"], [0.3333333333333333, \"#9c179e\"], [0.4444444444444444, \"#bd3786\"], [0.5555555555555556, \"#d8576b\"], [0.6666666666666666, \"#ed7953\"], [0.7777777777777778, \"#fb9f3a\"], [0.8888888888888888, \"#fdca26\"], [1.0, \"#f0f921\"]]}, \"colorway\": [\"#636efa\", \"#EF553B\", \"#00cc96\", \"#ab63fa\", \"#FFA15A\", \"#19d3f3\", \"#FF6692\", \"#B6E880\", \"#FF97FF\", \"#FECB52\"], \"font\": {\"color\": \"#2a3f5f\"}, \"geo\": {\"bgcolor\": \"white\", \"lakecolor\": \"white\", \"landcolor\": \"#E5ECF6\", \"showlakes\": true, \"showland\": true, \"subunitcolor\": \"white\"}, \"hoverlabel\": {\"align\": \"left\"}, \"hovermode\": \"closest\", \"mapbox\": {\"style\": \"light\"}, \"paper_bgcolor\": \"white\", \"plot_bgcolor\": \"#E5ECF6\", \"polar\": {\"angularaxis\": {\"gridcolor\": \"white\", \"linecolor\": \"white\", \"ticks\": \"\"}, \"bgcolor\": \"#E5ECF6\", \"radialaxis\": {\"gridcolor\": \"white\", \"linecolor\": \"white\", \"ticks\": \"\"}}, \"scene\": {\"xaxis\": {\"backgroundcolor\": \"#E5ECF6\", \"gridcolor\": \"white\", \"gridwidth\": 2, \"linecolor\": \"white\", \"showbackground\": true, \"ticks\": \"\", \"zerolinecolor\": \"white\"}, \"yaxis\": {\"backgroundcolor\": \"#E5ECF6\", \"gridcolor\": \"white\", \"gridwidth\": 2, \"linecolor\": \"white\", \"showbackground\": true, \"ticks\": \"\", \"zerolinecolor\": \"white\"}, \"zaxis\": {\"backgroundcolor\": \"#E5ECF6\", \"gridcolor\": \"white\", \"gridwidth\": 2, \"linecolor\": \"white\", \"showbackground\": true, \"ticks\": \"\", \"zerolinecolor\": \"white\"}}, \"shapedefaults\": {\"line\": {\"color\": \"#2a3f5f\"}}, \"ternary\": {\"aaxis\": {\"gridcolor\": \"white\", \"linecolor\": \"white\", \"ticks\": \"\"}, \"baxis\": {\"gridcolor\": \"white\", \"linecolor\": \"white\", \"ticks\": \"\"}, \"bgcolor\": \"#E5ECF6\", \"caxis\": {\"gridcolor\": \"white\", \"linecolor\": \"white\", \"ticks\": \"\"}}, \"title\": {\"x\": 0.05}, \"xaxis\": {\"automargin\": true, \"gridcolor\": \"white\", \"linecolor\": \"white\", \"ticks\": \"\", \"title\": {\"standoff\": 15}, \"zerolinecolor\": \"white\", \"zerolinewidth\": 2}, \"yaxis\": {\"automargin\": true, \"gridcolor\": \"white\", \"linecolor\": \"white\", \"ticks\": \"\", \"title\": {\"standoff\": 15}, \"zerolinecolor\": \"white\", \"zerolinewidth\": 2}}}, \"title\": {\"text\": \"Top 10 worst affected countries\"}, \"width\": 1400, \"xaxis\": {\"anchor\": \"y\", \"domain\": [0.0, 1.0], \"title\": {\"text\": \"country\"}}, \"yaxis\": {\"anchor\": \"x\", \"domain\": [0.0, 1.0], \"title\": {\"text\": \"recovered\"}}},\n",
              "                        {\"responsive\": true}\n",
              "                    ).then(function(){\n",
              "                            \n",
              "var gd = document.getElementById('c790462b-091f-4c30-8d7a-4d1583e10f20');\n",
              "var x = new MutationObserver(function (mutations, observer) {{\n",
              "        var display = window.getComputedStyle(gd).display;\n",
              "        if (!display || display === 'none') {{\n",
              "            console.log([gd, 'removed!']);\n",
              "            Plotly.purge(gd);\n",
              "            observer.disconnect();\n",
              "        }}\n",
              "}});\n",
              "\n",
              "// Listen for the removal of the full notebook cells\n",
              "var notebookContainer = gd.closest('#notebook-container');\n",
              "if (notebookContainer) {{\n",
              "    x.observe(notebookContainer, {childList: true});\n",
              "}}\n",
              "\n",
              "// Listen for the clearing of the current output cell\n",
              "var outputEl = gd.closest('.output');\n",
              "if (outputEl) {{\n",
              "    x.observe(outputEl, {childList: true});\n",
              "}}\n",
              "\n",
              "                        })\n",
              "                };\n",
              "                \n",
              "            </script>\n",
              "        </div>\n",
              "</body>\n",
              "</html>"
            ]
          },
          "metadata": {}
        }
      ]
    },
    {
      "cell_type": "markdown",
      "metadata": {
        "id": "0IHWqySLXvOp"
      },
      "source": [
        "# Global spread of COVID-19"
      ]
    },
    {
      "cell_type": "code",
      "metadata": {
        "scrolled": true,
        "id": "uvagIxs1XvOq",
        "colab": {
          "base_uri": "https://localhost:8080/",
          "height": 398
        },
        "outputId": "7b391cea-bf53-4856-90b3-5da38f06f70d"
      },
      "source": [
        "\n",
        "world_map = folium.Map(location=[11,0], tiles=\"cartodbpositron\", zoom_start=2, max_zoom = 6, min_zoom = 2)\n",
        "\n",
        "\n",
        "for i in range(0,len(confirmed_df)):\n",
        "    folium.Circle(\n",
        "        location=[confirmed_df.iloc[i]['lat'], confirmed_df.iloc[i]['long']],\n",
        "        fill=True,\n",
        "        radius=(int((np.log(confirmed_df.iloc[i,-1]+1.00001)))+0.2)*50000,\n",
        "        color='red',\n",
        "        fill_color='indigo',\n",
        "        tooltip = \"<div style='margin: 0; background-color: black; color: white;'>\"+\n",
        "                    \"<h4 style='text-align:center;font-weight: bold'>\"+confirmed_df.iloc[i]['country'] + \"</h4>\"\n",
        "                    \"<hr style='margin:10px;color: white;'>\"+\n",
        "                    \"<ul style='color: white;;list-style-type:circle;align-item:left;padding-left:20px;padding-right:20px'>\"+\n",
        "                        \"<li>Confirmed: \"+str(confirmed_df.iloc[i,-1])+\"</li>\"+\n",
        "                        \"<li>Deaths:   \"+str(death_df.iloc[i,-1])+\"</li>\"+\n",
        "                        \"<li>Death Rate: \"+ str(np.round(death_df.iloc[i,-1]/(confirmed_df.iloc[i,-1]+1.00001)*100,2))+ \"</li>\"+\n",
        "                    \"</ul></div>\",\n",
        "        ).add_to(world_map)\n",
        "\n",
        "world_map\n"
      ],
      "execution_count": null,
      "outputs": [
        {
          "output_type": "error",
          "ename": "ValueError",
          "evalue": "ignored",
          "traceback": [
            "\u001b[0;31m---------------------------------------------------------------------------\u001b[0m",
            "\u001b[0;31mValueError\u001b[0m                                Traceback (most recent call last)",
            "\u001b[0;32m<ipython-input-31-aea1d9b1b94e>\u001b[0m in \u001b[0;36m<module>\u001b[0;34m()\u001b[0m\n\u001b[1;32m     17\u001b[0m                         \u001b[0;34m\"<li>Deaths:   \"\u001b[0m\u001b[0;34m+\u001b[0m\u001b[0mstr\u001b[0m\u001b[0;34m(\u001b[0m\u001b[0mdeath_df\u001b[0m\u001b[0;34m.\u001b[0m\u001b[0miloc\u001b[0m\u001b[0;34m[\u001b[0m\u001b[0mi\u001b[0m\u001b[0;34m,\u001b[0m\u001b[0;34m-\u001b[0m\u001b[0;36m1\u001b[0m\u001b[0;34m]\u001b[0m\u001b[0;34m)\u001b[0m\u001b[0;34m+\u001b[0m\u001b[0;34m\"</li>\"\u001b[0m\u001b[0;34m+\u001b[0m\u001b[0;34m\u001b[0m\u001b[0;34m\u001b[0m\u001b[0m\n\u001b[1;32m     18\u001b[0m                         \u001b[0;34m\"<li>Death Rate: \"\u001b[0m\u001b[0;34m+\u001b[0m \u001b[0mstr\u001b[0m\u001b[0;34m(\u001b[0m\u001b[0mnp\u001b[0m\u001b[0;34m.\u001b[0m\u001b[0mround\u001b[0m\u001b[0;34m(\u001b[0m\u001b[0mdeath_df\u001b[0m\u001b[0;34m.\u001b[0m\u001b[0miloc\u001b[0m\u001b[0;34m[\u001b[0m\u001b[0mi\u001b[0m\u001b[0;34m,\u001b[0m\u001b[0;34m-\u001b[0m\u001b[0;36m1\u001b[0m\u001b[0;34m]\u001b[0m\u001b[0;34m/\u001b[0m\u001b[0;34m(\u001b[0m\u001b[0mconfirmed_df\u001b[0m\u001b[0;34m.\u001b[0m\u001b[0miloc\u001b[0m\u001b[0;34m[\u001b[0m\u001b[0mi\u001b[0m\u001b[0;34m,\u001b[0m\u001b[0;34m-\u001b[0m\u001b[0;36m1\u001b[0m\u001b[0;34m]\u001b[0m\u001b[0;34m+\u001b[0m\u001b[0;36m1.00001\u001b[0m\u001b[0;34m)\u001b[0m\u001b[0;34m*\u001b[0m\u001b[0;36m100\u001b[0m\u001b[0;34m,\u001b[0m\u001b[0;36m2\u001b[0m\u001b[0;34m)\u001b[0m\u001b[0;34m)\u001b[0m\u001b[0;34m+\u001b[0m \u001b[0;34m\"</li>\"\u001b[0m\u001b[0;34m+\u001b[0m\u001b[0;34m\u001b[0m\u001b[0;34m\u001b[0m\u001b[0m\n\u001b[0;32m---> 19\u001b[0;31m                     \u001b[0;34m\"</ul></div>\"\u001b[0m\u001b[0;34m,\u001b[0m\u001b[0;34m\u001b[0m\u001b[0;34m\u001b[0m\u001b[0m\n\u001b[0m\u001b[1;32m     20\u001b[0m         ).add_to(world_map)\n\u001b[1;32m     21\u001b[0m \u001b[0;34m\u001b[0m\u001b[0m\n",
            "\u001b[0;32m/usr/local/lib/python3.7/dist-packages/folium/vector_layers.py\u001b[0m in \u001b[0;36m__init__\u001b[0;34m(self, location, radius, popup, tooltip, **kwargs)\u001b[0m\n\u001b[1;32m    270\u001b[0m     \u001b[0;32mdef\u001b[0m \u001b[0m__init__\u001b[0m\u001b[0;34m(\u001b[0m\u001b[0mself\u001b[0m\u001b[0;34m,\u001b[0m \u001b[0mlocation\u001b[0m\u001b[0;34m,\u001b[0m \u001b[0mradius\u001b[0m\u001b[0;34m,\u001b[0m \u001b[0mpopup\u001b[0m\u001b[0;34m=\u001b[0m\u001b[0;32mNone\u001b[0m\u001b[0;34m,\u001b[0m \u001b[0mtooltip\u001b[0m\u001b[0;34m=\u001b[0m\u001b[0;32mNone\u001b[0m\u001b[0;34m,\u001b[0m \u001b[0;34m**\u001b[0m\u001b[0mkwargs\u001b[0m\u001b[0;34m)\u001b[0m\u001b[0;34m:\u001b[0m\u001b[0;34m\u001b[0m\u001b[0;34m\u001b[0m\u001b[0m\n\u001b[1;32m    271\u001b[0m         super(Circle, self).__init__(location=location, popup=popup,\n\u001b[0;32m--> 272\u001b[0;31m                                      tooltip=tooltip)\n\u001b[0m\u001b[1;32m    273\u001b[0m         \u001b[0mself\u001b[0m\u001b[0;34m.\u001b[0m\u001b[0m_name\u001b[0m \u001b[0;34m=\u001b[0m \u001b[0;34m'circle'\u001b[0m\u001b[0;34m\u001b[0m\u001b[0;34m\u001b[0m\u001b[0m\n\u001b[1;32m    274\u001b[0m         \u001b[0mself\u001b[0m\u001b[0;34m.\u001b[0m\u001b[0moptions\u001b[0m \u001b[0;34m=\u001b[0m \u001b[0m_parse_options\u001b[0m\u001b[0;34m(\u001b[0m\u001b[0mline\u001b[0m\u001b[0;34m=\u001b[0m\u001b[0;32mFalse\u001b[0m\u001b[0;34m,\u001b[0m \u001b[0mradius\u001b[0m\u001b[0;34m=\u001b[0m\u001b[0mradius\u001b[0m\u001b[0;34m,\u001b[0m \u001b[0;34m**\u001b[0m\u001b[0mkwargs\u001b[0m\u001b[0;34m)\u001b[0m\u001b[0;34m\u001b[0m\u001b[0;34m\u001b[0m\u001b[0m\n",
            "\u001b[0;32m/usr/local/lib/python3.7/dist-packages/folium/map.py\u001b[0m in \u001b[0;36m__init__\u001b[0;34m(self, location, popup, tooltip, icon, draggable)\u001b[0m\n\u001b[1;32m    256\u001b[0m         \u001b[0msuper\u001b[0m\u001b[0;34m(\u001b[0m\u001b[0mMarker\u001b[0m\u001b[0;34m,\u001b[0m \u001b[0mself\u001b[0m\u001b[0;34m)\u001b[0m\u001b[0;34m.\u001b[0m\u001b[0m__init__\u001b[0m\u001b[0;34m(\u001b[0m\u001b[0;34m)\u001b[0m\u001b[0;34m\u001b[0m\u001b[0;34m\u001b[0m\u001b[0m\n\u001b[1;32m    257\u001b[0m         \u001b[0mself\u001b[0m\u001b[0;34m.\u001b[0m\u001b[0m_name\u001b[0m \u001b[0;34m=\u001b[0m \u001b[0;34m'Marker'\u001b[0m\u001b[0;34m\u001b[0m\u001b[0;34m\u001b[0m\u001b[0m\n\u001b[0;32m--> 258\u001b[0;31m         \u001b[0mself\u001b[0m\u001b[0;34m.\u001b[0m\u001b[0mlocation\u001b[0m \u001b[0;34m=\u001b[0m \u001b[0m_validate_coordinates\u001b[0m\u001b[0;34m(\u001b[0m\u001b[0mlocation\u001b[0m\u001b[0;34m)\u001b[0m\u001b[0;34m\u001b[0m\u001b[0;34m\u001b[0m\u001b[0m\n\u001b[0m\u001b[1;32m    259\u001b[0m         \u001b[0mself\u001b[0m\u001b[0;34m.\u001b[0m\u001b[0mdraggable\u001b[0m \u001b[0;34m=\u001b[0m \u001b[0mdraggable\u001b[0m\u001b[0;34m\u001b[0m\u001b[0;34m\u001b[0m\u001b[0m\n\u001b[1;32m    260\u001b[0m         \u001b[0;32mif\u001b[0m \u001b[0micon\u001b[0m \u001b[0;32mis\u001b[0m \u001b[0;32mnot\u001b[0m \u001b[0;32mNone\u001b[0m\u001b[0;34m:\u001b[0m\u001b[0;34m\u001b[0m\u001b[0;34m\u001b[0m\u001b[0m\n",
            "\u001b[0;32m/usr/local/lib/python3.7/dist-packages/folium/utilities.py\u001b[0m in \u001b[0;36m_validate_coordinates\u001b[0;34m(coordinates)\u001b[0m\n\u001b[1;32m     53\u001b[0m     \u001b[0;32mif\u001b[0m \u001b[0m_isnan\u001b[0m\u001b[0;34m(\u001b[0m\u001b[0mcoordinates\u001b[0m\u001b[0;34m)\u001b[0m\u001b[0;34m:\u001b[0m\u001b[0;34m\u001b[0m\u001b[0;34m\u001b[0m\u001b[0m\n\u001b[1;32m     54\u001b[0m         raise ValueError('Location values cannot contain NaNs, '\n\u001b[0;32m---> 55\u001b[0;31m                          'got:\\n{!r}'.format(coordinates))\n\u001b[0m\u001b[1;32m     56\u001b[0m     \u001b[0mcoordinates\u001b[0m \u001b[0;34m=\u001b[0m \u001b[0m_iter_tolist\u001b[0m\u001b[0;34m(\u001b[0m\u001b[0mcoordinates\u001b[0m\u001b[0;34m)\u001b[0m\u001b[0;34m\u001b[0m\u001b[0;34m\u001b[0m\u001b[0m\n\u001b[1;32m     57\u001b[0m     \u001b[0;32mreturn\u001b[0m \u001b[0mcoordinates\u001b[0m\u001b[0;34m\u001b[0m\u001b[0;34m\u001b[0m\u001b[0m\n",
            "\u001b[0;31mValueError\u001b[0m: Location values cannot contain NaNs, got:\n[nan, nan]"
          ]
        }
      ]
    },
    {
      "cell_type": "code",
      "metadata": {
        "id": "ECt2qcFoMITQ"
      },
      "source": [
        ""
      ],
      "execution_count": null,
      "outputs": []
    },
    {
      "cell_type": "markdown",
      "metadata": {
        "id": "dLRiAoY6XvOq"
      },
      "source": [
        " "
      ]
    },
    {
      "cell_type": "code",
      "metadata": {
        "id": "2GEjTOtiXvOq"
      },
      "source": [
        ""
      ],
      "execution_count": null,
      "outputs": []
    }
  ]
}